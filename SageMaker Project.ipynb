{
 "cells": [
  {
   "cell_type": "markdown",
   "metadata": {},
   "source": [
    "# Creating a Sentiment Analysis Web App\n",
    "## Using PyTorch and SageMaker\n",
    "\n",
    "_Deep Learning Nanodegree Program | Deployment_\n",
    "\n",
    "---\n",
    "\n",
    "Now that we have a basic understanding of how SageMaker works we will try to use it to construct a complete project from end to end. Our goal will be to have a simple web page which a user can use to enter a movie review. The web page will then send the review off to our deployed model which will predict the sentiment of the entered review.\n",
    "\n",
    "## Instructions\n",
    "\n",
    "Some template code has already been provided for you, and you will need to implement additional functionality to successfully complete this notebook. You will not need to modify the included code beyond what is requested. Sections that begin with '**TODO**' in the header indicate that you need to complete or implement some portion within them. Instructions will be provided for each section and the specifics of the implementation are marked in the code block with a `# TODO: ...` comment. Please be sure to read the instructions carefully!\n",
    "\n",
    "In addition to implementing code, there will be questions for you to answer which relate to the task and your implementation. Each section where you will answer a question is preceded by a '**Question:**' header. Carefully read each question and provide your answer below the '**Answer:**' header by editing the Markdown cell.\n",
    "\n",
    "> **Note**: Code and Markdown cells can be executed using the **Shift+Enter** keyboard shortcut. In addition, a cell can be edited by typically clicking it (double-click for Markdown cells) or by pressing **Enter** while it is highlighted.\n",
    "\n",
    "## General Outline\n",
    "\n",
    "Recall the general outline for SageMaker projects using a notebook instance.\n",
    "\n",
    "1. Download or otherwise retrieve the data.\n",
    "2. Process / Prepare the data.\n",
    "3. Upload the processed data to S3.\n",
    "4. Train a chosen model.\n",
    "5. Test the trained model (typically using a batch transform job).\n",
    "6. Deploy the trained model.\n",
    "7. Use the deployed model.\n",
    "\n",
    "For this project, you will be following the steps in the general outline with some modifications. \n",
    "\n",
    "First, you will not be testing the model in its own step. You will still be testing the model, however, you will do it by deploying your model and then using the deployed model by sending the test data to it. One of the reasons for doing this is so that you can make sure that your deployed model is working correctly before moving forward.\n",
    "\n",
    "In addition, you will deploy and use your trained model a second time. In the second iteration you will customize the way that your trained model is deployed by including some of your own code. In addition, your newly deployed model will be used in the sentiment analysis web app."
   ]
  },
  {
   "cell_type": "markdown",
   "metadata": {},
   "source": [
    "## Step 1: Downloading the data\n",
    "\n",
    "As in the XGBoost in SageMaker notebook, we will be using the [IMDb dataset](http://ai.stanford.edu/~amaas/data/sentiment/)\n",
    "\n",
    "> Maas, Andrew L., et al. [Learning Word Vectors for Sentiment Analysis](http://ai.stanford.edu/~amaas/data/sentiment/). In _Proceedings of the 49th Annual Meeting of the Association for Computational Linguistics: Human Language Technologies_. Association for Computational Linguistics, 2011."
   ]
  },
  {
   "cell_type": "code",
   "execution_count": 1,
   "metadata": {},
   "outputs": [
    {
     "name": "stdout",
     "output_type": "stream",
     "text": [
      "mkdir: cannot create directory ‘../data’: File exists\n",
      "--2019-06-30 11:01:16--  http://ai.stanford.edu/~amaas/data/sentiment/aclImdb_v1.tar.gz\n",
      "Resolving ai.stanford.edu (ai.stanford.edu)... 171.64.68.10\n",
      "Connecting to ai.stanford.edu (ai.stanford.edu)|171.64.68.10|:80... connected.\n",
      "HTTP request sent, awaiting response... 200 OK\n",
      "Length: 84125825 (80M) [application/x-gzip]\n",
      "Saving to: ‘../data/aclImdb_v1.tar.gz’\n",
      "\n",
      "../data/aclImdb_v1. 100%[===================>]  80.23M  15.0MB/s    in 7.4s    \n",
      "\n",
      "2019-06-30 11:01:24 (10.9 MB/s) - ‘../data/aclImdb_v1.tar.gz’ saved [84125825/84125825]\n",
      "\n"
     ]
    }
   ],
   "source": [
    "%mkdir ../data\n",
    "!wget -O ../data/aclImdb_v1.tar.gz http://ai.stanford.edu/~amaas/data/sentiment/aclImdb_v1.tar.gz\n",
    "!tar -zxf ../data/aclImdb_v1.tar.gz -C ../data"
   ]
  },
  {
   "cell_type": "markdown",
   "metadata": {},
   "source": [
    "## Step 2: Preparing and Processing the data\n",
    "\n",
    "Also, as in the XGBoost notebook, we will be doing some initial data processing. The first few steps are the same as in the XGBoost example. To begin with, we will read in each of the reviews and combine them into a single input structure. Then, we will split the dataset into a training set and a testing set."
   ]
  },
  {
   "cell_type": "code",
   "execution_count": 2,
   "metadata": {},
   "outputs": [],
   "source": [
    "import os\n",
    "import glob\n",
    "\n",
    "def read_imdb_data(data_dir='../data/aclImdb'):\n",
    "    data = {}\n",
    "    labels = {}\n",
    "    \n",
    "    for data_type in ['train', 'test']:\n",
    "        data[data_type] = {}\n",
    "        labels[data_type] = {}\n",
    "        \n",
    "        for sentiment in ['pos', 'neg']:\n",
    "            data[data_type][sentiment] = []\n",
    "            labels[data_type][sentiment] = []\n",
    "            \n",
    "            path = os.path.join(data_dir, data_type, sentiment, '*.txt')\n",
    "            files = glob.glob(path)\n",
    "            \n",
    "            for f in files:\n",
    "                with open(f) as review:\n",
    "                    data[data_type][sentiment].append(review.read())\n",
    "                    # Here we represent a positive review by '1' and a negative review by '0'\n",
    "                    labels[data_type][sentiment].append(1 if sentiment == 'pos' else 0)\n",
    "                    \n",
    "            assert len(data[data_type][sentiment]) == len(labels[data_type][sentiment]), \\\n",
    "                    \"{}/{} data size does not match labels size\".format(data_type, sentiment)\n",
    "                \n",
    "    return data, labels"
   ]
  },
  {
   "cell_type": "code",
   "execution_count": 3,
   "metadata": {},
   "outputs": [
    {
     "name": "stdout",
     "output_type": "stream",
     "text": [
      "IMDB reviews: train = 12500 pos / 12500 neg, test = 12500 pos / 12500 neg\n"
     ]
    }
   ],
   "source": [
    "data, labels = read_imdb_data()\n",
    "print(\"IMDB reviews: train = {} pos / {} neg, test = {} pos / {} neg\".format(\n",
    "            len(data['train']['pos']), len(data['train']['neg']),\n",
    "            len(data['test']['pos']), len(data['test']['neg'])))"
   ]
  },
  {
   "cell_type": "markdown",
   "metadata": {},
   "source": [
    "Now that we've read the raw training and testing data from the downloaded dataset, we will combine the positive and negative reviews and shuffle the resulting records."
   ]
  },
  {
   "cell_type": "code",
   "execution_count": 4,
   "metadata": {},
   "outputs": [],
   "source": [
    "from sklearn.utils import shuffle\n",
    "\n",
    "def prepare_imdb_data(data, labels):\n",
    "    \"\"\"Prepare training and test sets from IMDb movie reviews.\"\"\"\n",
    "    \n",
    "    #Combine positive and negative reviews and labels\n",
    "    data_train = data['train']['pos'] + data['train']['neg']\n",
    "    data_test = data['test']['pos'] + data['test']['neg']\n",
    "    labels_train = labels['train']['pos'] + labels['train']['neg']\n",
    "    labels_test = labels['test']['pos'] + labels['test']['neg']\n",
    "    \n",
    "    #Shuffle reviews and corresponding labels within training and test sets\n",
    "    data_train, labels_train = shuffle(data_train, labels_train)\n",
    "    data_test, labels_test = shuffle(data_test, labels_test)\n",
    "    \n",
    "    # Return a unified training data, test data, training labels, test labets\n",
    "    return data_train, data_test, labels_train, labels_test"
   ]
  },
  {
   "cell_type": "code",
   "execution_count": 5,
   "metadata": {},
   "outputs": [
    {
     "name": "stdout",
     "output_type": "stream",
     "text": [
      "IMDb reviews (combined): train = 25000, test = 25000\n"
     ]
    }
   ],
   "source": [
    "train_X, test_X, train_y, test_y = prepare_imdb_data(data, labels)\n",
    "print(\"IMDb reviews (combined): train = {}, test = {}\".format(len(train_X), len(test_X)))"
   ]
  },
  {
   "cell_type": "markdown",
   "metadata": {},
   "source": [
    "Now that we have our training and testing sets unified and prepared, we should do a quick check and see an example of the data our model will be trained on. This is generally a good idea as it allows you to see how each of the further processing steps affects the reviews and it also ensures that the data has been loaded correctly."
   ]
  },
  {
   "cell_type": "code",
   "execution_count": 6,
   "metadata": {},
   "outputs": [
    {
     "name": "stdout",
     "output_type": "stream",
     "text": [
      "The beginning of this movie is excellent with tremendous sound and some nice humor, but once the film changes into animation it quickly loses its appeal.<br /><br />One of the reasons that was so, at least for me, was that the colors in much of the animation are too muted, with too little contrast. It doesn't look good, at least on VHS. Once in a while it breaks out and looks great, but not often Also, the characters come and go too quickly. For example, I would have liked to have seen more of \"Moby Dick.\" When the film starts to drag, however, it picks up again with the entrance of the dragon and then the film finishes strong. <br /><br />Overall, just not memorable enough or able to compete with the great animated films of the last dozen years.\n",
      "0\n"
     ]
    }
   ],
   "source": [
    "print(train_X[100])\n",
    "print(train_y[100])"
   ]
  },
  {
   "cell_type": "markdown",
   "metadata": {},
   "source": [
    "The first step in processing the reviews is to make sure that any html tags that appear should be removed. In addition we wish to tokenize our input, that way words such as *entertained* and *entertaining* are considered the same with regard to sentiment analysis."
   ]
  },
  {
   "cell_type": "code",
   "execution_count": 7,
   "metadata": {},
   "outputs": [],
   "source": [
    "import nltk\n",
    "from nltk.corpus import stopwords\n",
    "from nltk.stem.porter import *\n",
    "\n",
    "import re\n",
    "from bs4 import BeautifulSoup\n",
    "\n",
    "def review_to_words(review):\n",
    "    nltk.download(\"stopwords\", quiet=True)\n",
    "    stemmer = PorterStemmer()\n",
    "    \n",
    "    text = BeautifulSoup(review, \"html.parser\").get_text() # Remove HTML tags\n",
    "    text = re.sub(r\"[^a-zA-Z0-9]\", \" \", text.lower()) # Convert to lower case\n",
    "    words = text.split() # Split string into words\n",
    "    words = [w for w in words if w not in stopwords.words(\"english\")] # Remove stopwords\n",
    "    words = [PorterStemmer().stem(w) for w in words] # stem\n",
    "    \n",
    "    return words"
   ]
  },
  {
   "cell_type": "markdown",
   "metadata": {},
   "source": [
    "The `review_to_words` method defined above uses `BeautifulSoup` to remove any html tags that appear and uses the `nltk` package to tokenize the reviews. As a check to ensure we know how everything is working, try applying `review_to_words` to one of the reviews in the training set."
   ]
  },
  {
   "cell_type": "code",
   "execution_count": 8,
   "metadata": {},
   "outputs": [
    {
     "data": {
      "text/plain": [
       "['begin',\n",
       " 'movi',\n",
       " 'excel',\n",
       " 'tremend',\n",
       " 'sound',\n",
       " 'nice',\n",
       " 'humor',\n",
       " 'film',\n",
       " 'chang',\n",
       " 'anim',\n",
       " 'quickli',\n",
       " 'lose',\n",
       " 'appeal',\n",
       " 'one',\n",
       " 'reason',\n",
       " 'least',\n",
       " 'color',\n",
       " 'much',\n",
       " 'anim',\n",
       " 'mute',\n",
       " 'littl',\n",
       " 'contrast',\n",
       " 'look',\n",
       " 'good',\n",
       " 'least',\n",
       " 'vh',\n",
       " 'break',\n",
       " 'look',\n",
       " 'great',\n",
       " 'often',\n",
       " 'also',\n",
       " 'charact',\n",
       " 'come',\n",
       " 'go',\n",
       " 'quickli',\n",
       " 'exampl',\n",
       " 'would',\n",
       " 'like',\n",
       " 'seen',\n",
       " 'mobi',\n",
       " 'dick',\n",
       " 'film',\n",
       " 'start',\n",
       " 'drag',\n",
       " 'howev',\n",
       " 'pick',\n",
       " 'entranc',\n",
       " 'dragon',\n",
       " 'film',\n",
       " 'finish',\n",
       " 'strong',\n",
       " 'overal',\n",
       " 'memor',\n",
       " 'enough',\n",
       " 'abl',\n",
       " 'compet',\n",
       " 'great',\n",
       " 'anim',\n",
       " 'film',\n",
       " 'last',\n",
       " 'dozen',\n",
       " 'year']"
      ]
     },
     "execution_count": 8,
     "metadata": {},
     "output_type": "execute_result"
    }
   ],
   "source": [
    "# TODO: Apply review_to_words to a review (train_X[100] or any other review)\n",
    "review_to_words(train_X[100])"
   ]
  },
  {
   "cell_type": "markdown",
   "metadata": {},
   "source": [
    "**Question:** Above we mentioned that `review_to_words` method removes html formatting and allows us to tokenize the words found in a review, for example, converting *entertained* and *entertaining* into *entertain* so that they are treated as though they are the same word. What else, if anything, does this method do to the input?"
   ]
  },
  {
   "cell_type": "markdown",
   "metadata": {},
   "source": [
    "**Answer:**\n",
    "\n",
    "This method will remove html tags, split document into into words, keep only alphanumeric characters, lower case every words, remove 'stop words', stem words, and return desired list of words for further analysis.    "
   ]
  },
  {
   "cell_type": "markdown",
   "metadata": {},
   "source": [
    "The method below applies the `review_to_words` method to each of the reviews in the training and testing datasets. In addition it caches the results. This is because performing this processing step can take a long time. This way if you are unable to complete the notebook in the current session, you can come back without needing to process the data a second time."
   ]
  },
  {
   "cell_type": "code",
   "execution_count": 9,
   "metadata": {},
   "outputs": [],
   "source": [
    "import pickle\n",
    "\n",
    "cache_dir = os.path.join(\"../cache\", \"sentiment_analysis\")  # where to store cache files\n",
    "os.makedirs(cache_dir, exist_ok=True)  # ensure cache directory exists\n",
    "\n",
    "def preprocess_data(data_train, data_test, labels_train, labels_test,\n",
    "                    cache_dir=cache_dir, cache_file=\"preprocessed_data.pkl\"):\n",
    "    \"\"\"Convert each review to words; read from cache if available.\"\"\"\n",
    "\n",
    "    # If cache_file is not None, try to read from it first\n",
    "    cache_data = None\n",
    "    if cache_file is not None:\n",
    "        try:\n",
    "            with open(os.path.join(cache_dir, cache_file), \"rb\") as f:\n",
    "                cache_data = pickle.load(f)\n",
    "            print(\"Read preprocessed data from cache file:\", cache_file)\n",
    "        except:\n",
    "            pass  # unable to read from cache, but that's okay\n",
    "    \n",
    "    # If cache is missing, then do the heavy lifting\n",
    "    if cache_data is None:\n",
    "        # Preprocess training and test data to obtain words for each review\n",
    "        #words_train = list(map(review_to_words, data_train))\n",
    "        #words_test = list(map(review_to_words, data_test))\n",
    "        words_train = [review_to_words(review) for review in data_train]\n",
    "        words_test = [review_to_words(review) for review in data_test]\n",
    "        \n",
    "        # Write to cache file for future runs\n",
    "        if cache_file is not None:\n",
    "            cache_data = dict(words_train=words_train, words_test=words_test,\n",
    "                              labels_train=labels_train, labels_test=labels_test)\n",
    "            with open(os.path.join(cache_dir, cache_file), \"wb\") as f:\n",
    "                pickle.dump(cache_data, f)\n",
    "            print(\"Wrote preprocessed data to cache file:\", cache_file)\n",
    "    else:\n",
    "        # Unpack data loaded from cache file\n",
    "        words_train, words_test, labels_train, labels_test = (cache_data['words_train'],\n",
    "                cache_data['words_test'], cache_data['labels_train'], cache_data['labels_test'])\n",
    "    \n",
    "    return words_train, words_test, labels_train, labels_test"
   ]
  },
  {
   "cell_type": "code",
   "execution_count": 10,
   "metadata": {},
   "outputs": [
    {
     "name": "stdout",
     "output_type": "stream",
     "text": [
      "Read preprocessed data from cache file: preprocessed_data.pkl\n"
     ]
    }
   ],
   "source": [
    "# Preprocess data\n",
    "train_X, test_X, train_y, test_y = preprocess_data(train_X, test_X, train_y, test_y)"
   ]
  },
  {
   "cell_type": "markdown",
   "metadata": {},
   "source": [
    "## Transform the data\n",
    "\n",
    "In the XGBoost notebook we transformed the data from its word representation to a bag-of-words feature representation. For the model we are going to construct in this notebook we will construct a feature representation which is very similar. To start, we will represent each word as an integer. Of course, some of the words that appear in the reviews occur very infrequently and so likely don't contain much information for the purposes of sentiment analysis. The way we will deal with this problem is that we will fix the size of our working vocabulary and we will only include the words that appear most frequently. We will then combine all of the infrequent words into a single category and, in our case, we will label it as `1`.\n",
    "\n",
    "Since we will be using a recurrent neural network, it will be convenient if the length of each review is the same. To do this, we will fix a size for our reviews and then pad short reviews with the category 'no word' (which we will label `0`) and truncate long reviews."
   ]
  },
  {
   "cell_type": "markdown",
   "metadata": {},
   "source": [
    "### (TODO) Create a word dictionary\n",
    "\n",
    "To begin with, we need to construct a way to map words that appear in the reviews to integers. Here we fix the size of our vocabulary (including the 'no word' and 'infrequent' categories) to be `5000` but you may wish to change this to see how it affects the model.\n",
    "\n",
    "> **TODO:** Complete the implementation for the `build_dict()` method below. Note that even though the vocab_size is set to `5000`, we only want to construct a mapping for the most frequently appearing `4998` words. This is because we want to reserve the special labels `0` for 'no word' and `1` for 'infrequent word'."
   ]
  },
  {
   "cell_type": "code",
   "execution_count": 12,
   "metadata": {},
   "outputs": [],
   "source": [
    "import numpy as np\n",
    "\n",
    "def build_dict(data, vocab_size = 5000):\n",
    "    \"\"\"Construct and return a dictionary mapping each of the most frequently appearing words to a unique integer.\"\"\"\n",
    "    \n",
    "    # TODO: Determine how often each word appears in `data`. Note that `data` is a list of sentences and that a\n",
    "    #       sentence is a list of words.\n",
    "    \n",
    "    word_count = {} # A dict storing the words that appear in the reviews along with how often they occur\n",
    "    \n",
    "    for sentense in data:\n",
    "        for word in sentense:\n",
    "            if word in word_count:\n",
    "                word_count[word] += 1\n",
    "            else:\n",
    "                word_count[word] = 1\n",
    "       \n",
    "    \n",
    "    \n",
    "    # TODO: Sort the words found in `data` so that sorted_words[0] is the most frequently appearing word and\n",
    "    #       sorted_words[-1] is the least frequently appearing word.\n",
    "    \n",
    "    sorted_words = [item[0] for item in sorted(word_count.items(), key=lambda x: x[1], reverse=True)]\n",
    "    \n",
    "    word_dict = {} # This is what we are building, a dictionary that translates words into integers\n",
    "    for idx, word in enumerate(sorted_words[:vocab_size - 2]): # The -2 is so that we save room for the 'no word'\n",
    "        word_dict[word] = idx + 2                              # 'infrequent' labels\n",
    "        \n",
    "    return word_dict\n"
   ]
  },
  {
   "cell_type": "code",
   "execution_count": 13,
   "metadata": {},
   "outputs": [
    {
     "name": "stdout",
     "output_type": "stream",
     "text": [
      "{'movi': 2, 'film': 3, 'one': 4, 'like': 5, 'time': 6, 'good': 7, 'make': 8, 'charact': 9, 'get': 10, 'see': 11, 'watch': 12, 'stori': 13, 'even': 14, 'would': 15, 'realli': 16, 'well': 17, 'scene': 18, 'look': 19, 'show': 20, 'much': 21, 'end': 22, 'peopl': 23, 'bad': 24, 'go': 25, 'great': 26, 'also': 27, 'first': 28, 'love': 29, 'think': 30, 'way': 31, 'act': 32, 'play': 33, 'made': 34, 'thing': 35, 'could': 36, 'know': 37, 'say': 38, 'seem': 39, 'work': 40, 'plot': 41, 'two': 42, 'actor': 43, 'year': 44, 'come': 45, 'mani': 46, 'seen': 47, 'take': 48, 'life': 49, 'want': 50, 'never': 51, 'littl': 52, 'best': 53, 'tri': 54, 'man': 55, 'ever': 56, 'give': 57, 'better': 58, 'still': 59, 'perform': 60, 'find': 61, 'feel': 62, 'part': 63, 'back': 64, 'use': 65, 'someth': 66, 'director': 67, 'actual': 68, 'interest': 69, 'lot': 70, 'real': 71, 'old': 72, 'cast': 73, 'though': 74, 'live': 75, 'star': 76, 'enjoy': 77, 'guy': 78, 'anoth': 79, 'new': 80, 'role': 81, 'noth': 82, '10': 83, 'funni': 84, 'music': 85, 'point': 86, 'start': 87, 'set': 88, 'girl': 89, 'origin': 90, 'day': 91, 'world': 92, 'everi': 93, 'believ': 94, 'turn': 95, 'quit': 96, 'direct': 97, 'us': 98, 'thought': 99, 'fact': 100, 'minut': 101, 'horror': 102, 'kill': 103, 'action': 104, 'comedi': 105, 'pretti': 106, 'young': 107, 'wonder': 108, 'happen': 109, 'around': 110, 'got': 111, 'effect': 112, 'right': 113, 'long': 114, 'howev': 115, 'big': 116, 'line': 117, 'famili': 118, 'enough': 119, 'seri': 120, 'may': 121, 'need': 122, 'fan': 123, 'bit': 124, 'script': 125, 'beauti': 126, 'person': 127, 'becom': 128, 'without': 129, 'must': 130, 'alway': 131, 'friend': 132, 'tell': 133, 'reason': 134, 'saw': 135, 'last': 136, 'final': 137, 'kid': 138, 'almost': 139, 'put': 140, 'least': 141, 'sure': 142, 'done': 143, 'whole': 144, 'place': 145, 'complet': 146, 'kind': 147, 'expect': 148, 'differ': 149, 'shot': 150, 'far': 151, 'mean': 152, 'anyth': 153, 'book': 154, 'laugh': 155, 'might': 156, 'name': 157, 'sinc': 158, 'begin': 159, '2': 160, 'probabl': 161, 'woman': 162, 'help': 163, 'entertain': 164, 'let': 165, 'screen': 166, 'call': 167, 'tv': 168, 'moment': 169, 'away': 170, 'read': 171, 'yet': 172, 'rather': 173, 'worst': 174, 'run': 175, 'fun': 176, 'lead': 177, 'hard': 178, 'audienc': 179, 'idea': 180, 'anyon': 181, 'episod': 182, 'american': 183, 'found': 184, 'appear': 185, 'bore': 186, 'especi': 187, 'although': 188, 'hope': 189, 'keep': 190, 'cours': 191, 'anim': 192, 'job': 193, 'goe': 194, 'move': 195, 'sens': 196, 'version': 197, 'dvd': 198, 'war': 199, 'money': 200, 'someon': 201, 'mind': 202, 'mayb': 203, 'problem': 204, 'true': 205, 'hous': 206, 'everyth': 207, 'nice': 208, 'second': 209, 'rate': 210, 'three': 211, 'night': 212, 'face': 213, 'follow': 214, 'recommend': 215, 'product': 216, 'main': 217, 'worth': 218, 'leav': 219, 'human': 220, 'special': 221, 'excel': 222, 'togeth': 223, 'wast': 224, 'sound': 225, 'everyon': 226, 'john': 227, 'hand': 228, '1': 229, 'father': 230, 'later': 231, 'eye': 232, 'said': 233, 'view': 234, 'instead': 235, 'review': 236, 'boy': 237, 'high': 238, 'hour': 239, 'miss': 240, 'talk': 241, 'classic': 242, 'wife': 243, 'understand': 244, 'left': 245, 'care': 246, 'black': 247, 'death': 248, 'open': 249, 'murder': 250, 'write': 251, 'half': 252, 'head': 253, 'rememb': 254, 'chang': 255, 'viewer': 256, 'fight': 257, 'gener': 258, 'surpris': 259, 'includ': 260, 'short': 261, 'die': 262, 'fall': 263, 'less': 264, 'els': 265, 'entir': 266, 'piec': 267, 'involv': 268, 'pictur': 269, 'simpli': 270, 'top': 271, 'home': 272, 'power': 273, 'total': 274, 'usual': 275, 'budget': 276, 'attempt': 277, 'suppos': 278, 'releas': 279, 'hollywood': 280, 'terribl': 281, 'song': 282, 'men': 283, 'possibl': 284, 'featur': 285, 'portray': 286, 'disappoint': 287, 'poor': 288, '3': 289, 'coupl': 290, 'stupid': 291, 'camera': 292, 'dead': 293, 'wrong': 294, 'low': 295, 'produc': 296, 'either': 297, 'video': 298, 'aw': 299, 'definit': 300, 'except': 301, 'rest': 302, 'given': 303, 'absolut': 304, 'women': 305, 'lack': 306, 'word': 307, 'writer': 308, 'titl': 309, 'talent': 310, 'decid': 311, 'full': 312, 'perfect': 313, 'along': 314, 'style': 315, 'close': 316, 'truli': 317, 'school': 318, 'save': 319, 'emot': 320, 'age': 321, 'sex': 322, 'next': 323, 'bring': 324, 'mr': 325, 'case': 326, 'killer': 327, 'heart': 328, 'comment': 329, 'sort': 330, 'creat': 331, 'perhap': 332, 'came': 333, 'brother': 334, 'sever': 335, 'joke': 336, 'art': 337, 'dialogu': 338, 'game': 339, 'small': 340, 'base': 341, 'flick': 342, 'written': 343, 'sequenc': 344, 'meet': 345, 'earli': 346, 'often': 347, 'other': 348, 'mother': 349, 'develop': 350, 'humor': 351, 'actress': 352, 'consid': 353, 'dark': 354, 'guess': 355, 'amaz': 356, 'unfortun': 357, 'light': 358, 'lost': 359, 'exampl': 360, 'cinema': 361, 'drama': 362, 'white': 363, 'ye': 364, 'experi': 365, 'imagin': 366, 'mention': 367, 'stop': 368, 'natur': 369, 'forc': 370, 'manag': 371, 'felt': 372, 'cut': 373, 'present': 374, 'children': 375, 'fail': 376, 'son': 377, 'qualiti': 378, 'support': 379, 'car': 380, 'ask': 381, 'hit': 382, 'side': 383, 'voic': 384, 'extrem': 385, 'impress': 386, 'evil': 387, 'wors': 388, 'went': 389, 'stand': 390, 'certainli': 391, 'basic': 392, 'oh': 393, 'overal': 394, 'favorit': 395, 'horribl': 396, 'mysteri': 397, 'number': 398, 'type': 399, 'danc': 400, 'wait': 401, 'hero': 402, 'alreadi': 403, '5': 404, 'learn': 405, 'matter': 406, '4': 407, 'michael': 408, 'genr': 409, 'fine': 410, 'despit': 411, 'throughout': 412, 'walk': 413, 'success': 414, 'histori': 415, 'question': 416, 'zombi': 417, 'town': 418, 'relationship': 419, 'realiz': 420, 'child': 421, 'past': 422, 'daughter': 423, 'late': 424, 'b': 425, 'wish': 426, 'hate': 427, 'credit': 428, 'event': 429, 'theme': 430, 'touch': 431, 'citi': 432, 'today': 433, 'sometim': 434, 'behind': 435, 'god': 436, 'twist': 437, 'sit': 438, 'annoy': 439, 'deal': 440, 'stay': 441, 'abl': 442, 'rent': 443, 'pleas': 444, 'edit': 445, 'blood': 446, 'deserv': 447, 'comic': 448, 'anyway': 449, 'appar': 450, 'soon': 451, 'gave': 452, 'etc': 453, 'level': 454, 'slow': 455, 'chanc': 456, 'score': 457, 'bodi': 458, 'brilliant': 459, 'incred': 460, 'figur': 461, 'situat': 462, 'major': 463, 'self': 464, 'stuff': 465, 'decent': 466, 'element': 467, 'return': 468, 'dream': 469, 'obvious': 470, 'continu': 471, 'order': 472, 'pace': 473, 'ridicul': 474, 'happi': 475, 'highli': 476, 'group': 477, 'add': 478, 'thank': 479, 'ladi': 480, 'novel': 481, 'pain': 482, 'speak': 483, 'career': 484, 'shoot': 485, 'strang': 486, 'heard': 487, 'sad': 488, 'polic': 489, 'husband': 490, 'import': 491, 'break': 492, 'took': 493, 'cannot': 494, 'strong': 495, 'predict': 496, 'robert': 497, 'violenc': 498, 'hilari': 499, 'recent': 500, 'countri': 501, 'known': 502, 'particularli': 503, 'pick': 504, 'documentari': 505, 'season': 506, 'critic': 507, 'jame': 508, 'compar': 509, 'obviou': 510, 'alon': 511, 'told': 512, 'state': 513, 'rock': 514, 'visual': 515, 'offer': 516, 'theater': 517, 'exist': 518, 'opinion': 519, 'gore': 520, 'hold': 521, 'crap': 522, 'result': 523, 'room': 524, 'hear': 525, 'realiti': 526, 'effort': 527, 'clich': 528, 'thriller': 529, 'caus': 530, 'serious': 531, 'sequel': 532, 'explain': 533, 'king': 534, 'local': 535, 'ago': 536, 'hell': 537, 'none': 538, 'note': 539, 'allow': 540, 'david': 541, 'sister': 542, 'simpl': 543, 'femal': 544, 'deliv': 545, 'ok': 546, 'convinc': 547, 'class': 548, 'check': 549, 'suspens': 550, 'win': 551, 'oscar': 552, 'buy': 553, 'huge': 554, 'valu': 555, 'sexual': 556, 'scari': 557, 'cool': 558, 'excit': 559, 'similar': 560, 'apart': 561, 'exactli': 562, 'provid': 563, 'avoid': 564, 'shown': 565, 'seriou': 566, 'english': 567, 'taken': 568, 'whose': 569, 'cinematographi': 570, 'shock': 571, 'polit': 572, 'spoiler': 573, 'offic': 574, 'across': 575, 'middl': 576, 'street': 577, 'pass': 578, 'messag': 579, 'somewhat': 580, 'silli': 581, 'charm': 582, 'modern': 583, 'filmmak': 584, 'confus': 585, 'form': 586, 'tale': 587, 'singl': 588, 'jack': 589, 'mostli': 590, 'william': 591, 'attent': 592, 'carri': 593, 'sing': 594, 'five': 595, 'subject': 596, 'richard': 597, 'prove': 598, 'stage': 599, 'team': 600, 'cop': 601, 'unlik': 602, 'georg': 603, 'monster': 604, 'televis': 605, 'earth': 606, 'villain': 607, 'cover': 608, 'pay': 609, 'marri': 610, 'toward': 611, 'build': 612, 'pull': 613, 'parent': 614, 'due': 615, 'respect': 616, 'fill': 617, 'dialog': 618, 'four': 619, 'remind': 620, 'futur': 621, 'weak': 622, 'typic': 623, '7': 624, 'cheap': 625, 'intellig': 626, 'atmospher': 627, 'british': 628, '80': 629, 'clearli': 630, 'dog': 631, 'paul': 632, 'non': 633, '8': 634, 'knew': 635, 'artist': 636, 'fast': 637, 'crime': 638, 'easili': 639, 'escap': 640, 'doubt': 641, 'adult': 642, 'detail': 643, 'date': 644, 'romant': 645, 'member': 646, 'fire': 647, 'gun': 648, 'drive': 649, 'straight': 650, 'beyond': 651, 'fit': 652, 'attack': 653, 'imag': 654, 'upon': 655, 'posit': 656, 'whether': 657, 'peter': 658, 'fantast': 659, 'captur': 660, 'aspect': 661, 'appreci': 662, 'ten': 663, 'plan': 664, 'discov': 665, 'remain': 666, 'period': 667, 'near': 668, 'realist': 669, 'air': 670, 'mark': 671, 'red': 672, 'dull': 673, 'adapt': 674, 'within': 675, 'spend': 676, 'lose': 677, 'color': 678, 'materi': 679, 'chase': 680, 'mari': 681, 'storylin': 682, 'forget': 683, 'bunch': 684, 'clear': 685, 'lee': 686, 'victim': 687, 'nearli': 688, 'box': 689, 'york': 690, 'inspir': 691, 'match': 692, 'finish': 693, 'mess': 694, 'standard': 695, 'easi': 696, 'truth': 697, 'suffer': 698, 'busi': 699, 'bill': 700, 'space': 701, 'dramat': 702, 'western': 703, 'e': 704, 'list': 705, 'battl': 706, 'notic': 707, 'de': 708, 'french': 709, 'ad': 710, '9': 711, 'tom': 712, 'larg': 713, 'among': 714, 'eventu': 715, 'train': 716, 'accept': 717, 'agre': 718, 'soundtrack': 719, 'spirit': 720, 'third': 721, 'teenag': 722, 'adventur': 723, 'soldier': 724, 'suggest': 725, 'famou': 726, 'sorri': 727, 'drug': 728, 'normal': 729, 'babi': 730, 'cri': 731, 'troubl': 732, 'ultim': 733, 'contain': 734, 'certain': 735, 'cultur': 736, 'romanc': 737, 'rare': 738, 'lame': 739, 'somehow': 740, 'mix': 741, 'disney': 742, 'gone': 743, 'cartoon': 744, 'student': 745, 'reveal': 746, 'fear': 747, 'kept': 748, 'suck': 749, 'attract': 750, 'appeal': 751, 'premis': 752, 'secret': 753, 'greatest': 754, 'design': 755, 'shame': 756, 'throw': 757, 'copi': 758, 'scare': 759, 'wit': 760, 'admit': 761, 'america': 762, 'particular': 763, 'relat': 764, 'brought': 765, 'screenplay': 766, 'whatev': 767, 'pure': 768, '70': 769, 'harri': 770, 'averag': 771, 'master': 772, 'describ': 773, 'treat': 774, 'male': 775, '20': 776, 'fantasi': 777, 'issu': 778, 'warn': 779, 'inde': 780, 'forward': 781, 'background': 782, 'project': 783, 'free': 784, 'memor': 785, 'japanes': 786, 'poorli': 787, 'award': 788, 'locat': 789, 'potenti': 790, 'amus': 791, 'struggl': 792, 'magic': 793, 'weird': 794, 'societi': 795, 'okay': 796, 'imdb': 797, 'doctor': 798, 'accent': 799, 'hot': 800, 'water': 801, 'dr': 802, '30': 803, 'express': 804, 'alien': 805, 'odd': 806, 'crazi': 807, 'choic': 808, 'fiction': 809, 'studio': 810, 'control': 811, 'becam': 812, 'masterpiec': 813, 'fli': 814, 'difficult': 815, 'joe': 816, 'scream': 817, 'costum': 818, 'lover': 819, 'uniqu': 820, 'refer': 821, 'remak': 822, 'girlfriend': 823, 'vampir': 824, 'prison': 825, 'execut': 826, 'wear': 827, 'jump': 828, 'unless': 829, 'wood': 830, 'creepi': 831, 'cheesi': 832, 'superb': 833, 'otherwis': 834, 'parti': 835, 'roll': 836, 'ghost': 837, 'mad': 838, 'public': 839, 'depict': 840, 'week': 841, 'jane': 842, 'moral': 843, 'earlier': 844, 'badli': 845, 'dumb': 846, 'fi': 847, 'flaw': 848, 'grow': 849, 'deep': 850, 'sci': 851, 'cat': 852, 'maker': 853, 'connect': 854, 'footag': 855, 'older': 856, 'bother': 857, 'plenti': 858, 'outsid': 859, 'stick': 860, 'gay': 861, 'catch': 862, 'plu': 863, 'co': 864, 'popular': 865, 'equal': 866, 'social': 867, 'disturb': 868, 'quickli': 869, 'perfectli': 870, 'dress': 871, '90': 872, 'era': 873, 'mistak': 874, 'lie': 875, 'previou': 876, 'ride': 877, 'combin': 878, 'band': 879, 'concept': 880, 'surviv': 881, 'rich': 882, 'answer': 883, 'front': 884, 'christma': 885, 'sweet': 886, 'insid': 887, 'eat': 888, 'concern': 889, 'bare': 890, 'beat': 891, 'listen': 892, 'ben': 893, 'c': 894, 'serv': 895, 'term': 896, 'german': 897, 'meant': 898, 'la': 899, 'hardli': 900, 'stereotyp': 901, 'innoc': 902, 'law': 903, 'desper': 904, 'memori': 905, 'promis': 906, 'cute': 907, 'intent': 908, 'variou': 909, 'steal': 910, 'inform': 911, 'brain': 912, 'post': 913, 'tone': 914, 'island': 915, 'amount': 916, 'compani': 917, 'track': 918, 'nuditi': 919, 'claim': 920, 'store': 921, 'flat': 922, '50': 923, 'hair': 924, 'land': 925, 'univers': 926, 'scott': 927, 'danger': 928, 'fairli': 929, 'kick': 930, 'player': 931, 'crew': 932, 'plain': 933, 'step': 934, 'toni': 935, 'share': 936, 'tast': 937, 'centuri': 938, 'engag': 939, 'achiev': 940, 'travel': 941, 'cold': 942, 'suit': 943, 'rip': 944, 'record': 945, 'sadli': 946, 'manner': 947, 'wrote': 948, 'spot': 949, 'tension': 950, 'fascin': 951, 'intens': 952, 'familiar': 953, 'depth': 954, 'remark': 955, 'burn': 956, 'destroy': 957, 'histor': 958, 'sleep': 959, 'purpos': 960, 'languag': 961, 'ruin': 962, 'ignor': 963, 'delight': 964, 'italian': 965, 'unbeliev': 966, 'abil': 967, 'collect': 968, 'soul': 969, 'detect': 970, 'clever': 971, 'violent': 972, 'rape': 973, 'reach': 974, 'door': 975, 'scienc': 976, 'liter': 977, 'trash': 978, 'reveng': 979, 'caught': 980, 'commun': 981, 'creatur': 982, 'approach': 983, 'trip': 984, 'fashion': 985, 'intrigu': 986, 'introduc': 987, 'paint': 988, 'skill': 989, 'complex': 990, 'channel': 991, 'camp': 992, 'christian': 993, 'hole': 994, 'extra': 995, 'mental': 996, 'limit': 997, 'immedi': 998, 'ann': 999, 'slightli': 1000, 'mere': 1001, 'million': 1002, 'comput': 1003, '6': 1004, 'slasher': 1005, 'conclus': 1006, 'imposs': 1007, 'suddenli': 1008, 'neither': 1009, 'crimin': 1010, 'teen': 1011, 'nation': 1012, 'physic': 1013, 'spent': 1014, 'respons': 1015, 'planet': 1016, 'receiv': 1017, 'fake': 1018, 'blue': 1019, 'sick': 1020, 'bizarr': 1021, 'embarrass': 1022, 'indian': 1023, '15': 1024, 'ring': 1025, 'pop': 1026, 'drop': 1027, 'drag': 1028, 'haunt': 1029, 'suspect': 1030, 'pointless': 1031, 'search': 1032, 'edg': 1033, 'handl': 1034, 'biggest': 1035, 'common': 1036, 'hurt': 1037, 'arriv': 1038, 'faith': 1039, 'technic': 1040, 'angel': 1041, 'dad': 1042, 'genuin': 1043, 'f': 1044, 'awesom': 1045, 'solid': 1046, 'colleg': 1047, 'former': 1048, 'van': 1049, 'focu': 1050, 'count': 1051, 'heavi': 1052, 'tear': 1053, 'wall': 1054, 'rais': 1055, 'visit': 1056, 'laughabl': 1057, 'younger': 1058, 'sign': 1059, 'excus': 1060, 'fair': 1061, 'cult': 1062, 'key': 1063, 'tough': 1064, 'motion': 1065, 'desir': 1066, 'super': 1067, 'stun': 1068, 'addit': 1069, 'exploit': 1070, 'cloth': 1071, 'tortur': 1072, 'smith': 1073, 'davi': 1074, 'race': 1075, 'author': 1076, 'cross': 1077, 'jim': 1078, 'consist': 1079, 'focus': 1080, 'compel': 1081, 'minor': 1082, 'pathet': 1083, 'commit': 1084, 'chemistri': 1085, 'park': 1086, 'tradit': 1087, 'obsess': 1088, 'frank': 1089, 'grade': 1090, 'asid': 1091, '60': 1092, 'brutal': 1093, 'steve': 1094, 'somewher': 1095, 'rule': 1096, 'depress': 1097, 'u': 1098, 'explor': 1099, 'opportun': 1100, 'grant': 1101, 'besid': 1102, 'honest': 1103, 'dub': 1104, 'anti': 1105, 'trailer': 1106, 'intend': 1107, 'bar': 1108, 'regard': 1109, 'longer': 1110, 'west': 1111, 'scientist': 1112, 'decad': 1113, 'judg': 1114, 'silent': 1115, 'armi': 1116, 'creativ': 1117, 'wild': 1118, 'stewart': 1119, 'south': 1120, 'g': 1121, 'draw': 1122, 'road': 1123, 'govern': 1124, 'ex': 1125, 'boss': 1126, 'practic': 1127, 'motiv': 1128, 'club': 1129, 'gang': 1130, 'surprisingli': 1131, 'festiv': 1132, 'page': 1133, 'green': 1134, 'london': 1135, 'redeem': 1136, 'militari': 1137, 'display': 1138, 'idiot': 1139, 'aliv': 1140, 'machin': 1141, 'thrill': 1142, 'repeat': 1143, 'folk': 1144, 'yeah': 1145, '100': 1146, 'nobodi': 1147, '40': 1148, 'journey': 1149, 'garbag': 1150, 'ground': 1151, 'tire': 1152, 'smile': 1153, 'bought': 1154, 'mood': 1155, 'sam': 1156, 'cost': 1157, 'stone': 1158, 'mouth': 1159, 'noir': 1160, 'agent': 1161, 'terrif': 1162, 'requir': 1163, 'utterli': 1164, 'sexi': 1165, 'honestli': 1166, 'area': 1167, 'report': 1168, 'geniu': 1169, 'glad': 1170, 'investig': 1171, 'humour': 1172, 'enter': 1173, 'serial': 1174, 'passion': 1175, 'occasion': 1176, 'narr': 1177, 'climax': 1178, 'marriag': 1179, 'studi': 1180, 'industri': 1181, 'center': 1182, 'ship': 1183, 'nowher': 1184, 'demon': 1185, 'charli': 1186, 'hors': 1187, 'bear': 1188, 'loos': 1189, 'hang': 1190, 'wow': 1191, 'graphic': 1192, 'giant': 1193, 'admir': 1194, 'send': 1195, 'damn': 1196, 'loud': 1197, 'subtl': 1198, 'rel': 1199, 'nake': 1200, 'profession': 1201, 'blow': 1202, 'bottom': 1203, 'batman': 1204, 'insult': 1205, 'r': 1206, 'doubl': 1207, 'boyfriend': 1208, 'kelli': 1209, 'initi': 1210, 'frame': 1211, 'opera': 1212, 'gem': 1213, 'drawn': 1214, 'affect': 1215, 'challeng': 1216, 'church': 1217, 'cinemat': 1218, 'seek': 1219, 'j': 1220, 'l': 1221, 'evid': 1222, 'fulli': 1223, 'nightmar': 1224, 'essenti': 1225, 'conflict': 1226, 'arm': 1227, 'grace': 1228, 'christoph': 1229, 'henri': 1230, 'wind': 1231, 'narrat': 1232, 'assum': 1233, 'witch': 1234, 'hunt': 1235, 'push': 1236, 'wise': 1237, 'chri': 1238, 'month': 1239, 'nomin': 1240, 'repres': 1241, 'sceneri': 1242, 'hide': 1243, 'avail': 1244, 'affair': 1245, 'thu': 1246, 'smart': 1247, 'bond': 1248, 'justic': 1249, 'outstand': 1250, 'flashback': 1251, 'interview': 1252, 'satisfi': 1253, 'presenc': 1254, 'constantli': 1255, 'central': 1256, 'bed': 1257, 'content': 1258, 'iron': 1259, 'sell': 1260, 'everybodi': 1261, 'gag': 1262, 'slowli': 1263, 'hotel': 1264, 'hire': 1265, 'system': 1266, 'individu': 1267, 'charl': 1268, 'thrown': 1269, 'hey': 1270, 'adam': 1271, 'mediocr': 1272, 'jone': 1273, 'allen': 1274, 'billi': 1275, 'lesson': 1276, 'ray': 1277, 'cameo': 1278, 'photographi': 1279, 'fellow': 1280, 'pari': 1281, 'strike': 1282, 'independ': 1283, 'brief': 1284, 'absurd': 1285, 'rise': 1286, 'neg': 1287, 'phone': 1288, 'impact': 1289, 'ill': 1290, 'model': 1291, 'born': 1292, 'fresh': 1293, 'spoil': 1294, 'angl': 1295, 'abus': 1296, 'likabl': 1297, 'hill': 1298, 'discuss': 1299, 'ahead': 1300, 'sight': 1301, 'photograph': 1302, 'sent': 1303, 'shine': 1304, 'occur': 1305, 'logic': 1306, 'blame': 1307, 'mainli': 1308, 'bruce': 1309, 'skip': 1310, 'forev': 1311, 'commerci': 1312, 'surround': 1313, 'held': 1314, 'teacher': 1315, 'segment': 1316, 'blond': 1317, 'zero': 1318, 'satir': 1319, 'summer': 1320, 'resembl': 1321, 'trap': 1322, 'six': 1323, 'ball': 1324, 'fool': 1325, 'queen': 1326, 'sub': 1327, 'twice': 1328, 'tragedi': 1329, 'pack': 1330, 'reaction': 1331, 'bomb': 1332, 'will': 1333, 'protagonist': 1334, 'hospit': 1335, 'sport': 1336, 'mile': 1337, 'mom': 1338, 'drink': 1339, 'jerri': 1340, 'trust': 1341, 'vote': 1342, 'encount': 1343, 'plane': 1344, 'program': 1345, 'current': 1346, 'station': 1347, 'al': 1348, 'martin': 1349, 'choos': 1350, 'celebr': 1351, 'join': 1352, 'tragic': 1353, 'favourit': 1354, 'round': 1355, 'lord': 1356, 'field': 1357, 'vision': 1358, 'jean': 1359, 'robot': 1360, 'arthur': 1361, 'tie': 1362, 'roger': 1363, 'fortun': 1364, 'random': 1365, 'intern': 1366, 'dread': 1367, 'psycholog': 1368, 'improv': 1369, 'prefer': 1370, 'epic': 1371, 'nonsens': 1372, 'formula': 1373, 'pleasur': 1374, 'highlight': 1375, 'legend': 1376, 'tape': 1377, 'dollar': 1378, '11': 1379, 'object': 1380, 'wide': 1381, 'gorgeou': 1382, 'thin': 1383, 'porn': 1384, 'fox': 1385, 'influenc': 1386, 'ugli': 1387, 'buddi': 1388, 'ii': 1389, 'prepar': 1390, 'nasti': 1391, 'supposedli': 1392, 'reflect': 1393, 'warm': 1394, 'progress': 1395, 'worthi': 1396, 'youth': 1397, 'length': 1398, 'unusu': 1399, 'latter': 1400, 'crash': 1401, 'superior': 1402, 'childhood': 1403, 'seven': 1404, 'shop': 1405, 'theatr': 1406, 'remot': 1407, 'disgust': 1408, 'paid': 1409, 'pilot': 1410, 'funniest': 1411, 'convers': 1412, 'trick': 1413, 'fell': 1414, 'castl': 1415, 'disast': 1416, 'gangster': 1417, 'rob': 1418, 'establish': 1419, 'disappear': 1420, 'mine': 1421, 'ident': 1422, 'suicid': 1423, 'heaven': 1424, 'singer': 1425, 'tend': 1426, 'forgotten': 1427, 'heroin': 1428, 'mask': 1429, 'decis': 1430, 'partner': 1431, 'brian': 1432, 'alan': 1433, 'desert': 1434, 'recogn': 1435, 'thoroughli': 1436, 'p': 1437, 'stuck': 1438, 'ms': 1439, 'sky': 1440, 'accur': 1441, 'replac': 1442, 'market': 1443, 'seemingli': 1444, 'danni': 1445, 'commentari': 1446, 'andi': 1447, 'eddi': 1448, 'uncl': 1449, 'clue': 1450, 'jackson': 1451, 'devil': 1452, 'that': 1453, 'pair': 1454, 'refus': 1455, 'therefor': 1456, 'fault': 1457, 'fate': 1458, 'accid': 1459, 'river': 1460, 'unit': 1461, 'ed': 1462, 'tune': 1463, 'afraid': 1464, 'russian': 1465, 'stephen': 1466, 'clean': 1467, 'hidden': 1468, 'instanc': 1469, 'irrit': 1470, 'quick': 1471, 'readi': 1472, 'captain': 1473, 'test': 1474, 'convey': 1475, 'european': 1476, 'daniel': 1477, 'insan': 1478, 'frustrat': 1479, 'wed': 1480, 'chines': 1481, 'rescu': 1482, '1950': 1483, 'food': 1484, 'lock': 1485, 'dirti': 1486, 'angri': 1487, 'joy': 1488, 'price': 1489, 'steven': 1490, 'cage': 1491, 'bland': 1492, 'rang': 1493, 'anymor': 1494, 'wooden': 1495, 'jason': 1496, 'rush': 1497, 'news': 1498, 'n': 1499, 'worri': 1500, 'led': 1501, 'board': 1502, '12': 1503, 'martial': 1504, 'twenti': 1505, 'symbol': 1506, 'hunter': 1507, 'transform': 1508, 'cgi': 1509, 'sentiment': 1510, 'onto': 1511, 'invent': 1512, 'piti': 1513, 'johnni': 1514, 'x': 1515, 'explan': 1516, 'process': 1517, 'attitud': 1518, 'awar': 1519, 'owner': 1520, 'aim': 1521, 'target': 1522, 'energi': 1523, 'necessari': 1524, 'favor': 1525, 'floor': 1526, 'religi': 1527, 'opposit': 1528, 'chick': 1529, 'insight': 1530, 'window': 1531, 'blind': 1532, 'movement': 1533, 'comparison': 1534, 'deepli': 1535, 'possess': 1536, 'mountain': 1537, 'research': 1538, 'whatsoev': 1539, 'rain': 1540, 'comed': 1541, 'grand': 1542, 'bank': 1543, 'shadow': 1544, 'mid': 1545, 'began': 1546, 'princ': 1547, 'parodi': 1548, 'pre': 1549, 'weapon': 1550, 'taylor': 1551, 'credibl': 1552, 'friendship': 1553, 'teach': 1554, 'flesh': 1555, 'dougla': 1556, 'bloodi': 1557, 'terror': 1558, 'protect': 1559, 'hint': 1560, 'marvel': 1561, 'load': 1562, 'watchabl': 1563, 'accord': 1564, 'leader': 1565, 'drunk': 1566, 'anybodi': 1567, 'superman': 1568, 'brown': 1569, 'freddi': 1570, 'appropri': 1571, 'seat': 1572, 'tim': 1573, 'jeff': 1574, 'hitler': 1575, 'charg': 1576, 'villag': 1577, 'unknown': 1578, 'knock': 1579, 'keaton': 1580, 'unnecessari': 1581, 'enemi': 1582, 'media': 1583, 'empti': 1584, 'england': 1585, 'strength': 1586, 'dare': 1587, 'craft': 1588, 'perspect': 1589, 'buck': 1590, 'utter': 1591, 'wave': 1592, 'ford': 1593, 'kiss': 1594, 'nativ': 1595, 'contrast': 1596, 'correct': 1597, 'magnific': 1598, 'speed': 1599, 'chill': 1600, 'anywher': 1601, 'distract': 1602, 'knowledg': 1603, 'soap': 1604, 'nazi': 1605, 'fred': 1606, 'ice': 1607, 'mission': 1608, 'breath': 1609, '1980': 1610, 'crowd': 1611, 'jr': 1612, 'moon': 1613, 'joan': 1614, 'kate': 1615, 'soft': 1616, '000': 1617, 'frighten': 1618, 'hundr': 1619, 'dan': 1620, 'nick': 1621, 'dick': 1622, 'simon': 1623, 'radio': 1624, 'somebodi': 1625, 'dozen': 1626, 'academi': 1627, 'andrew': 1628, 'thousand': 1629, 'shakespear': 1630, 'loss': 1631, 'quot': 1632, 'vehicl': 1633, 'root': 1634, 'sum': 1635, 'account': 1636, '1970': 1637, 'convent': 1638, 'leg': 1639, 'behavior': 1640, 'regular': 1641, 'gold': 1642, 'compet': 1643, 'worker': 1644, 'demand': 1645, 'pretenti': 1646, 'candi': 1647, 'notabl': 1648, 'lynch': 1649, 'interpret': 1650, 'explos': 1651, 'japan': 1652, 'stretch': 1653, 'privat': 1654, 'constant': 1655, 'debut': 1656, 'tarzan': 1657, 'prais': 1658, 'sea': 1659, 'translat': 1660, 'revolv': 1661, 'spi': 1662, 'sat': 1663, 'threaten': 1664, 'franc': 1665, 'technolog': 1666, 'ass': 1667, 'jesu': 1668, 'quiet': 1669, 'failur': 1670, 'toy': 1671, 'kevin': 1672, 'met': 1673, 'higher': 1674, 'punch': 1675, 'aid': 1676, 'mike': 1677, 'interact': 1678, 'abandon': 1679, 'vh': 1680, 'bet': 1681, 'command': 1682, 'confront': 1683, 'separ': 1684, 'techniqu': 1685, 'servic': 1686, 'recal': 1687, 'belong': 1688, 'stunt': 1689, 'gotten': 1690, 'site': 1691, 'cabl': 1692, 'freak': 1693, 'foot': 1694, 'bug': 1695, 'african': 1696, 'capabl': 1697, 'bright': 1698, 'jimmi': 1699, 'fu': 1700, 'presid': 1701, 'stock': 1702, 'succeed': 1703, 'fat': 1704, 'boat': 1705, 'clark': 1706, 'gene': 1707, 'spanish': 1708, 'structur': 1709, 'paper': 1710, 'kidnap': 1711, 'belief': 1712, 'factor': 1713, 'whilst': 1714, 'witti': 1715, 'complic': 1716, 'attend': 1717, 'educ': 1718, 'realism': 1719, 'tree': 1720, 'realis': 1721, 'bob': 1722, 'finest': 1723, 'broken': 1724, 'assist': 1725, 'santa': 1726, 'up': 1727, 'depart': 1728, 'v': 1729, 'determin': 1730, 'smoke': 1731, 'observ': 1732, 'hat': 1733, 'rubbish': 1734, 'routin': 1735, 'lewi': 1736, 'domin': 1737, 'fame': 1738, 'oper': 1739, 'safe': 1740, 'hook': 1741, 'foreign': 1742, 'advanc': 1743, 'lone': 1744, 'kinda': 1745, 'morgan': 1746, 'numer': 1747, 'rank': 1748, 'rose': 1749, 'shape': 1750, 'washington': 1751, 'vs': 1752, 'shallow': 1753, 'civil': 1754, 'werewolf': 1755, 'morn': 1756, 'gari': 1757, 'ordinari': 1758, 'winner': 1759, 'accomplish': 1760, 'kong': 1761, 'virtual': 1762, 'grab': 1763, 'peac': 1764, 'whenev': 1765, 'luck': 1766, 'h': 1767, 'offens': 1768, 'contriv': 1769, 'bigger': 1770, 'patient': 1771, 'complain': 1772, 'activ': 1773, 'welcom': 1774, 'unfunni': 1775, 'con': 1776, 'dimension': 1777, 'pretend': 1778, 'trek': 1779, 'eric': 1780, 'code': 1781, 'dri': 1782, 'flash': 1783, 'cain': 1784, 'wake': 1785, 'lesbian': 1786, 'manipul': 1787, 'dancer': 1788, 'corrupt': 1789, 'statu': 1790, 'albert': 1791, 'guard': 1792, 'signific': 1793, 'gain': 1794, 'context': 1795, 'awkward': 1796, 'speech': 1797, 'sourc': 1798, 'anthoni': 1799, 'psycho': 1800, 'clip': 1801, 'corni': 1802, 'sean': 1803, '13': 1804, 'w': 1805, 'curiou': 1806, 'advic': 1807, 'theatric': 1808, 'religion': 1809, 'reli': 1810, 'priest': 1811, 'addict': 1812, 'flow': 1813, 'asian': 1814, 'specif': 1815, 'skin': 1816, 'jennif': 1817, 'secur': 1818, 'howard': 1819, 'promot': 1820, 'luke': 1821, 'core': 1822, 'comfort': 1823, 'organ': 1824, 'golden': 1825, 'cheat': 1826, 'lucki': 1827, 'cash': 1828, 'associ': 1829, 'lower': 1830, 'dislik': 1831, 'regret': 1832, 'devic': 1833, 'balanc': 1834, 'spell': 1835, 'frequent': 1836, 'contribut': 1837, 'frankli': 1838, 'wing': 1839, 'degre': 1840, 'lake': 1841, 'forgiv': 1842, 'sake': 1843, 'print': 1844, 'betti': 1845, 'thoma': 1846, 'mass': 1847, 'unexpect': 1848, 'gordon': 1849, 'crack': 1850, 'construct': 1851, 'depend': 1852, 'amateur': 1853, 'categori': 1854, 'unfold': 1855, 'grown': 1856, 'invit': 1857, 'condit': 1858, 'grew': 1859, 'anna': 1860, 'honor': 1861, 'walter': 1862, 'intellectu': 1863, 'matur': 1864, 'spectacular': 1865, 'mirror': 1866, 'veteran': 1867, 'sole': 1868, 'sudden': 1869, 'grip': 1870, 'card': 1871, 'demonstr': 1872, 'overli': 1873, 'meanwhil': 1874, 'freedom': 1875, 'experienc': 1876, 'gift': 1877, 'liner': 1878, 'robin': 1879, 'brilliantli': 1880, 'section': 1881, 'oliv': 1882, 'colour': 1883, 'sheriff': 1884, 'unabl': 1885, 'drew': 1886, 'subtitl': 1887, 'theori': 1888, 'circumst': 1889, 'crappi': 1890, 'sheer': 1891, 'matt': 1892, 'cook': 1893, 'pile': 1894, 'laughter': 1895, 'path': 1896, 'parker': 1897, 'altern': 1898, 'sinatra': 1899, 'wander': 1900, 'hall': 1901, 'treatment': 1902, 'lawyer': 1903, 'relief': 1904, 'accident': 1905, 'defin': 1906, 'hank': 1907, 'captiv': 1908, 'dragon': 1909, 'gratuit': 1910, 'halloween': 1911, 'moor': 1912, 'broadway': 1913, 'jacki': 1914, 'barbara': 1915, 'wayn': 1916, 'k': 1917, 'cowboy': 1918, 'wound': 1919, 'unintent': 1920, 'kung': 1921, 'canadian': 1922, 'statement': 1923, 'winter': 1924, 'spoof': 1925, 'surreal': 1926, 'fish': 1927, 'compos': 1928, 'cheer': 1929, 'gonna': 1930, 'fare': 1931, 'treasur': 1932, 'sensit': 1933, 'woodi': 1934, 'emerg': 1935, 'unrealist': 1936, 'victor': 1937, 'sympathet': 1938, 'ran': 1939, 'neighbor': 1940, 'driven': 1941, 'expos': 1942, 'topic': 1943, 'menac': 1944, 'glass': 1945, 'overlook': 1946, 'authent': 1947, 'handsom': 1948, 'chief': 1949, 'gross': 1950, 'michel': 1951, 'ancient': 1952, 'feet': 1953, 'contemporari': 1954, 'pleasant': 1955, 'stranger': 1956, 'cinderella': 1957, 'network': 1958, 'built': 1959, 'nevertheless': 1960, 'russel': 1961, 'comedian': 1962, 'blockbust': 1963, 'earn': 1964, 'underr': 1965, 'gori': 1966, 'miser': 1967, 'letter': 1968, 'consider': 1969, 'endless': 1970, 'solv': 1971, 'switch': 1972, 'brook': 1973, 'bullet': 1974, 'convict': 1975, 'joseph': 1976, 'edward': 1977, 'virgin': 1978, 'victoria': 1979, 'cynic': 1980, 'scenario': 1981, '0': 1982, 'chosen': 1983, 'scale': 1984, 'alex': 1985, 'curs': 1986, 'sword': 1987, 'gut': 1988, 'com': 1989, 'outrag': 1990, 'substanc': 1991, 'monkey': 1992, 'juli': 1993, 'screenwrit': 1994, 'proper': 1995, 'uk': 1996, 'driver': 1997, 'wrap': 1998, 'indic': 1999, 'court': 2000, 'par': 2001, 'bird': 2002, 'remov': 2003, 'loser': 2004, 'naiv': 2005, 'nanci': 2006, 'consequ': 2007, 'inevit': 2008, 'grave': 2009, 'roy': 2010, 'advertis': 2011, 'rental': 2012, 'slap': 2013, 'germani': 2014, 'invis': 2015, 'brave': 2016, 'fatal': 2017, 'le': 2018, 'bridg': 2019, 'footbal': 2020, 'loui': 2021, 'ador': 2022, 'anger': 2023, 'provok': 2024, 'alcohol': 2025, 'anderson': 2026, 'chan': 2027, 'willi': 2028, 'ryan': 2029, 'stumbl': 2030, 'professor': 2031, '1930': 2032, 'assassin': 2033, 'bat': 2034, 'sharp': 2035, 'australian': 2036, 'patrick': 2037, 'deni': 2038, 'refresh': 2039, 'lousi': 2040, 'liber': 2041, 'saturday': 2042, 'eight': 2043, 'heck': 2044, 'cell': 2045, 'amateurish': 2046, 'trilog': 2047, 'strongli': 2048, 'ape': 2049, 'sin': 2050, 'resid': 2051, 'justifi': 2052, 'san': 2053, 'vagu': 2054, 'creator': 2055, 'defeat': 2056, 'terrifi': 2057, 'sympathi': 2058, 'reput': 2059, 'indi': 2060, 'mini': 2061, 'endur': 2062, 'expert': 2063, 'tabl': 2064, 'prevent': 2065, 'tediou': 2066, 'task': 2067, 'rival': 2068, 'imit': 2069, 'basebal': 2070, 'trial': 2071, 'offend': 2072, 'che': 2073, 'employ': 2074, 'complaint': 2075, 'dig': 2076, 'europ': 2077, 'beach': 2078, 'fairi': 2079, 'pitch': 2080, 'weekend': 2081, 'max': 2082, 'format': 2083, 'risk': 2084, 'purchas': 2085, 'murphi': 2086, 'titan': 2087, 'tini': 2088, 'harsh': 2089, 'reminisc': 2090, 'bite': 2091, 'hype': 2092, 'glimps': 2093, 'powel': 2094, 'nois': 2095, 'prime': 2096, 'fals': 2097, '14': 2098, 'north': 2099, 'till': 2100, 'strip': 2101, 'asleep': 2102, 'descript': 2103, 'revel': 2104, 'africa': 2105, 'destruct': 2106, 'texa': 2107, 'inner': 2108, 'surfac': 2109, 'sitcom': 2110, 'arrest': 2111, 'semi': 2112, 'uninterest': 2113, 'excess': 2114, 'spin': 2115, 'controversi': 2116, 'maintain': 2117, 'hitchcock': 2118, 'dinosaur': 2119, 'twin': 2120, 'massiv': 2121, 'argu': 2122, 'makeup': 2123, 'ideal': 2124, 'stare': 2125, 'reject': 2126, 'melodrama': 2127, 'expens': 2128, 'ludicr': 2129, 'insist': 2130, 'kim': 2131, 'columbo': 2132, 'supernatur': 2133, 'host': 2134, 'ga': 2135, 'press': 2136, 'erot': 2137, 'ala': 2138, 'forest': 2139, 'atroci': 2140, 'nail': 2141, 'subplot': 2142, 'notch': 2143, 'presum': 2144, 'identifi': 2145, 'cant': 2146, 'dude': 2147, 'plagu': 2148, 'crude': 2149, 'character': 2150, 'method': 2151, 'closer': 2152, 'forgett': 2153, 'guest': 2154, 'ear': 2155, 'beast': 2156, 'princess': 2157, 'landscap': 2158, 'lion': 2159, 'border': 2160, 'foster': 2161, 'storytel': 2162, 'accus': 2163, 'previous': 2164, 'urban': 2165, 'birth': 2166, 'damag': 2167, 'jungl': 2168, 'aunt': 2169, 'bound': 2170, 'pacino': 2171, 'emma': 2172, 'thirti': 2173, 'doll': 2174, 'chose': 2175, 'guid': 2176, 'nude': 2177, 'jess': 2178, 'propaganda': 2179, 'mainstream': 2180, 'mate': 2181, '25': 2182, 'whoever': 2183, 'pet': 2184, 'warrior': 2185, 'gritti': 2186, 'deadli': 2187, 'poster': 2188, 'cooper': 2189, 'friday': 2190, 'merit': 2191, 'upset': 2192, 'latest': 2193, 'size': 2194, 'exact': 2195, 'warner': 2196, '1990': 2197, 'sun': 2198, 'settl': 2199, 'contest': 2200, 'rough': 2201, 'buff': 2202, 'popul': 2203, 'ton': 2204, 'contact': 2205, 'wilson': 2206, 'corps': 2207, 'citizen': 2208, 'blend': 2209, 'bu': 2210, 'rat': 2211, 'mgm': 2212, 'metal': 2213, 'alic': 2214, 'environ': 2215, 'pitt': 2216, 'overcom': 2217, 'select': 2218, 'widow': 2219, 'guilti': 2220, 'ted': 2221, 'particip': 2222, 'link': 2223, 'revolut': 2224, 'lift': 2225, 'prostitut': 2226, 'exagger': 2227, 'corner': 2228, 'johnson': 2229, 'afternoon': 2230, '1960': 2231, 'accompani': 2232, 'corpor': 2233, 'moron': 2234, 'matrix': 2235, 'instal': 2236, 'friendli': 2237, 'holm': 2238, 'multipl': 2239, 'sincer': 2240, 'clair': 2241, 'doom': 2242, 'leagu': 2243, 'hood': 2244, 'aka': 2245, 'sunday': 2246, 'hip': 2247, 'advis': 2248, 'string': 2249, 'defend': 2250, 'blah': 2251, 'grim': 2252, 'campi': 2253, 'examin': 2254, 'irish': 2255, 'lugosi': 2256, 'junk': 2257, 'shake': 2258, 'shut': 2259, 'tight': 2260, 'varieti': 2261, 'icon': 2262, 'pro': 2263, 'rachel': 2264, 'confid': 2265, 'attach': 2266, 'denni': 2267, 'directli': 2268, 'sullivan': 2269, 'goal': 2270, 'mexican': 2271, 'jaw': 2272, 'medic': 2273, 'legendari': 2274, 'courag': 2275, 'terrorist': 2276, 'sarah': 2277, 'truck': 2278, 'sentenc': 2279, 'vietnam': 2280, 'duke': 2281, 'prior': 2282, 'breast': 2283, 'dean': 2284, 'bourn': 2285, 'donald': 2286, 'entri': 2287, 'proceed': 2288, 'yell': 2289, 'behav': 2290, 'split': 2291, 'nose': 2292, 'un': 2293, 'hong': 2294, 'stolen': 2295, 'swim': 2296, 'buri': 2297, 'unconvinc': 2298, 'concentr': 2299, 'forth': 2300, 'lifetim': 2301, 'jerk': 2302, 'everywher': 2303, 'crush': 2304, 'confess': 2305, 'gather': 2306, 'borrow': 2307, 'spite': 2308, 'lip': 2309, 'deliveri': 2310, 'julia': 2311, 'pan': 2312, 'california': 2313, 'turkey': 2314, 'china': 2315, 'quest': 2316, 'reward': 2317, 'flight': 2318, 'offici': 2319, 'proud': 2320, 'downright': 2321, 'hoffman': 2322, 'freeman': 2323, 'betray': 2324, 'jail': 2325, 'jon': 2326, 'sir': 2327, 'sink': 2328, 'lazi': 2329, 'fabul': 2330, 'inept': 2331, 'encourag': 2332, 'fade': 2333, 'worthwhil': 2334, 'notori': 2335, 'teeth': 2336, 'shower': 2337, 'lisa': 2338, 'imageri': 2339, 'bag': 2340, 'storm': 2341, 'cousin': 2342, 'susan': 2343, 'branagh': 2344, 'retard': 2345, 'relev': 2346, 'bell': 2347, 'survivor': 2348, 'tremend': 2349, 'facial': 2350, 'bride': 2351, 'alright': 2352, 'summari': 2353, 'stab': 2354, 'mexico': 2355, 'trade': 2356, 'shark': 2357, 'finger': 2358, 'toler': 2359, 'quirki': 2360, 'hugh': 2361, 'hyster': 2362, 'bitter': 2363, 'pose': 2364, 'ha': 2365, 'blown': 2366, 'von': 2367, 'ron': 2368, 'cruel': 2369, 'address': 2370, 'christ': 2371, 'larri': 2372, 'ned': 2373, 'bone': 2374, 'afterward': 2375, 'scheme': 2376, 'screw': 2377, 'swear': 2378, 'tour': 2379, 'beg': 2380, 'distinct': 2381, 'feed': 2382, 'snake': 2383, 'pursu': 2384, 'traci': 2385, 'thumb': 2386, 'stomach': 2387, 'occas': 2388, 'obscur': 2389, 'chair': 2390, 'mechan': 2391, 'raw': 2392, 'photo': 2393, 'argument': 2394, 'chain': 2395, 'holiday': 2396, 'render': 2397, 'resist': 2398, 'cabin': 2399, 'necessarili': 2400, 'heavili': 2401, 'gruesom': 2402, 'hardi': 2403, 'sidney': 2404, 'southern': 2405, 'understood': 2406, 'india': 2407, 'indulg': 2408, 'satan': 2409, 'philip': 2410, 'racist': 2411, 'integr': 2412, 'stalk': 2413, 'tongu': 2414, 'outfit': 2415, 'belov': 2416, 'fourth': 2417, 'obnoxi': 2418, 'forgot': 2419, 'lay': 2420, 'pregnant': 2421, 'midnight': 2422, '17': 2423, 'slapstick': 2424, 'carol': 2425, 'inhabit': 2426, 'garden': 2427, 'deeper': 2428, 'ticket': 2429, 'restor': 2430, 'magazin': 2431, 'shoe': 2432, 'brad': 2433, 'lincoln': 2434, 'incid': 2435, 'devot': 2436, 'elizabeth': 2437, 'benefit': 2438, 'guarante': 2439, 'divorc': 2440, 'disbelief': 2441, 'underground': 2442, 'anticip': 2443, 'lili': 2444, 'maria': 2445, 'sandler': 2446, 'bbc': 2447, 'greater': 2448, 'amazingli': 2449, 'slave': 2450, 'creation': 2451, 'capit': 2452, 'cring': 2453, 'mildli': 2454, 'explod': 2455, 'princip': 2456, 'extraordinari': 2457, 'lesli': 2458, 'introduct': 2459, 'funnier': 2460, 'halfway': 2461, 'tap': 2462, 'advantag': 2463, 'punish': 2464, 'transfer': 2465, 'overwhelm': 2466, 'enhanc': 2467, 'extent': 2468, 'text': 2469, 'wreck': 2470, 'dynam': 2471, 'plant': 2472, 'deliber': 2473, 'error': 2474, 'jessica': 2475, 'horrif': 2476, 'lane': 2477, 'east': 2478, 'lo': 2479, 'preview': 2480, 'ensu': 2481, 'miller': 2482, 'appli': 2483, 'miscast': 2484, 'sophist': 2485, 'vacat': 2486, 'vincent': 2487, '2000': 2488, 'basi': 2489, 'homosexu': 2490, 'reed': 2491, 'elev': 2492, 'sleazi': 2493, 'mansion': 2494, 'steel': 2495, 'measur': 2496, 'spoken': 2497, 'bollywood': 2498, 'via': 2499, 'uncomfort': 2500, 'extend': 2501, 'beer': 2502, 'dentist': 2503, 'stanley': 2504, 'melt': 2505, 'savag': 2506, 'mous': 2507, 'breathtak': 2508, 'fix': 2509, 'goofi': 2510, 'blair': 2511, 'hippi': 2512, 'daili': 2513, 'alter': 2514, 'overact': 2515, 'conceiv': 2516, 'assign': 2517, 'cathol': 2518, 'carpent': 2519, 'oppos': 2520, 'subsequ': 2521, 'nowaday': 2522, 'everyday': 2523, 'succe': 2524, 'properli': 2525, 'sacrific': 2526, 'burt': 2527, 'inspector': 2528, 'circl': 2529, 'neck': 2530, 'massacr': 2531, 'laura': 2532, 'block': 2533, 'pool': 2534, 'christi': 2535, 'seagal': 2536, 'lesser': 2537, 'portrait': 2538, 'grey': 2539, 'access': 2540, 'concert': 2541, 'mob': 2542, 'fallen': 2543, 'fay': 2544, 'chees': 2545, 'relax': 2546, 'sinist': 2547, 'competit': 2548, 'usa': 2549, 'react': 2550, 'isol': 2551, 'jewish': 2552, 'jake': 2553, 'appal': 2554, 'nine': 2555, 'suitabl': 2556, 'immens': 2557, 'ironi': 2558, 'lyric': 2559, 'spiritu': 2560, 'stink': 2561, 'nonetheless': 2562, 'creep': 2563, '2006': 2564, 'chop': 2565, 'retir': 2566, 'sold': 2567, 'franchis': 2568, 'navi': 2569, 'needless': 2570, 'rage': 2571, 'shirt': 2572, 'luci': 2573, 'adopt': 2574, 'showcas': 2575, 'nut': 2576, 'spring': 2577, 'user': 2578, 'reduc': 2579, 'asham': 2580, 'bath': 2581, 'bulli': 2582, 'per': 2583, 'stanwyck': 2584, 'zone': 2585, 'nurs': 2586, 'jay': 2587, 'digit': 2588, 'uninspir': 2589, 'sutherland': 2590, 'upper': 2591, 'oddli': 2592, 'illustr': 2593, '1940': 2594, 'amongst': 2595, '2001': 2596, 'laid': 2597, 'broadcast': 2598, 'aspir': 2599, 'baker': 2600, 'brando': 2601, 'throat': 2602, 'disguis': 2603, 'stylish': 2604, 'fulfil': 2605, 'em': 2606, 'impli': 2607, 'neighborhood': 2608, 'pride': 2609, 'wanna': 2610, 'endear': 2611, 'nobl': 2612, '18': 2613, 'pound': 2614, 'wwii': 2615, 'thief': 2616, 'shoulder': 2617, 'dawn': 2618, 'prop': 2619, 'tens': 2620, 'dinner': 2621, 'coher': 2622, 'albeit': 2623, '16': 2624, 'bett': 2625, 'distribut': 2626, 'rochest': 2627, 'shift': 2628, 'bo': 2629, 'cinematograph': 2630, 'diseas': 2631, 'silenc': 2632, 'shout': 2633, 'poignant': 2634, 'knife': 2635, 'snow': 2636, 'function': 2637, 'surf': 2638, 'rebel': 2639, 'contract': 2640, 'matthau': 2641, 'forti': 2642, 'wash': 2643, 'height': 2644, 'silver': 2645, 'heat': 2646, 'internet': 2647, 'reunion': 2648, 'mindless': 2649, 'proof': 2650, 'cancel': 2651, 'chuck': 2652, 'henc': 2653, 'duti': 2654, 'instinct': 2655, 'derek': 2656, 'eeri': 2657, 'horrend': 2658, 'widmark': 2659, 'elvira': 2660, 'cannib': 2661, 'innov': 2662, 'musician': 2663, 'torn': 2664, 'alik': 2665, 'spielberg': 2666, 'premier': 2667, 'elvi': 2668, 'glori': 2669, 'mill': 2670, 'neat': 2671, 'absorb': 2672, 'incoher': 2673, 'greatli': 2674, 'pie': 2675, 'repetit': 2676, 'etern': 2677, 'lovabl': 2678, 'homag': 2679, 'nelson': 2680, 'infam': 2681, 'precis': 2682, 'itali': 2683, 'burton': 2684, 'bang': 2685, 'britain': 2686, 'wealthi': 2687, 'redempt': 2688, 'announc': 2689, 'crisi': 2690, 'trite': 2691, 'racism': 2692, 'blank': 2693, 'diamond': 2694, 'fbi': 2695, 'horrifi': 2696, 'dedic': 2697, 'helen': 2698, 'wilder': 2699, 'ensembl': 2700, 'chaplin': 2701, 'parallel': 2702, 'happili': 2703, 'flop': 2704, 'resolut': 2705, 'pat': 2706, 'hammer': 2707, 'streisand': 2708, 'disagre': 2709, 'broke': 2710, 'mar': 2711, 'cube': 2712, 'oil': 2713, 'st': 2714, 'factori': 2715, 'plastic': 2716, 'triumph': 2717, 'carter': 2718, 'conclud': 2719, 'own': 2720, 'march': 2721, 'row': 2722, 'chuckl': 2723, 'climb': 2724, 'bush': 2725, 'vega': 2726, 'weight': 2727, 'fighter': 2728, 'rocket': 2729, 'dane': 2730, 'spare': 2731, 'sensibl': 2732, 'meaning': 2733, 'boot': 2734, 'unforgett': 2735, 'lust': 2736, 'wherea': 2737, 'mst3k': 2738, 'enorm': 2739, 'kurt': 2740, 'luca': 2741, 'dump': 2742, 'thug': 2743, 'dear': 2744, 'rap': 2745, 'adequ': 2746, 'caricatur': 2747, 'bobbi': 2748, 'threat': 2749, 'engin': 2750, 'karloff': 2751, 'arnold': 2752, 'stress': 2753, 'brand': 2754, 'fifti': 2755, 'butt': 2756, 'difficulti': 2757, 'homeless': 2758, 'swing': 2759, 'elabor': 2760, 'barri': 2761, 'secretari': 2762, 'ego': 2763, 'ralph': 2764, 'flynn': 2765, 'hamlet': 2766, 'arrog': 2767, 'fest': 2768, 'polish': 2769, 'journalist': 2770, 'arrang': 2771, 'resort': 2772, 'fanci': 2773, 'unbear': 2774, 'induc': 2775, 'grate': 2776, 'puppet': 2777, 'tool': 2778, 'simpson': 2779, 'float': 2780, 'spike': 2781, 'conspiraci': 2782, 'muppet': 2783, 'pig': 2784, 'guilt': 2785, 'choreograph': 2786, 'exercis': 2787, 'tribut': 2788, 'boll': 2789, 'cruis': 2790, 'basement': 2791, 'phillip': 2792, '24': 2793, 'ham': 2794, 'puzzl': 2795, 'fianc': 2796, 'slip': 2797, 'toilet': 2798, 'ward': 2799, 'tower': 2800, 'korean': 2801, 'document': 2802, 'layer': 2803, 'babe': 2804, 'file': 2805, 'editor': 2806, 'item': 2807, 'scarecrow': 2808, 'medium': 2809, 'stan': 2810, 'orient': 2811, 'transit': 2812, 'assur': 2813, 'librari': 2814, 'portion': 2815, 'catherin': 2816, 'glover': 2817, 'doc': 2818, 'philosoph': 2819, 'persona': 2820, 'territori': 2821, 'inexplic': 2822, 'larger': 2823, 'slaughter': 2824, 'minim': 2825, 'denzel': 2826, 'spark': 2827, 'superfici': 2828, 'curti': 2829, 'sneak': 2830, 'jeremi': 2831, 'owe': 2832, 'dorothi': 2833, 'boredom': 2834, 'pg': 2835, 'wolf': 2836, 'shi': 2837, 'financi': 2838, 'ban': 2839, 'jet': 2840, 'walken': 2841, 'cusack': 2842, 'multi': 2843, 'hudson': 2844, 'ambigu': 2845, 'metaphor': 2846, 'backdrop': 2847, 'whale': 2848, 'profound': 2849, 'eleph': 2850, 'rave': 2851, 'notion': 2852, '2005': 2853, 'implaus': 2854, 'elsewher': 2855, 'stiff': 2856, 'hack': 2857, 'ultra': 2858, 'viru': 2859, 'union': 2860, 'birthday': 2861, 'gadget': 2862, 'squar': 2863, 'poison': 2864, 'hawk': 2865, 'superhero': 2866, 'afford': 2867, 'pad': 2868, 'distanc': 2869, 'canada': 2870, '1st': 2871, 'reader': 2872, 'disc': 2873, 'lloyd': 2874, 'slight': 2875, 'bibl': 2876, 'newspap': 2877, 'eva': 2878, 'urg': 2879, 'deriv': 2880, 'eastwood': 2881, 'spread': 2882, 'cure': 2883, 'montag': 2884, 'essenc': 2885, 'sadist': 2886, 'restaur': 2887, 'drown': 2888, 'charisma': 2889, 'huh': 2890, 'health': 2891, 'skit': 2892, 'button': 2893, 'heston': 2894, 'invest': 2895, 'maniac': 2896, 'companion': 2897, 'dealt': 2898, 'gradual': 2899, 'estat': 2900, 'fetch': 2901, 'lab': 2902, 'godfath': 2903, 'muslim': 2904, 'scoobi': 2905, 'peak': 2906, 'countless': 2907, 'alli': 2908, 'tea': 2909, 'subtleti': 2910, 'cup': 2911, 'gothic': 2912, 'kane': 2913, 'servant': 2914, 'ritter': 2915, 'miik': 2916, 'electr': 2917, 'charismat': 2918, 'briefli': 2919, 'salli': 2920, 'elect': 2921, 'heroic': 2922, 'iii': 2923, 'nuanc': 2924, 'grandmoth': 2925, 'admittedli': 2926, 'wannab': 2927, 'ingredi': 2928, 'toss': 2929, 'reel': 2930, 'cole': 2931, 'bud': 2932, 'resourc': 2933, 'neil': 2934, 'tender': 2935, 'stood': 2936, 'shall': 2937, 'poverti': 2938, 'dawson': 2939, 'pit': 2940, 'kubrick': 2941, 'reev': 2942, 'stronger': 2943, 'label': 2944, 'mild': 2945, 'gate': 2946, 'pauli': 2947, 'punk': 2948, 'mafia': 2949, 'carrey': 2950, 'fond': 2951, 'smooth': 2952, 'easier': 2953, 'astair': 2954, 'assault': 2955, 'bakshi': 2956, 'ian': 2957, 'burst': 2958, 'useless': 2959, 'outcom': 2960, 'updat': 2961, 'tag': 2962, 'cox': 2963, 'terri': 2964, 'cardboard': 2965, 'smash': 2966, 'vulner': 2967, 'vari': 2968, 'sketch': 2969, 'melodramat': 2970, 'samurai': 2971, 'increasingli': 2972, 'fist': 2973, 'qualifi': 2974, 'exchang': 2975, 'divers': 2976, 'resolv': 2977, '2002': 2978, 'coincid': 2979, 'rex': 2980, 'scratch': 2981, 'luckili': 2982, 'brillianc': 2983, 'conveni': 2984, 'insert': 2985, 'blast': 2986, 'be': 2987, 'tame': 2988, 'reynold': 2989, 'templ': 2990, 'suspend': 2991, 'fisher': 2992, 'pin': 2993, 'coach': 2994, 'ambiti': 2995, 'gotta': 2996, 'farm': 2997, 'soprano': 2998, 'seventi': 2999, 'strictli': 3000, 'hamilton': 3001, 'walker': 3002, 'jami': 3003, 'meat': 3004, 'nuclear': 3005, 'matthew': 3006, 'butcher': 3007, 'clock': 3008, 'kudo': 3009, 'instantli': 3010, 'struck': 3011, 'grasp': 3012, 'brosnan': 3013, 'cave': 3014, 'recreat': 3015, 'closet': 3016, 'revers': 3017, 'worthless': 3018, 'ninja': 3019, 'discoveri': 3020, 'convolut': 3021, 'eccentr': 3022, 'timeless': 3023, 'empir': 3024, 'joey': 3025, 'spooki': 3026, 'monk': 3027, 'partli': 3028, 'pal': 3029, 'mitchel': 3030, 'miracl': 3031, 'declar': 3032, 'norman': 3033, 'clown': 3034, 'seller': 3035, 'evok': 3036, 'fifteen': 3037, 'bleak': 3038, 'sidekick': 3039, 'eighti': 3040, 'cliff': 3041, 'importantli': 3042, 'wipe': 3043, 'communist': 3044, 'inconsist': 3045, 'selfish': 3046, 'sloppi': 3047, 'gray': 3048, 'piano': 3049, 'aforement': 3050, 'chew': 3051, 'enthusiast': 3052, 'cheek': 3053, 'psychiatrist': 3054, 'destin': 3055, 'debat': 3056, 'australia': 3057, 'flawless': 3058, 'lifestyl': 3059, 'farc': 3060, 'superbl': 3061, 'seed': 3062, 'stoog': 3063, 'ho': 3064, 'websit': 3065, '45': 3066, 'bash': 3067, 'dash': 3068, 'wick': 3069, 'regardless': 3070, 'kitchen': 3071, 'anni': 3072, 'akshay': 3073, 'incompet': 3074, 'drivel': 3075, 'emili': 3076, 'soviet': 3077, 'abc': 3078, 'splatter': 3079, 'slice': 3080, 'pressur': 3081, 'dire': 3082, 'wrestl': 3083, 'directori': 3084, 'beaten': 3085, 'ken': 3086, 'jar': 3087, 'seduc': 3088, 'helicopt': 3089, 'pleasantli': 3090, 'boil': 3091, 'mann': 3092, 'prize': 3093, 'dave': 3094, 'chapter': 3095, 'artifici': 3096, 'curios': 3097, 'cameron': 3098, 'lou': 3099, 'increas': 3100, 'distant': 3101, 'cagney': 3102, 'duo': 3103, 'glow': 3104, 'suppli': 3105, 'recov': 3106, 'judi': 3107, 'flower': 3108, 'cia': 3109, 'doo': 3110, 'blob': 3111, 'psychot': 3112, 'ranger': 3113, 'hop': 3114, 'panic': 3115, 'perri': 3116, 'goldberg': 3117, 'francisco': 3118, 'turner': 3119, 'favour': 3120, 'splendid': 3121, 'craven': 3122, 'combat': 3123, 'craig': 3124, 'eleg': 3125, 'drunken': 3126, 'web': 3127, 'glenn': 3128, 'laurel': 3129, 'ellen': 3130, 'min': 3131, 'hatr': 3132, 'graduat': 3133, 'fx': 3134, 'philosophi': 3135, 'falk': 3136, 'shortli': 3137, 'rid': 3138, 'gentl': 3139, 'gandhi': 3140, 'ruth': 3141, 'greek': 3142, 'alexand': 3143, 'plausibl': 3144, 'slightest': 3145, 'flip': 3146, '20th': 3147, 'wizard': 3148, 'modesti': 3149, 'manhattan': 3150, 'tall': 3151, 'we': 3152, 'harm': 3153, 'unpleas': 3154, 'preciou': 3155, 'legal': 3156, 'knight': 3157, 'jealou': 3158, 'futurist': 3159, 'lend': 3160, 'holi': 3161, 'ocean': 3162, 'fund': 3163, 'felix': 3164, 'dracula': 3165, 'explicit': 3166, 'nod': 3167, 'digniti': 3168, 'reviv': 3169, 'forbidden': 3170, 'giallo': 3171, 'ami': 3172, 'childish': 3173, 'tank': 3174, 'overdon': 3175, 'bless': 3176, 'scientif': 3177, 'thread': 3178, 'mock': 3179, 'torment': 3180, 'margaret': 3181, 'verhoeven': 3182, 'broad': 3183, 'repeatedli': 3184, 'mel': 3185, 'pirat': 3186, 'awaken': 3187, 'nerv': 3188, '2004': 3189, 'eve': 3190, 'unwatch': 3191, 'elderli': 3192, 'fever': 3193, 'awe': 3194, '99': 3195, 'thick': 3196, 'yesterday': 3197, 'absenc': 3198, 'ambit': 3199, 'eas': 3200, 'publish': 3201, 'kay': 3202, 'acclaim': 3203, 'stiller': 3204, 'bin': 3205, 'royal': 3206, 'griffith': 3207, 'automat': 3208, 'rivet': 3209, 'timothi': 3210, 'ah': 3211, 'roman': 3212, 'uniform': 3213, 'launch': 3214, 'lean': 3215, 'custom': 3216, 'romero': 3217, 'politician': 3218, 'foul': 3219, 'homicid': 3220, 'purpl': 3221, 'crook': 3222, 'pierc': 3223, 'warren': 3224, 'pulp': 3225, 'transport': 3226, 'darker': 3227, 'sunshin': 3228, 'gabriel': 3229, 'antic': 3230, 'tomato': 3231, 'termin': 3232, 'bathroom': 3233, 'phrase': 3234, 'wallac': 3235, 'stinker': 3236, 'hollow': 3237, 'viciou': 3238, 'choreographi': 3239, 'pray': 3240, 'ought': 3241, 'coloni': 3242, 'evolv': 3243, 'awak': 3244, 'marin': 3245, 'saint': 3246, 'horrid': 3247, 'kenneth': 3248, 'brazil': 3249, 'donna': 3250, 'juvenil': 3251, 'sixti': 3252, 'packag': 3253, 'contrari': 3254, 'album': 3255, 'revolutionari': 3256, '2003': 3257, 'prom': 3258, 'eyr': 3259, 'q': 3260, 'karen': 3261, 'li': 3262, 'rambo': 3263, 'boast': 3264, 'stole': 3265, 'mummi': 3266, 'defi': 3267, 'option': 3268, 'kapoor': 3269, 'overr': 3270, 'conserv': 3271, 'candid': 3272, 'blade': 3273, 'nerd': 3274, 'twelv': 3275, 'ireland': 3276, 'beatti': 3277, 'mildr': 3278, 'ramon': 3279, 'dose': 3280, 'detract': 3281, 'funer': 3282, 'confirm': 3283, 'trio': 3284, 'flame': 3285, 'astonish': 3286, 'natali': 3287, 'jazz': 3288, 'collabor': 3289, 'global': 3290, 'altman': 3291, 'kirk': 3292, 'fulci': 3293, 'protest': 3294, 'racial': 3295, 'blake': 3296, 'yellow': 3297, 'enterpris': 3298, 'spit': 3299, 'delici': 3300, 'destini': 3301, 'leap': 3302, 'bottl': 3303, 'nicholson': 3304, 'audio': 3305, 'whip': 3306, 'shade': 3307, 'tommi': 3308, 'bull': 3309, 'mystic': 3310, 'popcorn': 3311, 'staff': 3312, 'altogeth': 3313, 'inherit': 3314, 'neo': 3315, 'reunit': 3316, 'vivid': 3317, 'fonda': 3318, 'todd': 3319, 'merci': 3320, 'threw': 3321, 'bedroom': 3322, 'pseudo': 3323, 'harder': 3324, 'adolesc': 3325, 'visibl': 3326, 'enchant': 3327, 'meaningless': 3328, 'swedish': 3329, 'exhibit': 3330, 'suspici': 3331, 'reserv': 3332, 'moodi': 3333, 'ruthless': 3334, 'voight': 3335, 'fanat': 3336, 'bust': 3337, 'synopsi': 3338, 'decor': 3339, 'befriend': 3340, 'crocodil': 3341, 'lemmon': 3342, 'uneven': 3343, 'await': 3344, 'wire': 3345, 'leonard': 3346, 'madonna': 3347, 'lawrenc': 3348, 'tip': 3349, 'kennedi': 3350, 'respond': 3351, 'roommat': 3352, 'jew': 3353, 'edi': 3354, 'atlanti': 3355, 'abysm': 3356, 'carl': 3357, 'audit': 3358, 'dimens': 3359, 'centr': 3360, 'bradi': 3361, 'incident': 3362, 'rural': 3363, 'bargain': 3364, 'ventur': 3365, 'clumsi': 3366, 'garner': 3367, 'unsettl': 3368, 'bold': 3369, 'chao': 3370, '2007': 3371, 'holli': 3372, 'clint': 3373, 'voyag': 3374, 'palma': 3375, 'mall': 3376, 'elimin': 3377, 'ant': 3378, 'characterist': 3379, 'cuba': 3380, 'humili': 3381, 'poetic': 3382, 'wealth': 3383, 'daddi': 3384, 'acknowledg': 3385, 'lit': 3386, 'nearbi': 3387, 'trail': 3388, 'imperson': 3389, '2nd': 3390, 'neglect': 3391, 'hart': 3392, 'versu': 3393, 'immigr': 3394, 'cari': 3395, 'tiger': 3396, 'cd': 3397, 'echo': 3398, 'troop': 3399, 'timon': 3400, 'pun': 3401, 'jeffrey': 3402, 'saga': 3403, 'mistaken': 3404, 'solo': 3405, 'celluloid': 3406, 'collaps': 3407, 'mickey': 3408, 'domest': 3409, 'paus': 3410, 'prejudic': 3411, 'repuls': 3412, 'marshal': 3413, 'infect': 3414, 'homer': 3415, 'hbo': 3416, 'ginger': 3417, '1996': 3418, 'cake': 3419, 'inan': 3420, 'assembl': 3421, 'coat': 3422, 'tribe': 3423, 'promin': 3424, 'chest': 3425, 'interrupt': 3426, 'olivi': 3427, 'apolog': 3428, 'equip': 3429, 'leon': 3430, 'inappropri': 3431, 'harvey': 3432, 'milk': 3433, 'coffe': 3434, 'gear': 3435, 'undoubtedli': 3436, 'pant': 3437, 'sore': 3438, 'humbl': 3439, 'highest': 3440, 'institut': 3441, 'instant': 3442, 'pot': 3443, 'solut': 3444, 'devast': 3445, 'furthermor': 3446, 'retain': 3447, 'maggi': 3448, 'aveng': 3449, 'exot': 3450, 'colleagu': 3451, 'colonel': 3452, 'brooklyn': 3453, 'jenni': 3454, 'trace': 3455, 'pen': 3456, 'vulgar': 3457, 'airplan': 3458, 'embrac': 3459, 'primari': 3460, 'consum': 3461, 'florida': 3462, 'polanski': 3463, 'principl': 3464, 'rick': 3465, '1999': 3466, 'dutch': 3467, 'bowl': 3468, 'poke': 3469, 'disabl': 3470, 'wive': 3471, 'gender': 3472, 'seduct': 3473, 'sale': 3474, 'smaller': 3475, 'illog': 3476, 'descend': 3477, 'linda': 3478, 'strain': 3479, 'ya': 3480, '3rd': 3481, 'outer': 3482, 'cope': 3483, 'dian': 3484, 'godzilla': 3485, 'rabbit': 3486, 'vast': 3487, 'inferior': 3488, 'cue': 3489, 'hal': 3490, 'dud': 3491, 'yard': 3492, 'blatant': 3493, 'bubbl': 3494, 'mixtur': 3495, 'predecessor': 3496, 'secondli': 3497, 'gloriou': 3498, 'glamor': 3499, 'lol': 3500, 'beneath': 3501, 'scope': 3502, 'dive': 3503, 'devoid': 3504, 'primarili': 3505, 'gundam': 3506, 'garbo': 3507, 'z': 3508, 'alert': 3509, 'pearl': 3510, 'senseless': 3511, 'talki': 3512, 'casual': 3513, 'trademark': 3514, 'museum': 3515, 'aggress': 3516, 'hideou': 3517, 'breed': 3518, 'myer': 3519, 'shelf': 3520, 'et': 3521, 'countrysid': 3522, 'disjoint': 3523, 'streep': 3524, 'arab': 3525, 'shirley': 3526, 'alfr': 3527, 'april': 3528, 'simplist': 3529, 'domino': 3530, 'invas': 3531, 'grinch': 3532, 'maci': 3533, 'mail': 3534, 'vanish': 3535, 'hardcor': 3536, 'rendit': 3537, 'khan': 3538, 'slide': 3539, 'experiment': 3540, 'robberi': 3541, 'applaud': 3542, 'stack': 3543, 'defens': 3544, 'hopeless': 3545, 'stir': 3546, 'obtain': 3547, 'unhappi': 3548, 'stellar': 3549, 'acid': 3550, 'mayor': 3551, 'illeg': 3552, 'disgrac': 3553, 'uwe': 3554, 'sh': 3555, 'robinson': 3556, 'loyal': 3557, 'boom': 3558, 'oz': 3559, 'emphasi': 3560, 'tenant': 3561, 'recruit': 3562, 'amanda': 3563, 'dicken': 3564, 'grandfath': 3565, 'rifl': 3566, 'span': 3567, 'berlin': 3568, 'incomprehens': 3569, 'dismiss': 3570, 'tempt': 3571, 'blew': 3572, 'counter': 3573, 'declin': 3574, 'spider': 3575, 'topless': 3576, 'fri': 3577, 'soccer': 3578, 'hartley': 3579, 'wont': 3580, 'psychic': 3581, 'scroog': 3582, 'diana': 3583, 'craze': 3584, 'justin': 3585, 'parad': 3586, 'woo': 3587, 'niro': 3588, 'ethnic': 3589, 'revolt': 3590, 'resurrect': 3591, 'bitch': 3592, 'wet': 3593, 'riot': 3594, 'faster': 3595, 'shaw': 3596, 'shed': 3597, 'sympath': 3598, 'sibl': 3599, 'porno': 3600, 'intim': 3601, 'goer': 3602, 'ration': 3603, 'lumet': 3604, 'trashi': 3605, 'eager': 3606, 'biographi': 3607, 'nephew': 3608, 'patriot': 3609, 'hesit': 3610, 'weakest': 3611, 'partial': 3612, 'andr': 3613, 'hopper': 3614, 'worm': 3615, 'immort': 3616, 'lena': 3617, 'commend': 3618, 'rider': 3619, 'jonathan': 3620, 'wendi': 3621, 'ensur': 3622, 'slick': 3623, 'steam': 3624, 'gap': 3625, 'farmer': 3626, 'region': 3627, 'dealer': 3628, 'enlighten': 3629, 'wheel': 3630, 'honesti': 3631, '00': 3632, 'choru': 3633, 'mario': 3634, 'unreal': 3635, 'feminist': 3636, 'ballet': 3637, 'confin': 3638, 'snap': 3639, 'leo': 3640, 'charlott': 3641, 'skull': 3642, 'morri': 3643, 'nostalg': 3644, 'composit': 3645, 'psychopath': 3646, 'sappi': 3647, 'properti': 3648, 'wore': 3649, 'kingdom': 3650, 'victori': 3651, 'mutant': 3652, 'vice': 3653, 'repress': 3654, 'safeti': 3655, 'prequel': 3656, 'hung': 3657, 'owen': 3658, 'franco': 3659, 'similarli': 3660, 'blunt': 3661, 'macarthur': 3662, 'util': 3663, 'sandra': 3664, 'bergman': 3665, 'thru': 3666, 'bumbl': 3667, 'recycl': 3668, 'compens': 3669, 'kyle': 3670, 'whoopi': 3671, 'valuabl': 3672, 'exit': 3673, 'dust': 3674, 'tail': 3675, 'deed': 3676, 'speci': 3677, 'nervou': 3678, 'bonu': 3679, 'emperor': 3680, 'latin': 3681, 'heartbreak': 3682, 'farrel': 3683, 'compass': 3684, 'drum': 3685, 'miseri': 3686, 'acquir': 3687, 'dalton': 3688, 'drain': 3689, 'rope': 3690, 'despair': 3691, 'hyde': 3692, 'tad': 3693, 'rambl': 3694, 'cg': 3695, 'del': 3696, 'bow': 3697, '1972': 3698, 'montana': 3699, 'pattern': 3700, 'snl': 3701, 'repli': 3702, 'strand': 3703, 'campbel': 3704, 'rocki': 3705, '35': 3706, 'gal': 3707, 'rotten': 3708, 'downhil': 3709, 'martian': 3710, 'oppress': 3711, 'pour': 3712, 'wacki': 3713, 'roth': 3714, 'radic': 3715, 'airport': 3716, 'contempl': 3717, 'percept': 3718, 'orson': 3719, 'mistress': 3720, 'rapist': 3721, 'bleed': 3722, 'da': 3723, 'romp': 3724, 'tonight': 3725, 'gimmick': 3726, 'slug': 3727, 'olli': 3728, 'carradin': 3729, 'chess': 3730, 'unpredict': 3731, 'paltrow': 3732, 'melodi': 3733, '1983': 3734, 'mislead': 3735, 'slash': 3736, 'champion': 3737, 'heal': 3738, 'shelley': 3739, 'attorney': 3740, 'stilt': 3741, 'tackl': 3742, 'belt': 3743, 'pervert': 3744, 'banal': 3745, 'preach': 3746, 'pursuit': 3747, 'taught': 3748, 'arguabl': 3749, 'tooth': 3750, 'dazzl': 3751, 'edgar': 3752, 'arc': 3753, 'programm': 3754, 'pervers': 3755, 'maid': 3756, 'uplift': 3757, 'rubi': 3758, 'raymond': 3759, 'vocal': 3760, 'gambl': 3761, 'vengeanc': 3762, 'orang': 3763, 'poem': 3764, 'passeng': 3765, 'tiresom': 3766, 'mesmer': 3767, 'conneri': 3768, 'virginia': 3769, 'closest': 3770, 'plight': 3771, 'duval': 3772, 'employe': 3773, 'sensat': 3774, 'franki': 3775, 'cleverli': 3776, 'graham': 3777, 'chicken': 3778, 'bela': 3779, 'dixon': 3780, 'marti': 3781, 'crystal': 3782, 'gerard': 3783, 'numb': 3784, 'profan': 3785, 'quarter': 3786, 'engross': 3787, 'outing': 3788, 'giggl': 3789, 'yawn': 3790, 'scottish': 3791, 'abraham': 3792, 'monologu': 3793, 'volum': 3794, 'inject': 3795, 'iran': 3796, 'calm': 3797, 'clone': 3798, '1968': 3799, 'whine': 3800, 'suffic': 3801, 'tube': 3802, 'convincingli': 3803, 'amitabh': 3804, 'sirk': 3805, 'habit': 3806, 'climact': 3807, 'pokemon': 3808, 'paranoia': 3809, 'swallow': 3810, 'bay': 3811, 'lundgren': 3812, 'secretli': 3813, 'mute': 3814, 'extens': 3815, 'austen': 3816, 'profess': 3817, 'expand': 3818, 'abort': 3819, 'frankenstein': 3820, 'chicago': 3821, 'bend': 3822, 'ethan': 3823, 'lowest': 3824, 'linger': 3825, 'dispos': 3826, 'plod': 3827, 'im': 3828, 'richardson': 3829, 'trend': 3830, 'fed': 3831, 'franci': 3832, 'meander': 3833, 'backward': 3834, 'surpass': 3835, 'underst': 3836, 'nichola': 3837, 'taxi': 3838, 'poetri': 3839, 'septemb': 3840, 'junior': 3841, 'earl': 3842, 'grotesqu': 3843, 'spock': 3844, 'catchi': 3845, 'descent': 3846, 'household': 3847, 'tourist': 3848, 'literatur': 3849, 'eugen': 3850, 'spoke': 3851, 'greedi': 3852, 'cannon': 3853, 'dysfunct': 3854, 'instrument': 3855, 'mundan': 3856, 'rant': 3857, 'sue': 3858, 'econom': 3859, 'der': 3860, 'hum': 3861, 'waitress': 3862, 'lure': 3863, 'myth': 3864, 'rubber': 3865, 'muddl': 3866, 'compliment': 3867, 'simplic': 3868, 'nostalgia': 3869, 'stallon': 3870, 'dictat': 3871, 'recognit': 3872, 'eaten': 3873, 'crucial': 3874, 'irrelev': 3875, 'louis': 3876, 'molli': 3877, 'flee': 3878, 'cent': 3879, 'june': 3880, 'insur': 3881, 'firstli': 3882, 'phantom': 3883, 'randi': 3884, 'lang': 3885, 'deaf': 3886, 'dement': 3887, 'bacal': 3888, 'duck': 3889, 'omen': 3890, 'furi': 3891, 'mortal': 3892, 'map': 3893, 'hello': 3894, 'alongsid': 3895, 'recognis': 3896, 'equival': 3897, 'coast': 3898, 'sissi': 3899, 'occupi': 3900, 'phoni': 3901, 'stale': 3902, 'mankind': 3903, 'damon': 3904, 'carel': 3905, 'distinguish': 3906, 'dreari': 3907, 'wisdom': 3908, 'heel': 3909, 'onlin': 3910, 'drake': 3911, 'bike': 3912, 'freez': 3913, 'loyalti': 3914, 'buffalo': 3915, 'labor': 3916, 'grayson': 3917, 'reign': 3918, 'rooney': 3919, 'biko': 3920, 'likewis': 3921, 'lengthi': 3922, 'rude': 3923, 'daisi': 3924, '1973': 3925, 'newli': 3926, 'damm': 3927, 'ashley': 3928, 'antwon': 3929, 'bump': 3930, 'cyborg': 3931, 'blackmail': 3932, 'twilight': 3933, 'chronicl': 3934, 'sailor': 3935, 'provoc': 3936, 'keith': 3937, 'inher': 3938, 'nineti': 3939, 'pink': 3940, 'vein': 3941, 'tunnel': 3942, 'interior': 3943, 'unorigin': 3944, 'proce': 3945, 'ridden': 3946, 'prey': 3947, 'startl': 3948, 'worn': 3949, 'butler': 3950, 'analysi': 3951, 'approv': 3952, 'boxer': 3953, 'incorpor': 3954, 'emphas': 3955, 'exposur': 3956, 'basketbal': 3957, 'attribut': 3958, 'baddi': 3959, 'barrymor': 3960, 'underli': 3961, 'simmon': 3962, 'fleet': 3963, 'indiffer': 3964, 'elm': 3965, 'stalker': 3966, 'hypnot': 3967, 'mormon': 3968, 'undeni': 3969, 'belushi': 3970, 'meg': 3971, 'robbin': 3972, 'degrad': 3973, 'nicol': 3974, 'julian': 3975, 'drift': 3976, 'mighti': 3977, 'bunni': 3978, 'barrel': 3979, 'predat': 3980, 'meyer': 3981, 'millionair': 3982, 'walsh': 3983, 'improvis': 3984, 'substitut': 3985, 'carla': 3986, 'othello': 3987, 'er': 3988, 'unrel': 3989, 'condemn': 3990, 'edgi': 3991, 'enthusiasm': 3992, 'alarm': 3993, 'shove': 3994, 'hay': 3995, 'palac': 3996, 'errol': 3997, 'roof': 3998, 'unawar': 3999, 'greed': 4000, 'rukh': 4001, 'novak': 4002, 'priceless': 4003, 'marion': 4004, 'lampoon': 4005, 'vital': 4006, 'watson': 4007, 'agenda': 4008, 'warmth': 4009, 'exquisit': 4010, '3d': 4011, 'firm': 4012, 'nyc': 4013, 'dolph': 4014, 'reid': 4015, 'alison': 4016, 'mtv': 4017, 'disord': 4018, 'spain': 4019, 'thompson': 4020, 'peril': 4021, 'glanc': 4022, 'unleash': 4023, 'showdown': 4024, 'gestur': 4025, 'nun': 4026, 'ponder': 4027, '13th': 4028, 'coup': 4029, 'beatl': 4030, 'cassidi': 4031, 'crown': 4032, 'profit': 4033, 'sergeant': 4034, 'session': 4035, 'randomli': 4036, '1933': 4037, 'pamela': 4038, 'petti': 4039, 'simultan': 4040, 'what': 4041, 'minimum': 4042, 'israel': 4043, 'angela': 4044, 'iraq': 4045, 'preserv': 4046, 'orlean': 4047, 'championship': 4048, 'distort': 4049, 'drip': 4050, 'campaign': 4051, 'peck': 4052, 'zizek': 4053, 'valentin': 4054, 'eastern': 4055, 'testament': 4056, 'empathi': 4057, 'bro': 4058, 'calib': 4059, 'restrain': 4060, 'mon': 4061, 'han': 4062, 'cooki': 4063, 'realm': 4064, 'jan': 4065, 'stroke': 4066, 'crawl': 4067, 'stake': 4068, 'travesti': 4069, 'scotland': 4070, 'represent': 4071, 'unimagin': 4072, 'sabrina': 4073, 'gentleman': 4074, 'reson': 4075, 'miyazaki': 4076, 'contradict': 4077, 'valley': 4078, '1984': 4079, 'wig': 4080, 'regist': 4081, 'buster': 4082, 'din': 4083, 'shootout': 4084, 'climat': 4085, 'quinn': 4086, 'perpetu': 4087, 'brenda': 4088, 'rout': 4089, 'exposit': 4090, 'cream': 4091, 'crow': 4092, 'kurosawa': 4093, 'fido': 4094, 'abomin': 4095, 'compromis': 4096, 'tacki': 4097, 'spacey': 4098, 'greg': 4099, 'distress': 4100, 'demis': 4101, 'josh': 4102, 'censor': 4103, '1987': 4104, '1997': 4105, 'derang': 4106, 'shaki': 4107, 'baldwin': 4108, 'ross': 4109, 'geek': 4110, 'delic': 4111, 'sucker': 4112, 'wax': 4113, 'stargat': 4114, 'unsatisfi': 4115, 'pretens': 4116, 'perceiv': 4117, 'absent': 4118, 'mclaglen': 4119, 'unseen': 4120, 'cloud': 4121, 'pole': 4122, 'meryl': 4123, 'monoton': 4124, 'shoddi': 4125, 'crawford': 4126, 'painter': 4127, 'businessman': 4128, 'dana': 4129, 'passabl': 4130, 'warrant': 4131, 'darren': 4132, 'ustinov': 4133, 'traumat': 4134, 'femm': 4135, 'sammi': 4136, 'fuller': 4137, 'soderbergh': 4138, 'unravel': 4139, 'uncov': 4140, 'correctli': 4141, 'verbal': 4142, 'nathan': 4143, 'furiou': 4144, 'accuraci': 4145, 'deceas': 4146, 'judgment': 4147, 'primit': 4148, 'expedit': 4149, 'fenc': 4150, 'norm': 4151, 'deniro': 4152, 'austin': 4153, 'tech': 4154, 'polici': 4155, 'kumar': 4156, 'reluct': 4157, 'click': 4158, 'wholli': 4159, 'jewel': 4160, '1993': 4161, 'anchor': 4162, 'seal': 4163, 'valid': 4164, 'fog': 4165, 'tarantino': 4166, 'exclus': 4167, 'sid': 4168, 'clash': 4169, 'dee': 4170, 'antonioni': 4171, 'shanghai': 4172, 'dreck': 4173, 'tax': 4174, 'bake': 4175, 'joel': 4176, '1995': 4177, 'clerk': 4178, 'patienc': 4179, 'conduct': 4180, 'pocket': 4181, 'hallucin': 4182, 'unfair': 4183, 'roller': 4184, 'vanc': 4185, 'trait': 4186, '1971': 4187, 'wretch': 4188, 'alec': 4189, 'enforc': 4190, 'debt': 4191, 'malon': 4192, 'darn': 4193, 'slam': 4194, 'logan': 4195, 'fabric': 4196, 'temper': 4197, 'sustain': 4198, 'sheet': 4199, 'mode': 4200, 'sunni': 4201, 'wang': 4202, 'murray': 4203, 'fart': 4204, 'ritual': 4205, '2008': 4206, 'seldom': 4207, 'behold': 4208, 'crippl': 4209, 'fought': 4210, '3000': 4211, 'nicola': 4212, 'sand': 4213, 'stuart': 4214, 'soup': 4215, 'shell': 4216, 'critiqu': 4217, 'helpless': 4218, 'isabel': 4219, 'squad': 4220, 'grief': 4221, 'conscious': 4222, 'guitar': 4223, 'technicolor': 4224, 'divid': 4225, 'phil': 4226, 'legaci': 4227, 'scriptwrit': 4228, 'bias': 4229, 'tactic': 4230, 'outlin': 4231, 'fundament': 4232, 'preposter': 4233, 'preston': 4234, 'sweep': 4235, 'canyon': 4236, 'pete': 4237, 'despis': 4238, 'bridget': 4239, 'schedul': 4240, 'rita': 4241, 'clau': 4242, 'runner': 4243, 'exhaust': 4244, 'penni': 4245, 'stark': 4246, 'robber': 4247, 'consciou': 4248, 'liberti': 4249, 'delv': 4250, 'marc': 4251, 'bloom': 4252, 'rehash': 4253, 'propos': 4254, 'downey': 4255, 'implic': 4256, 'alley': 4257, 'gregori': 4258, 'vomit': 4259, 'newman': 4260, 'jacket': 4261, 'connor': 4262, 'kansa': 4263, 'sentinel': 4264, 'sugar': 4265, 'palanc': 4266, 'passag': 4267, 'unexpectedli': 4268, 'agenc': 4269, 'rear': 4270, 'inabl': 4271, 'lacklust': 4272, 'flair': 4273, 'culmin': 4274, 'drove': 4275, 'invad': 4276, 'alicia': 4277, 'russia': 4278, 'sniper': 4279, 'jodi': 4280, 'cigarett': 4281, 'boyl': 4282, 'restrict': 4283, 'improb': 4284, '22': 4285, '1936': 4286, 'behaviour': 4287, 'feat': 4288, 'aesthet': 4289, 'tendenc': 4290, 'delet': 4291, 'wrench': 4292, 'horn': 4293, 'awhil': 4294, 'ladder': 4295, 'sharon': 4296, 'yeti': 4297, 'asylum': 4298, 'pale': 4299, 'kolchak': 4300, 'lush': 4301, 'rampag': 4302, 'cap': 4303, 'mccoy': 4304, 'rod': 4305, 'tripe': 4306, 'arrow': 4307, 'chainsaw': 4308, 'rehears': 4309, 'bacon': 4310, 'karl': 4311, 'vet': 4312, 'foxx': 4313, 'paradis': 4314, 'minu': 4315, 'wildli': 4316, 'wagner': 4317, 'hungri': 4318, 'sung': 4319, 'suspicion': 4320, '19th': 4321, 'newcom': 4322, 'visitor': 4323, 'stream': 4324, 'paramount': 4325, 'conscienc': 4326, 'spice': 4327, '1920': 4328, 'coaster': 4329, 'rhythm': 4330, 'fright': 4331, 'shortcom': 4332, 'thunderbird': 4333, 'elit': 4334, 'financ': 4335, 'tasteless': 4336, 'loneli': 4337, 'rumor': 4338, 'amazon': 4339, 'scoop': 4340, 'suffici': 4341, 'hackney': 4342, 'el': 4343, 'tomorrow': 4344, 'underneath': 4345, '1988': 4346, 'prank': 4347, 'hulk': 4348, 'filler': 4349, 'lurk': 4350, '1978': 4351, 'aristocrat': 4352, 'weav': 4353, 'globe': 4354, 'basing': 4355, 'recogniz': 4356, 'naughti': 4357, 'inmat': 4358, 'iv': 4359, 'heist': 4360, 'atroc': 4361, 'cancer': 4362, 'lectur': 4363, '1939': 4364, 'straightforward': 4365, '75': 4366, 'smell': 4367, 'immers': 4368, 'impos': 4369, 'paxton': 4370, 'teas': 4371, 'counterpart': 4372, 'quietli': 4373, 'ingeni': 4374, 'dirt': 4375, 'grudg': 4376, 'ram': 4377, '1989': 4378, 'secondari': 4379, 'penn': 4380, 'beverli': 4381, 'curli': 4382, 'brit': 4383, 'standout': 4384, 'abrupt': 4385, 'minist': 4386, 'chamberlain': 4387, 'literari': 4388, 'bread': 4389, 'choppi': 4390, 'leigh': 4391, 'hopkin': 4392, 'posey': 4393, 'worship': 4394, 'couch': 4395, 'chavez': 4396, 'rub': 4397, 'en': 4398, 'wwe': 4399, 'entranc': 4400, 'tierney': 4401, 'springer': 4402, 'entitl': 4403, 'attenborough': 4404, 'yearn': 4405, 'duel': 4406, 'convert': 4407, 'net': 4408, 'transcend': 4409, 'sublim': 4410, 'watcher': 4411, 'bernard': 4412, 'variat': 4413, 'clan': 4414, 'laurenc': 4415, 'sassi': 4416, 'quaid': 4417, 'skeptic': 4418, 'cattl': 4419, 'injuri': 4420, 'misguid': 4421, 'nolan': 4422, 'enthral': 4423, 'heartfelt': 4424, 'policeman': 4425, 'moreov': 4426, 'morbid': 4427, '1986': 4428, 'missil': 4429, 'nemesi': 4430, 'geni': 4431, 'lindsay': 4432, 'esther': 4433, 'ratso': 4434, 'ace': 4435, 'vader': 4436, 'egg': 4437, 'puppi': 4438, 'setup': 4439, 'out': 4440, 'rosemari': 4441, 'characteris': 4442, 'steadi': 4443, 'graini': 4444, 'buzz': 4445, 'enabl': 4446, 'tyler': 4447, 'youngest': 4448, 'artsi': 4449, 'obstacl': 4450, 'spiral': 4451, 'kidman': 4452, 'unexplain': 4453, 'reliabl': 4454, 'poe': 4455, '1979': 4456, 'uncut': 4457, 'facil': 4458, 'brood': 4459, 'diari': 4460, 'moder': 4461, 'mytholog': 4462, 'bean': 4463, 'cruelti': 4464, 'hopelessli': 4465, 'grin': 4466, 'kitti': 4467, 'hk': 4468, 'dont': 4469, 'carlito': 4470, 'bye': 4471, 'baffl': 4472, 'bewar': 4473, 'oblig': 4474, 'exterior': 4475, 'underworld': 4476, 'gina': 4477, 'narrow': 4478, 'patricia': 4479, 'spontan': 4480, 'kline': 4481, 'clueless': 4482, 'despic': 4483, 'athlet': 4484, 'sweat': 4485, 'heap': 4486, '1969': 4487, 'bronson': 4488, 'disastr': 4489, 'fuel': 4490, 'acquaint': 4491, 'bounc': 4492, 'christin': 4493, 'hammi': 4494, 'hain': 4495, 'effici': 4496, 'weather': 4497, 'brendan': 4498, 'gillian': 4499, 'martha': 4500, 'preming': 4501, 'decept': 4502, 'niec': 4503, 'mayhem': 4504, 'goof': 4505, 'preachi': 4506, '73': 4507, 'outlaw': 4508, 'circu': 4509, 'enlist': 4510, 'trigger': 4511, 'viewpoint': 4512, 'loath': 4513, 'suprem': 4514, 'virtu': 4515, 'headach': 4516, 'shatter': 4517, 'rome': 4518, 'insipid': 4519, 'loi': 4520, 'dandi': 4521, 'taboo': 4522, 'harmless': 4523, 'fontain': 4524, 'angst': 4525, 'candl': 4526, 'injur': 4527, 'dilemma': 4528, 'astound': 4529, 'renaiss': 4530, 'tick': 4531, 'lester': 4532, 'mermaid': 4533, 'scar': 4534, 'biker': 4535, 'analyz': 4536, 'sleepwalk': 4537, 'housewif': 4538, 'uh': 4539, '19': 4540, 'sooner': 4541, 'hepburn': 4542, 'hooker': 4543, 'idol': 4544, 'stair': 4545, 'contempt': 4546, 'cassavet': 4547, 'spade': 4548, 'steer': 4549, 'boston': 4550, 'amor': 4551, 'intric': 4552, 'hostag': 4553, 'phenomenon': 4554, 'filth': 4555, 'dismal': 4556, 'dish': 4557, 'bent': 4558, 'guin': 4559, 'slimi': 4560, 'oldest': 4561, 'foolish': 4562, 'fluff': 4563, 'gere': 4564, 'immatur': 4565, 'hokey': 4566, 'zoom': 4567, 'redund': 4568, 'claustrophob': 4569, 'ebert': 4570, 'macho': 4571, 'overlong': 4572, 'camcord': 4573, 'salt': 4574, 'sox': 4575, 'scorses': 4576, 'tripl': 4577, 'glorifi': 4578, 'whore': 4579, 'surgeri': 4580, 'corbett': 4581, 'ariel': 4582, 'stimul': 4583, 'spinal': 4584, 'mount': 4585, 'conquer': 4586, 'obligatori': 4587, 'flirt': 4588, 'fascist': 4589, 'widescreen': 4590, 'antagonist': 4591, 'cohen': 4592, 'astronaut': 4593, 'nolt': 4594, 'frantic': 4595, 'spree': 4596, 'remad': 4597, 'strongest': 4598, 'gabl': 4599, 'beard': 4600, 'radiat': 4601, 'shield': 4602, 'proport': 4603, 'zane': 4604, 'shred': 4605, 'cow': 4606, 'keen': 4607, 'schlock': 4608, 'preced': 4609, 'mutual': 4610, 'naschi': 4611, '1981': 4612, 'gasp': 4613, 'flashi': 4614, 'trivia': 4615, 'flag': 4616, 'rhyme': 4617, 'muscl': 4618, 'cush': 4619, 'messi': 4620, 'down': 4621, 'perman': 4622, 'dwarf': 4623, 'joker': 4624, 'transplant': 4625, '1976': 4626, 'corman': 4627, 'assert': 4628, 'faint': 4629, 'margin': 4630, 'harold': 4631, 'alvin': 4632, '28': 4633, 'departur': 4634, 'hara': 4635, 'wield': 4636, 'boob': 4637, 'persuad': 4638, 'interestingli': 4639, 'discern': 4640, 'divin': 4641, 'scandal': 4642, 'someday': 4643, 'flock': 4644, 'strive': 4645, 'carey': 4646, 'bachelor': 4647, 'barn': 4648, 'bitten': 4649, 'info': 4650, 'resum': 4651, '95': 4652, 'instruct': 4653, 'www': 4654, 'triangl': 4655, 'raj': 4656, 'sensual': 4657, 'mobil': 4658, 'aborigin': 4659, 'inflict': 4660, 'vaniti': 4661, 'fishburn': 4662, 'neurot': 4663, 'claud': 4664, 'ritchi': 4665, 'brush': 4666, '1945': 4667, 'deer': 4668, 'danish': 4669, 'archiv': 4670, 'repris': 4671, 'mol': 4672, 'off': 4673, 'pixar': 4674, 'earnest': 4675, 'recit': 4676, 'harrison': 4677, 'hilar': 4678, 'dim': 4679, 'bate': 4680, 'carlo': 4681, 'casino': 4682, 'proclaim': 4683, 'axe': 4684, 'clad': 4685, 'undermin': 4686, 'colin': 4687, 'senior': 4688, 'jade': 4689, 'rot': 4690, 'melissa': 4691, 'parson': 4692, 'traffic': 4693, 'banter': 4694, 'loretta': 4695, 'neill': 4696, 'frontier': 4697, 'kathryn': 4698, 'biblic': 4699, 'mobster': 4700, 'submit': 4701, 'fragil': 4702, 'hug': 4703, 'cycl': 4704, 'heartwarm': 4705, 'cb': 4706, 'vibrant': 4707, 'artwork': 4708, 'timberlak': 4709, 'helm': 4710, 'pacif': 4711, 'luka': 4712, 'miracul': 4713, 'dylan': 4714, 'cliffhang': 4715, 'prophet': 4716, 'dame': 4717, 'anton': 4718, 'hapless': 4719, 'ish': 4720, 'pickford': 4721, 'wendigo': 4722, 'cher': 4723, 'europa': 4724, 'choke': 4725, 'breakfast': 4726, 'static': 4727, 'lucil': 4728, 'redneck': 4729, 'blatantli': 4730, 'mason': 4731, 'marlon': 4732, 'winchest': 4733, 'articl': 4734, 'aris': 4735, 'electron': 4736, 'razor': 4737, 'shepherd': 4738, 'sicken': 4739, 'northern': 4740, 'vile': 4741, 'akin': 4742, 'misfortun': 4743, 'nope': 4744, 'eli': 4745, 'feast': 4746, 'vanessa': 4747, 'jordan': 4748, 'legitim': 4749, 'estrang': 4750, 'pc': 4751, 'jo': 4752, 'orphan': 4753, 'alexandr': 4754, 'bikini': 4755, 'http': 4756, 'antholog': 4757, 'uma': 4758, 'cerebr': 4759, 'milo': 4760, 'illus': 4761, 'isra': 4762, 'foil': 4763, 'rooki': 4764, 'venom': 4765, 'trier': 4766, 'toronto': 4767, 'seedi': 4768, 'mathieu': 4769, 'wardrob': 4770, 'lui': 4771, 'token': 4772, 'bondag': 4773, 'flavor': 4774, 'holocaust': 4775, 'fifth': 4776, 'abund': 4777, 'oppon': 4778, 'tack': 4779, 'gilbert': 4780, 'huston': 4781, 'magician': 4782, 'psych': 4783, 'ideolog': 4784, 'ceremoni': 4785, 'frog': 4786, 'cartoonish': 4787, 'feminin': 4788, 'clinic': 4789, 'deem': 4790, 'dudley': 4791, 'highway': 4792, 'retriev': 4793, 'nightclub': 4794, 'knightley': 4795, 'audrey': 4796, 'gunga': 4797, 'smack': 4798, 'turd': 4799, 'charlton': 4800, 'comprehend': 4801, 'swept': 4802, 'leather': 4803, 'disregard': 4804, 'shorter': 4805, 'affleck': 4806, 'glare': 4807, 'peer': 4808, 'outdat': 4809, 'boyer': 4810, 'styliz': 4811, 'wrestler': 4812, 'howl': 4813, 'linear': 4814, 'spine': 4815, 'btw': 4816, 'bogu': 4817, 'potter': 4818, 'toe': 4819, 'energet': 4820, 'uniformli': 4821, 'tara': 4822, 'snatch': 4823, 'lavish': 4824, 'lighter': 4825, 'durat': 4826, 'collector': 4827, 'spawn': 4828, 'newer': 4829, 'sleaz': 4830, 'compris': 4831, 'summar': 4832, 'plate': 4833, 'cemeteri': 4834, 'einstein': 4835, 'salman': 4836, 'chip': 4837, '1994': 4838, 'corn': 4839, 'monument': 4840, 'braveheart': 4841, 'bastard': 4842, 'phenomen': 4843, 'client': 4844, 'deliver': 4845, '1991': 4846, 'evolut': 4847, 'cuban': 4848, 'boo': 4849, 'mitch': 4850, '4th': 4851, 'lifeless': 4852, 'senat': 4853, 'whack': 4854, 'greet': 4855, 'goldsworthi': 4856, 'conrad': 4857, 'moe': 4858, 'breakdown': 4859, 'healthi': 4860, 'ie': 4861, 'eleven': 4862, 'fluid': 4863, 'randolph': 4864, 'evelyn': 4865, 'pronounc': 4866, 'sorrow': 4867, 'kent': 4868, 'belli': 4869, 'embark': 4870, 'capot': 4871, 'constitut': 4872, 'liu': 4873, 'inaccuraci': 4874, 'luxuri': 4875, 'undead': 4876, '1977': 4877, 'gilliam': 4878, 'clara': 4879, 'neatli': 4880, 'appl': 4881, 'cecil': 4882, 'spectacl': 4883, 'jare': 4884, 'armstrong': 4885, 'wtf': 4886, 'jam': 4887, 'ol': 4888, 'creek': 4889, '1974': 4890, 'replay': 4891, 'occup': 4892, 'firmli': 4893, 'historian': 4894, 'bulk': 4895, 'kazan': 4896, 'nina': 4897, 'alleg': 4898, 'outright': 4899, 'bori': 4900, 'lex': 4901, 'judd': 4902, 'trauma': 4903, 'jule': 4904, 'signal': 4905, 'jedi': 4906, 'undertak': 4907, 'mcqueen': 4908, 'porter': 4909, 'basket': 4910, 'conan': 4911, 'inclus': 4912, 'pioneer': 4913, 'fruit': 4914, 'tokyo': 4915, 'rosario': 4916, 'mum': 4917, 'comprehens': 4918, 'sacrif': 4919, 'unsuspect': 4920, 'carmen': 4921, 'unattract': 4922, 'relentless': 4923, 'meal': 4924, 'genet': 4925, 'kiddi': 4926, 'truman': 4927, 'groan': 4928, 'forgiven': 4929, 'lauren': 4930, 'miami': 4931, 'pepper': 4932, 'vignett': 4933, '1985': 4934, 'decapit': 4935, 'galaxi': 4936, 'spray': 4937, 'paula': 4938, 'propheci': 4939, 'vain': 4940, 'comb': 4941, 'roar': 4942, 'sidewalk': 4943, 'knee': 4944, 'miniseri': 4945, 'lanc': 4946, 'inaccur': 4947, 'cape': 4948, 'bsg': 4949, 'ash': 4950, 'congratul': 4951, 'antonio': 4952, 'abound': 4953, 'walt': 4954, 'subtli': 4955, 'curtain': 4956, 'poker': 4957, 'palm': 4958, 'bait': 4959, 'blur': 4960, 'aussi': 4961, 'id': 4962, 'goldblum': 4963, 'detach': 4964, 'weari': 4965, 'casper': 4966, 'masterson': 4967, 'incorrect': 4968, 'assort': 4969, 'vastli': 4970, 'rapidli': 4971, '21st': 4972, 'frontal': 4973, 'scariest': 4974, 'epitom': 4975, 'macabr': 4976, 'orchestr': 4977, 'handicap': 4978, 'cypher': 4979, 'asset': 4980, 'bravo': 4981, 'substanti': 4982, 'spill': 4983, 'playboy': 4984, 'sparkl': 4985, 'motorcycl': 4986, 'bach': 4987, 'ingrid': 4988, 'victorian': 4989, 'modest': 4990, 'optimist': 4991, 'monti': 4992, 'mice': 4993, 'omin': 4994, 'jill': 4995, 'sophi': 4996, 'profil': 4997, 'hackman': 4998, 'scarfac': 4999}\n"
     ]
    }
   ],
   "source": [
    "word_dict = build_dict(train_X)\n",
    "print(word_dict)"
   ]
  },
  {
   "cell_type": "markdown",
   "metadata": {},
   "source": [
    "**Question:** What are the five most frequently appearing (tokenized) words in the training set? Does it makes sense that these words appear frequently in the training set?"
   ]
  },
  {
   "cell_type": "markdown",
   "metadata": {},
   "source": [
    "**Answer:** 'movi', 'film', 'one', 'like', 'time'\n",
    "\n",
    "Those most frequent words seem right, as source data is text of movie reviews. "
   ]
  },
  {
   "cell_type": "code",
   "execution_count": 14,
   "metadata": {},
   "outputs": [
    {
     "name": "stdout",
     "output_type": "stream",
     "text": [
      "movi\n",
      "film\n",
      "one\n",
      "like\n",
      "time\n"
     ]
    }
   ],
   "source": [
    "# TODO: Use this space to determine the five most frequently appearing words in the training set.\n",
    "\n",
    "\n",
    "count = 0\n",
    "for word, idx in word_dict.items():\n",
    "    print(word)\n",
    "    count += 1\n",
    "    if count == 5:\n",
    "        break;\n"
   ]
  },
  {
   "cell_type": "markdown",
   "metadata": {},
   "source": [
    "### Save `word_dict`\n",
    "\n",
    "Later on when we construct an endpoint which processes a submitted review we will need to make use of the `word_dict` which we have created. As such, we will save it to a file now for future use."
   ]
  },
  {
   "cell_type": "code",
   "execution_count": 15,
   "metadata": {},
   "outputs": [],
   "source": [
    "data_dir = '../data/pytorch' # The folder we will use for storing data\n",
    "if not os.path.exists(data_dir): # Make sure that the folder exists\n",
    "    os.makedirs(data_dir)"
   ]
  },
  {
   "cell_type": "code",
   "execution_count": 16,
   "metadata": {},
   "outputs": [],
   "source": [
    "with open(os.path.join(data_dir, 'word_dict.pkl'), \"wb\") as f:\n",
    "    pickle.dump(word_dict, f)"
   ]
  },
  {
   "cell_type": "markdown",
   "metadata": {},
   "source": [
    "### Transform the reviews\n",
    "\n",
    "Now that we have our word dictionary which allows us to transform the words appearing in the reviews into integers, it is time to make use of it and convert our reviews to their integer sequence representation, making sure to pad or truncate to a fixed length, which in our case is `500`."
   ]
  },
  {
   "cell_type": "code",
   "execution_count": 17,
   "metadata": {},
   "outputs": [],
   "source": [
    "def convert_and_pad(word_dict, sentence, pad=500):\n",
    "    NOWORD = 0 # We will use 0 to represent the 'no word' category\n",
    "    INFREQ = 1 # and we use 1 to represent the infrequent words, i.e., words not appearing in word_dict\n",
    "    \n",
    "    working_sentence = [NOWORD] * pad\n",
    "    \n",
    "    for word_index, word in enumerate(sentence[:pad]):\n",
    "        if word in word_dict:\n",
    "            working_sentence[word_index] = word_dict[word]\n",
    "        else:\n",
    "            working_sentence[word_index] = INFREQ\n",
    "            \n",
    "    return working_sentence, min(len(sentence), pad)\n",
    "\n",
    "def convert_and_pad_data(word_dict, data, pad=500):\n",
    "    result = []\n",
    "    lengths = []\n",
    "    \n",
    "    for sentence in data:\n",
    "        converted, leng = convert_and_pad(word_dict, sentence, pad)\n",
    "        result.append(converted)\n",
    "        lengths.append(leng)\n",
    "        \n",
    "    return np.array(result), np.array(lengths)"
   ]
  },
  {
   "cell_type": "code",
   "execution_count": 18,
   "metadata": {},
   "outputs": [],
   "source": [
    "train_X, train_X_len = convert_and_pad_data(word_dict, train_X)\n",
    "test_X, test_X_len = convert_and_pad_data(word_dict, test_X)"
   ]
  },
  {
   "cell_type": "markdown",
   "metadata": {},
   "source": [
    "As a quick check to make sure that things are working as intended, check to see what one of the reviews in the training set looks like after having been processeed. Does this look reasonable? What is the length of a review in the training set?"
   ]
  },
  {
   "cell_type": "code",
   "execution_count": 19,
   "metadata": {},
   "outputs": [
    {
     "name": "stdout",
     "output_type": "stream",
     "text": [
      "500\n"
     ]
    }
   ],
   "source": [
    "# Use this cell to examine one of the processed reviews to make sure everything is working as intended.\n",
    "\n",
    "print(len(train_X[100]))"
   ]
  },
  {
   "cell_type": "markdown",
   "metadata": {},
   "source": [
    "**Question:** In the cells above we use the `preprocess_data` and `convert_and_pad_data` methods to process both the training and testing set. Why or why not might this be a problem?"
   ]
  },
  {
   "cell_type": "markdown",
   "metadata": {},
   "source": [
    "**Answer:**\n",
    "\n",
    "The procedure should not be a problem. Reviews from both training and testing sets need to be preprocessed as 'clean data', and converted into vector of fixed length. Reviews with length shorter than 500 is padded, while those with length longer than 500 is truncated. "
   ]
  },
  {
   "cell_type": "markdown",
   "metadata": {},
   "source": [
    "## Step 3: Upload the data to S3\n",
    "\n",
    "As in the XGBoost notebook, we will need to upload the training dataset to S3 in order for our training code to access it. For now we will save it locally and we will upload to S3 later on.\n",
    "\n",
    "### Save the processed training dataset locally\n",
    "\n",
    "It is important to note the format of the data that we are saving as we will need to know it when we write the training code. In our case, each row of the dataset has the form `label`, `length`, `review[500]` where `review[500]` is a sequence of `500` integers representing the words in the review."
   ]
  },
  {
   "cell_type": "code",
   "execution_count": 20,
   "metadata": {},
   "outputs": [],
   "source": [
    "import pandas as pd\n",
    "    \n",
    "pd.concat([pd.DataFrame(train_y), pd.DataFrame(train_X_len), pd.DataFrame(train_X)], axis=1) \\\n",
    "        .to_csv(os.path.join(data_dir, 'train.csv'), header=False, index=False)"
   ]
  },
  {
   "cell_type": "markdown",
   "metadata": {},
   "source": [
    "### Uploading the training data\n",
    "\n",
    "\n",
    "Next, we need to upload the training data to the SageMaker default S3 bucket so that we can provide access to it while training our model."
   ]
  },
  {
   "cell_type": "code",
   "execution_count": 21,
   "metadata": {},
   "outputs": [],
   "source": [
    "import sagemaker\n",
    "\n",
    "sagemaker_session = sagemaker.Session()\n",
    "\n",
    "bucket = sagemaker_session.default_bucket()\n",
    "prefix = 'sagemaker/sentiment_rnn'\n",
    "\n",
    "role = sagemaker.get_execution_role()"
   ]
  },
  {
   "cell_type": "code",
   "execution_count": 22,
   "metadata": {},
   "outputs": [],
   "source": [
    "input_data = sagemaker_session.upload_data(path=data_dir, bucket=bucket, key_prefix=prefix)"
   ]
  },
  {
   "cell_type": "markdown",
   "metadata": {},
   "source": [
    "**NOTE:** The cell above uploads the entire contents of our data directory. This includes the `word_dict.pkl` file. This is fortunate as we will need this later on when we create an endpoint that accepts an arbitrary review. For now, we will just take note of the fact that it resides in the data directory (and so also in the S3 training bucket) and that we will need to make sure it gets saved in the model directory."
   ]
  },
  {
   "cell_type": "markdown",
   "metadata": {},
   "source": [
    "## Step 4: Build and Train the PyTorch Model\n",
    "\n",
    "In the XGBoost notebook we discussed what a model is in the SageMaker framework. In particular, a model comprises three objects\n",
    "\n",
    " - Model Artifacts,\n",
    " - Training Code, and\n",
    " - Inference Code,\n",
    " \n",
    "each of which interact with one another. In the XGBoost example we used training and inference code that was provided by Amazon. Here we will still be using containers provided by Amazon with the added benefit of being able to include our own custom code.\n",
    "\n",
    "We will start by implementing our own neural network in PyTorch along with a training script. For the purposes of this project we have provided the necessary model object in the `model.py` file, inside of the `train` folder. You can see the provided implementation by running the cell below."
   ]
  },
  {
   "cell_type": "code",
   "execution_count": 23,
   "metadata": {},
   "outputs": [
    {
     "name": "stdout",
     "output_type": "stream",
     "text": [
      "\u001b[34mimport\u001b[39;49;00m \u001b[04m\u001b[36mtorch.nn\u001b[39;49;00m \u001b[34mas\u001b[39;49;00m \u001b[04m\u001b[36mnn\u001b[39;49;00m\r\n",
      "\r\n",
      "\u001b[34mclass\u001b[39;49;00m \u001b[04m\u001b[32mLSTMClassifier\u001b[39;49;00m(nn.Module):\r\n",
      "    \u001b[33m\"\"\"\u001b[39;49;00m\r\n",
      "\u001b[33m    This is the simple RNN model we will be using to perform Sentiment Analysis.\u001b[39;49;00m\r\n",
      "\u001b[33m    \"\"\"\u001b[39;49;00m\r\n",
      "\r\n",
      "    \u001b[34mdef\u001b[39;49;00m \u001b[32m__init__\u001b[39;49;00m(\u001b[36mself\u001b[39;49;00m, embedding_dim, hidden_dim, vocab_size):\r\n",
      "        \u001b[33m\"\"\"\u001b[39;49;00m\r\n",
      "\u001b[33m        Initialize the model by settingg up the various layers.\u001b[39;49;00m\r\n",
      "\u001b[33m        \"\"\"\u001b[39;49;00m\r\n",
      "        \u001b[36msuper\u001b[39;49;00m(LSTMClassifier, \u001b[36mself\u001b[39;49;00m).\u001b[32m__init__\u001b[39;49;00m()\r\n",
      "\r\n",
      "        \u001b[36mself\u001b[39;49;00m.embedding = nn.Embedding(vocab_size, embedding_dim, padding_idx=\u001b[34m0\u001b[39;49;00m)\r\n",
      "        \u001b[36mself\u001b[39;49;00m.lstm = nn.LSTM(embedding_dim, hidden_dim)\r\n",
      "        \u001b[36mself\u001b[39;49;00m.dense = nn.Linear(in_features=hidden_dim, out_features=\u001b[34m1\u001b[39;49;00m)\r\n",
      "        \u001b[36mself\u001b[39;49;00m.sig = nn.Sigmoid()\r\n",
      "        \r\n",
      "        \u001b[36mself\u001b[39;49;00m.word_dict = \u001b[36mNone\u001b[39;49;00m\r\n",
      "\r\n",
      "    \u001b[34mdef\u001b[39;49;00m \u001b[32mforward\u001b[39;49;00m(\u001b[36mself\u001b[39;49;00m, x):\r\n",
      "        \u001b[33m\"\"\"\u001b[39;49;00m\r\n",
      "\u001b[33m        Perform a forward pass of our model on some input.\u001b[39;49;00m\r\n",
      "\u001b[33m        \"\"\"\u001b[39;49;00m\r\n",
      "        x = x.t()\r\n",
      "        lengths = x[\u001b[34m0\u001b[39;49;00m,:]\r\n",
      "        reviews = x[\u001b[34m1\u001b[39;49;00m:,:]\r\n",
      "        embeds = \u001b[36mself\u001b[39;49;00m.embedding(reviews)\r\n",
      "        lstm_out, _ = \u001b[36mself\u001b[39;49;00m.lstm(embeds)\r\n",
      "        out = \u001b[36mself\u001b[39;49;00m.dense(lstm_out)\r\n",
      "        out = out[lengths - \u001b[34m1\u001b[39;49;00m, \u001b[36mrange\u001b[39;49;00m(\u001b[36mlen\u001b[39;49;00m(lengths))]\r\n",
      "        \u001b[34mreturn\u001b[39;49;00m \u001b[36mself\u001b[39;49;00m.sig(out.squeeze())\r\n"
     ]
    }
   ],
   "source": [
    "!pygmentize train/model.py"
   ]
  },
  {
   "cell_type": "markdown",
   "metadata": {},
   "source": [
    "The important takeaway from the implementation provided is that there are three parameters that we may wish to tweak to improve the performance of our model. These are the embedding dimension, the hidden dimension and the size of the vocabulary. We will likely want to make these parameters configurable in the training script so that if we wish to modify them we do not need to modify the script itself. We will see how to do this later on. To start we will write some of the training code in the notebook so that we can more easily diagnose any issues that arise.\n",
    "\n",
    "First we will load a small portion of the training data set to use as a sample. It would be very time consuming to try and train the model completely in the notebook as we do not have access to a gpu and the compute instance that we are using is not particularly powerful. However, we can work on a small bit of the data to get a feel for how our training script is behaving."
   ]
  },
  {
   "cell_type": "code",
   "execution_count": 24,
   "metadata": {},
   "outputs": [],
   "source": [
    "import torch\n",
    "import torch.utils.data\n",
    "\n",
    "# Read in only the first 250 rows\n",
    "train_sample = pd.read_csv(os.path.join(data_dir, 'train.csv'), header=None, names=None, nrows=250)\n",
    "\n",
    "# Turn the input pandas dataframe into tensors\n",
    "train_sample_y = torch.from_numpy(train_sample[[0]].values).float().squeeze()\n",
    "train_sample_X = torch.from_numpy(train_sample.drop([0], axis=1).values).long()\n",
    "\n",
    "# Build the dataset\n",
    "train_sample_ds = torch.utils.data.TensorDataset(train_sample_X, train_sample_y)\n",
    "# Build the dataloader\n",
    "train_sample_dl = torch.utils.data.DataLoader(train_sample_ds, batch_size=50)"
   ]
  },
  {
   "cell_type": "markdown",
   "metadata": {},
   "source": [
    "### (TODO) Writing the training method\n",
    "\n",
    "Next we need to write the training code itself. This should be very similar to training methods that you have written before to train PyTorch models. We will leave any difficult aspects such as model saving / loading and parameter loading until a little later."
   ]
  },
  {
   "cell_type": "code",
   "execution_count": 25,
   "metadata": {},
   "outputs": [],
   "source": [
    "def train(model, train_loader, epochs, optimizer, loss_fn, device):\n",
    "    for epoch in range(1, epochs + 1):\n",
    "        model.train()\n",
    "        total_loss = 0\n",
    "        for batch in train_loader:         \n",
    "            batch_X, batch_y = batch\n",
    "            \n",
    "            batch_X = batch_X.to(device)\n",
    "            batch_y = batch_y.to(device)\n",
    "            \n",
    "            # TODO: Complete this train method to train the model provided.\n",
    "            \n",
    "            optimizer.zero_grad()\n",
    "            out = model.forward(batch_X)\n",
    "            loss = loss_fn(out, batch_y)\n",
    "            loss.backward()\n",
    "            optimizer.step()          \n",
    "            \n",
    "            total_loss += loss.data.item()\n",
    "        print(\"Epoch: {}, BCELoss: {}\".format(epoch, total_loss / len(train_loader)))\n",
    "        "
   ]
  },
  {
   "cell_type": "markdown",
   "metadata": {},
   "source": [
    "Supposing we have the training method above, we will test that it is working by writing a bit of code in the notebook that executes our training method on the small sample training set that we loaded earlier. The reason for doing this in the notebook is so that we have an opportunity to fix any errors that arise early when they are easier to diagnose."
   ]
  },
  {
   "cell_type": "code",
   "execution_count": 26,
   "metadata": {},
   "outputs": [
    {
     "name": "stdout",
     "output_type": "stream",
     "text": [
      "Epoch: 1, BCELoss: 0.6971782207489013\n",
      "Epoch: 2, BCELoss: 0.6867793202400208\n",
      "Epoch: 3, BCELoss: 0.678720760345459\n",
      "Epoch: 4, BCELoss: 0.6703995704650879\n",
      "Epoch: 5, BCELoss: 0.6609002351760864\n"
     ]
    }
   ],
   "source": [
    "import torch.optim as optim\n",
    "from train.model import LSTMClassifier\n",
    "\n",
    "device = torch.device(\"cuda\" if torch.cuda.is_available() else \"cpu\")\n",
    "model = LSTMClassifier(32, 100, 5000).to(device)\n",
    "optimizer = optim.Adam(model.parameters())\n",
    "loss_fn = torch.nn.BCELoss()\n",
    "\n",
    "train(model, train_sample_dl, 5, optimizer, loss_fn, device)"
   ]
  },
  {
   "cell_type": "markdown",
   "metadata": {},
   "source": [
    "In order to construct a PyTorch model using SageMaker we must provide SageMaker with a training script. We may optionally include a directory which will be copied to the container and from which our training code will be run. When the training container is executed it will check the uploaded directory (if there is one) for a `requirements.txt` file and install any required Python libraries, after which the training script will be run."
   ]
  },
  {
   "cell_type": "markdown",
   "metadata": {},
   "source": [
    "### (TODO) Training the model\n",
    "\n",
    "When a PyTorch model is constructed in SageMaker, an entry point must be specified. This is the Python file which will be executed when the model is trained. Inside of the `train` directory is a file called `train.py` which has been provided and which contains most of the necessary code to train our model. The only thing that is missing is the implementation of the `train()` method which you wrote earlier in this notebook.\n",
    "\n",
    "**TODO**: Copy the `train()` method written above and paste it into the `train/train.py` file where required.\n",
    "\n",
    "The way that SageMaker passes hyperparameters to the training script is by way of arguments. These arguments can then be parsed and used in the training script. To see how this is done take a look at the provided `train/train.py` file."
   ]
  },
  {
   "cell_type": "code",
   "execution_count": 27,
   "metadata": {},
   "outputs": [],
   "source": [
    "from sagemaker.pytorch import PyTorch\n",
    "\n",
    "estimator = PyTorch(entry_point=\"train.py\",\n",
    "                    source_dir=\"train\",\n",
    "                    role=role,\n",
    "                    framework_version='0.4.0',\n",
    "                    train_instance_count=1,\n",
    "                    train_instance_type='ml.p2.xlarge',\n",
    "                    hyperparameters={\n",
    "                        'epochs': 10,\n",
    "                        'hidden_dim': 200,\n",
    "                    })"
   ]
  },
  {
   "cell_type": "code",
   "execution_count": 28,
   "metadata": {},
   "outputs": [
    {
     "name": "stdout",
     "output_type": "stream",
     "text": [
      "2019-06-30 12:51:55 Starting - Starting the training job...\n",
      "2019-06-30 12:51:56 Starting - Launching requested ML instances......\n",
      "2019-06-30 12:53:07 Starting - Preparing the instances for training......\n",
      "2019-06-30 12:54:16 Downloading - Downloading input data...\n",
      "2019-06-30 12:54:42 Training - Downloading the training image...\n",
      "2019-06-30 12:55:15 Training - Training image download completed. Training in progress.\n",
      "\u001b[31mbash: cannot set terminal process group (-1): Inappropriate ioctl for device\u001b[0m\n",
      "\u001b[31mbash: no job control in this shell\u001b[0m\n",
      "\u001b[31m2019-06-30 12:55:16,203 sagemaker-containers INFO     Imported framework sagemaker_pytorch_container.training\u001b[0m\n",
      "\u001b[31m2019-06-30 12:55:16,242 sagemaker_pytorch_container.training INFO     Block until all host DNS lookups succeed.\u001b[0m\n",
      "\u001b[31m2019-06-30 12:55:16,245 sagemaker_pytorch_container.training INFO     Invoking user training script.\u001b[0m\n",
      "\u001b[31m2019-06-30 12:55:16,535 sagemaker-containers INFO     Module train does not provide a setup.py. \u001b[0m\n",
      "\u001b[31mGenerating setup.py\u001b[0m\n",
      "\u001b[31m2019-06-30 12:55:16,535 sagemaker-containers INFO     Generating setup.cfg\u001b[0m\n",
      "\u001b[31m2019-06-30 12:55:16,535 sagemaker-containers INFO     Generating MANIFEST.in\u001b[0m\n",
      "\u001b[31m2019-06-30 12:55:16,535 sagemaker-containers INFO     Installing module with the following command:\u001b[0m\n",
      "\u001b[31m/usr/bin/python -m pip install -U . -r requirements.txt\u001b[0m\n",
      "\u001b[31mProcessing /opt/ml/code\u001b[0m\n",
      "\u001b[31mCollecting pandas (from -r requirements.txt (line 1))\n",
      "  Downloading https://files.pythonhosted.org/packages/74/24/0cdbf8907e1e3bc5a8da03345c23cbed7044330bb8f73bb12e711a640a00/pandas-0.24.2-cp35-cp35m-manylinux1_x86_64.whl (10.0MB)\u001b[0m\n",
      "\u001b[31mCollecting numpy (from -r requirements.txt (line 2))\n",
      "  Downloading https://files.pythonhosted.org/packages/bb/ef/d5a21cbc094d3f4d5b5336494dbcc9550b70c766a8345513c7c24ed18418/numpy-1.16.4-cp35-cp35m-manylinux1_x86_64.whl (17.2MB)\u001b[0m\n",
      "\u001b[31mCollecting nltk (from -r requirements.txt (line 3))\n",
      "  Downloading https://files.pythonhosted.org/packages/8d/5d/825889810b85c303c8559a3fd74d451d80cf3585a851f2103e69576bf583/nltk-3.4.3.zip (1.4MB)\u001b[0m\n",
      "\u001b[31mCollecting beautifulsoup4 (from -r requirements.txt (line 4))\n",
      "  Downloading https://files.pythonhosted.org/packages/1d/5d/3260694a59df0ec52f8b4883f5d23b130bc237602a1411fa670eae12351e/beautifulsoup4-4.7.1-py3-none-any.whl (94kB)\u001b[0m\n",
      "\u001b[31mCollecting html5lib (from -r requirements.txt (line 5))\n",
      "  Downloading https://files.pythonhosted.org/packages/a5/62/bbd2be0e7943ec8504b517e62bab011b4946e1258842bc159e5dfde15b96/html5lib-1.0.1-py2.py3-none-any.whl (117kB)\u001b[0m\n",
      "\u001b[31mRequirement already satisfied, skipping upgrade: python-dateutil>=2.5.0 in /usr/local/lib/python3.5/dist-packages (from pandas->-r requirements.txt (line 1)) (2.7.5)\u001b[0m\n",
      "\u001b[31mCollecting pytz>=2011k (from pandas->-r requirements.txt (line 1))\u001b[0m\n",
      "\u001b[31m  Downloading https://files.pythonhosted.org/packages/3d/73/fe30c2daaaa0713420d0382b16fbb761409f532c56bdcc514bf7b6262bb6/pytz-2019.1-py2.py3-none-any.whl (510kB)\u001b[0m\n",
      "\u001b[31mRequirement already satisfied, skipping upgrade: six in /usr/local/lib/python3.5/dist-packages (from nltk->-r requirements.txt (line 3)) (1.11.0)\u001b[0m\n",
      "\u001b[31mCollecting soupsieve>=1.2 (from beautifulsoup4->-r requirements.txt (line 4))\n",
      "  Downloading https://files.pythonhosted.org/packages/35/e3/25079e8911085ab76a6f2facae0771078260c930216ab0b0c44dc5c9bf31/soupsieve-1.9.2-py2.py3-none-any.whl\u001b[0m\n",
      "\u001b[31mCollecting webencodings (from html5lib->-r requirements.txt (line 5))\n",
      "  Downloading https://files.pythonhosted.org/packages/f4/24/2a3e3df732393fed8b3ebf2ec078f05546de641fe1b667ee316ec1dcf3b7/webencodings-0.5.1-py2.py3-none-any.whl\u001b[0m\n",
      "\u001b[31mBuilding wheels for collected packages: nltk, train\n",
      "  Running setup.py bdist_wheel for nltk: started\n",
      "  Running setup.py bdist_wheel for nltk: finished with status 'done'\n",
      "  Stored in directory: /root/.cache/pip/wheels/54/40/b7/c56ad418e6cd4d9e1e594b5e138d1ca6eec11a6ee3d464e5bb\u001b[0m\n",
      "\u001b[31m  Running setup.py bdist_wheel for train: started\n",
      "  Running setup.py bdist_wheel for train: finished with status 'done'\n",
      "  Stored in directory: /tmp/pip-ephem-wheel-cache-4ftvs36d/wheels/35/24/16/37574d11bf9bde50616c67372a334f94fa8356bc7164af8ca3\u001b[0m\n",
      "\u001b[31mSuccessfully built nltk train\u001b[0m\n",
      "\u001b[31mInstalling collected packages: numpy, pytz, pandas, nltk, soupsieve, beautifulsoup4, webencodings, html5lib, train\n",
      "  Found existing installation: numpy 1.15.4\n",
      "    Uninstalling numpy-1.15.4:\u001b[0m\n",
      "\u001b[31m      Successfully uninstalled numpy-1.15.4\u001b[0m\n",
      "\u001b[31mSuccessfully installed beautifulsoup4-4.7.1 html5lib-1.0.1 nltk-3.4.3 numpy-1.16.4 pandas-0.24.2 pytz-2019.1 soupsieve-1.9.2 train-1.0.0 webencodings-0.5.1\u001b[0m\n",
      "\u001b[31mYou are using pip version 18.1, however version 19.1.1 is available.\u001b[0m\n",
      "\u001b[31mYou should consider upgrading via the 'pip install --upgrade pip' command.\u001b[0m\n",
      "\u001b[31m2019-06-30 12:55:27,662 sagemaker-containers INFO     Invoking user script\n",
      "\u001b[0m\n",
      "\u001b[31mTraining Env:\n",
      "\u001b[0m\n",
      "\u001b[31m{\n",
      "    \"job_name\": \"sagemaker-pytorch-2019-06-30-12-51-53-669\",\n",
      "    \"model_dir\": \"/opt/ml/model\",\n",
      "    \"input_config_dir\": \"/opt/ml/input/config\",\n",
      "    \"user_entry_point\": \"train.py\",\n",
      "    \"current_host\": \"algo-1\",\n",
      "    \"input_dir\": \"/opt/ml/input\",\n",
      "    \"module_name\": \"train\",\n",
      "    \"module_dir\": \"s3://sagemaker-ap-northeast-1-806689585038/sagemaker-pytorch-2019-06-30-12-51-53-669/source/sourcedir.tar.gz\",\n",
      "    \"hyperparameters\": {\n",
      "        \"hidden_dim\": 200,\n",
      "        \"epochs\": 10\n",
      "    },\n",
      "    \"additional_framework_parameters\": {},\n",
      "    \"hosts\": [\n",
      "        \"algo-1\"\n",
      "    ],\n",
      "    \"network_interface_name\": \"eth0\",\n",
      "    \"output_intermediate_dir\": \"/opt/ml/output/intermediate\",\n",
      "    \"num_gpus\": 1,\n",
      "    \"resource_config\": {\n",
      "        \"hosts\": [\n",
      "            \"algo-1\"\n",
      "        ],\n",
      "        \"network_interface_name\": \"eth0\",\n",
      "        \"current_host\": \"algo-1\"\n",
      "    },\n",
      "    \"framework_module\": \"sagemaker_pytorch_container.training:main\",\n",
      "    \"channel_input_dirs\": {\n",
      "        \"training\": \"/opt/ml/input/data/training\"\n",
      "    },\n",
      "    \"log_level\": 20,\n",
      "    \"output_data_dir\": \"/opt/ml/output/data\",\n",
      "    \"input_data_config\": {\n",
      "        \"training\": {\n",
      "            \"RecordWrapperType\": \"None\",\n",
      "            \"S3DistributionType\": \"FullyReplicated\",\n",
      "            \"TrainingInputMode\": \"File\"\n",
      "        }\n",
      "    },\n",
      "    \"num_cpus\": 4,\n",
      "    \"output_dir\": \"/opt/ml/output\"\u001b[0m\n",
      "\u001b[31m}\n",
      "\u001b[0m\n",
      "\u001b[31mEnvironment variables:\n",
      "\u001b[0m\n",
      "\u001b[31mSM_TRAINING_ENV={\"additional_framework_parameters\":{},\"channel_input_dirs\":{\"training\":\"/opt/ml/input/data/training\"},\"current_host\":\"algo-1\",\"framework_module\":\"sagemaker_pytorch_container.training:main\",\"hosts\":[\"algo-1\"],\"hyperparameters\":{\"epochs\":10,\"hidden_dim\":200},\"input_config_dir\":\"/opt/ml/input/config\",\"input_data_config\":{\"training\":{\"RecordWrapperType\":\"None\",\"S3DistributionType\":\"FullyReplicated\",\"TrainingInputMode\":\"File\"}},\"input_dir\":\"/opt/ml/input\",\"job_name\":\"sagemaker-pytorch-2019-06-30-12-51-53-669\",\"log_level\":20,\"model_dir\":\"/opt/ml/model\",\"module_dir\":\"s3://sagemaker-ap-northeast-1-806689585038/sagemaker-pytorch-2019-06-30-12-51-53-669/source/sourcedir.tar.gz\",\"module_name\":\"train\",\"network_interface_name\":\"eth0\",\"num_cpus\":4,\"num_gpus\":1,\"output_data_dir\":\"/opt/ml/output/data\",\"output_dir\":\"/opt/ml/output\",\"output_intermediate_dir\":\"/opt/ml/output/intermediate\",\"resource_config\":{\"current_host\":\"algo-1\",\"hosts\":[\"algo-1\"],\"network_interface_name\":\"eth0\"},\"user_entry_point\":\"train.py\"}\u001b[0m\n",
      "\u001b[31mSM_RESOURCE_CONFIG={\"current_host\":\"algo-1\",\"hosts\":[\"algo-1\"],\"network_interface_name\":\"eth0\"}\u001b[0m\n",
      "\u001b[31mSM_CHANNEL_TRAINING=/opt/ml/input/data/training\u001b[0m\n",
      "\u001b[31mSM_LOG_LEVEL=20\u001b[0m\n",
      "\u001b[31mSM_HOSTS=[\"algo-1\"]\u001b[0m\n",
      "\u001b[31mSM_OUTPUT_DATA_DIR=/opt/ml/output/data\u001b[0m\n",
      "\u001b[31mSM_MODULE_NAME=train\u001b[0m\n",
      "\u001b[31mSM_NUM_GPUS=1\u001b[0m\n",
      "\u001b[31mSM_INPUT_DIR=/opt/ml/input\u001b[0m\n",
      "\u001b[31mSM_CHANNELS=[\"training\"]\u001b[0m\n",
      "\u001b[31mSM_NUM_CPUS=4\u001b[0m\n",
      "\u001b[31mSM_USER_ENTRY_POINT=train.py\u001b[0m\n",
      "\u001b[31mSM_OUTPUT_DIR=/opt/ml/output\u001b[0m\n",
      "\u001b[31mPYTHONPATH=/usr/local/bin:/usr/lib/python35.zip:/usr/lib/python3.5:/usr/lib/python3.5/plat-x86_64-linux-gnu:/usr/lib/python3.5/lib-dynload:/usr/local/lib/python3.5/dist-packages:/usr/lib/python3/dist-packages\u001b[0m\n",
      "\u001b[31mSM_INPUT_CONFIG_DIR=/opt/ml/input/config\u001b[0m\n",
      "\u001b[31mSM_FRAMEWORK_PARAMS={}\u001b[0m\n",
      "\u001b[31mSM_HP_HIDDEN_DIM=200\u001b[0m\n",
      "\u001b[31mSM_FRAMEWORK_MODULE=sagemaker_pytorch_container.training:main\u001b[0m\n",
      "\u001b[31mSM_USER_ARGS=[\"--epochs\",\"10\",\"--hidden_dim\",\"200\"]\u001b[0m\n",
      "\u001b[31mSM_INPUT_DATA_CONFIG={\"training\":{\"RecordWrapperType\":\"None\",\"S3DistributionType\":\"FullyReplicated\",\"TrainingInputMode\":\"File\"}}\u001b[0m\n",
      "\u001b[31mSM_HPS={\"epochs\":10,\"hidden_dim\":200}\u001b[0m\n",
      "\u001b[31mSM_CURRENT_HOST=algo-1\u001b[0m\n",
      "\u001b[31mSM_NETWORK_INTERFACE_NAME=eth0\u001b[0m\n",
      "\u001b[31mSM_MODULE_DIR=s3://sagemaker-ap-northeast-1-806689585038/sagemaker-pytorch-2019-06-30-12-51-53-669/source/sourcedir.tar.gz\u001b[0m\n",
      "\u001b[31mSM_HP_EPOCHS=10\u001b[0m\n",
      "\u001b[31mSM_MODEL_DIR=/opt/ml/model\u001b[0m\n",
      "\u001b[31mSM_OUTPUT_INTERMEDIATE_DIR=/opt/ml/output/intermediate\n",
      "\u001b[0m\n",
      "\u001b[31mInvoking script with the following command:\n",
      "\u001b[0m\n",
      "\u001b[31m/usr/bin/python -m train --epochs 10 --hidden_dim 200\n",
      "\n",
      "\u001b[0m\n",
      "\u001b[31mUsing device cuda.\u001b[0m\n",
      "\u001b[31mGet train data loader.\u001b[0m\n"
     ]
    },
    {
     "name": "stdout",
     "output_type": "stream",
     "text": [
      "\u001b[31mModel loaded with embedding_dim 32, hidden_dim 200, vocab_size 5000.\u001b[0m\n",
      "\u001b[31mEpoch: 1, BCELoss: 0.6736796048222756\u001b[0m\n",
      "\u001b[31mEpoch: 2, BCELoss: 0.5861621450404731\u001b[0m\n",
      "\u001b[31mEpoch: 3, BCELoss: 0.52461169751323\u001b[0m\n",
      "\u001b[31mEpoch: 4, BCELoss: 0.4381507391832313\u001b[0m\n",
      "\u001b[31mEpoch: 5, BCELoss: 0.38567975102638713\u001b[0m\n",
      "\u001b[31mEpoch: 6, BCELoss: 0.3733086993499678\u001b[0m\n",
      "\u001b[31mEpoch: 7, BCELoss: 0.33407386650844495\u001b[0m\n",
      "\u001b[31mEpoch: 8, BCELoss: 0.3091423091839771\u001b[0m\n",
      "\u001b[31mEpoch: 9, BCELoss: 0.2845986154006452\u001b[0m\n",
      "\u001b[31mEpoch: 10, BCELoss: 0.2705371328154389\u001b[0m\n",
      "\u001b[31m2019-06-30 12:58:28,716 sagemaker-containers INFO     Reporting training SUCCESS\u001b[0m\n",
      "\n",
      "2019-06-30 12:58:38 Uploading - Uploading generated training model\n",
      "2019-06-30 12:58:38 Completed - Training job completed\n",
      "Billable seconds: 263\n"
     ]
    }
   ],
   "source": [
    "estimator.fit({'training': input_data})"
   ]
  },
  {
   "cell_type": "markdown",
   "metadata": {},
   "source": [
    "## Step 5: Testing the model\n",
    "\n",
    "As mentioned at the top of this notebook, we will be testing this model by first deploying it and then sending the testing data to the deployed endpoint. We will do this so that we can make sure that the deployed model is working correctly.\n",
    "\n",
    "## Step 6: Deploy the model for testing\n",
    "\n",
    "Now that we have trained our model, we would like to test it to see how it performs. Currently our model takes input of the form `review_length, review[500]` where `review[500]` is a sequence of `500` integers which describe the words present in the review, encoded using `word_dict`. Fortunately for us, SageMaker provides built-in inference code for models with simple inputs such as this.\n",
    "\n",
    "There is one thing that we need to provide, however, and that is a function which loads the saved model. This function must be called `model_fn()` and takes as its only parameter a path to the directory where the model artifacts are stored. This function must also be present in the python file which we specified as the entry point. In our case the model loading function has been provided and so no changes need to be made.\n",
    "\n",
    "**NOTE**: When the built-in inference code is run it must import the `model_fn()` method from the `train.py` file. This is why the training code is wrapped in a main guard ( ie, `if __name__ == '__main__':` )\n",
    "\n",
    "Since we don't need to change anything in the code that was uploaded during training, we can simply deploy the current model as-is.\n",
    "\n",
    "**NOTE:** When deploying a model you are asking SageMaker to launch an compute instance that will wait for data to be sent to it. As a result, this compute instance will continue to run until *you* shut it down. This is important to know since the cost of a deployed endpoint depends on how long it has been running for.\n",
    "\n",
    "In other words **If you are no longer using a deployed endpoint, shut it down!**\n",
    "\n",
    "**TODO:** Deploy the trained model."
   ]
  },
  {
   "cell_type": "code",
   "execution_count": 29,
   "metadata": {},
   "outputs": [
    {
     "name": "stdout",
     "output_type": "stream",
     "text": [
      "--------------------------------------------------------------------------------------------------!"
     ]
    }
   ],
   "source": [
    "# TODO: Deploy the trained model\n",
    "\n",
    "predictor = estimator.deploy(initial_instance_count=1, instance_type='ml.m4.xlarge')"
   ]
  },
  {
   "cell_type": "markdown",
   "metadata": {},
   "source": [
    "## Step 7 - Use the model for testing\n",
    "\n",
    "Once deployed, we can read in the test data and send it off to our deployed model to get some results. Once we collect all of the results we can determine how accurate our model is."
   ]
  },
  {
   "cell_type": "code",
   "execution_count": 30,
   "metadata": {},
   "outputs": [],
   "source": [
    "test_X = pd.concat([pd.DataFrame(test_X_len), pd.DataFrame(test_X)], axis=1)"
   ]
  },
  {
   "cell_type": "code",
   "execution_count": 31,
   "metadata": {},
   "outputs": [],
   "source": [
    "# We split the data into chunks and send each chunk seperately, accumulating the results.\n",
    "\n",
    "def predict(data, rows=512):\n",
    "    split_array = np.array_split(data, int(data.shape[0] / float(rows) + 1))\n",
    "    predictions = np.array([])\n",
    "    for array in split_array:\n",
    "        predictions = np.append(predictions, predictor.predict(array))\n",
    "    \n",
    "    return predictions"
   ]
  },
  {
   "cell_type": "code",
   "execution_count": 32,
   "metadata": {},
   "outputs": [],
   "source": [
    "predictions = predict(test_X.values)\n",
    "predictions = [round(num) for num in predictions]"
   ]
  },
  {
   "cell_type": "code",
   "execution_count": 33,
   "metadata": {},
   "outputs": [
    {
     "data": {
      "text/plain": [
       "0.8516"
      ]
     },
     "execution_count": 33,
     "metadata": {},
     "output_type": "execute_result"
    }
   ],
   "source": [
    "from sklearn.metrics import accuracy_score\n",
    "accuracy_score(test_y, predictions)"
   ]
  },
  {
   "cell_type": "markdown",
   "metadata": {},
   "source": [
    "**Question:** How does this model compare to the XGBoost model you created earlier? Why might these two models perform differently on this dataset? Which do *you* think is better for sentiment analysis?"
   ]
  },
  {
   "cell_type": "markdown",
   "metadata": {},
   "source": [
    "**Answer:**\n",
    "\n",
    "My XGBoost model got accuracy of 0.xxx, while the LSTM model got 0.8516. With hyperparameter tuning in XGBoost and architecture redesign in LSTM (e.g. deeper or wider network), we could perhaps get the accuracy to even higher level. \n",
    "\n",
    "XGBoost grew out of the machine learning school, and boosting family, while LSTM from deep learning RNN. Both models are able to pick up effect of feature interactions, and non-linear relationship of features and label. \n",
    "\n",
    "In theory, LSTM should have slight advantage as it takes into account not only the words used in movie review, but also the order in which those words appear. In practice, however, depending on the specificity of the dataset, either XGBoost or LSTM can be the better performing model. "
   ]
  },
  {
   "cell_type": "markdown",
   "metadata": {},
   "source": [
    "### (TODO) More testing\n",
    "\n",
    "We now have a trained model which has been deployed and which we can send processed reviews to and which returns the predicted sentiment. However, ultimately we would like to be able to send our model an unprocessed review. That is, we would like to send the review itself as a string. For example, suppose we wish to send the following review to our model."
   ]
  },
  {
   "cell_type": "code",
   "execution_count": 34,
   "metadata": {},
   "outputs": [],
   "source": [
    "test_review = 'The simplest pleasures in life are the best, and this film is one of them. Combining a rather basic storyline of love and adventure this movie transcends the usual weekend fair with wit and unmitigated charm.'"
   ]
  },
  {
   "cell_type": "markdown",
   "metadata": {},
   "source": [
    "The question we now need to answer is, how do we send this review to our model?\n",
    "\n",
    "Recall in the first section of this notebook we did a bunch of data processing to the IMDb dataset. In particular, we did two specific things to the provided reviews.\n",
    " - Removed any html tags and stemmed the input\n",
    " - Encoded the review as a sequence of integers using `word_dict`\n",
    " \n",
    "In order process the review we will need to repeat these two steps.\n",
    "\n",
    "**TODO**: Using the `review_to_words` and `convert_and_pad` methods from section one, convert `test_review` into a numpy array `test_data` suitable to send to our model. Remember that our model expects input of the form `review_length, review[500]`."
   ]
  },
  {
   "cell_type": "code",
   "execution_count": 35,
   "metadata": {},
   "outputs": [],
   "source": [
    "# TODO: Convert test_review into a form usable by the model and save the results in test_data\n",
    "\n",
    "test_data_review_to_words = review_to_words(test_review)\n",
    "test_data = [np.array(convert_and_pad(word_dict, test_data_review_to_words)[0])]"
   ]
  },
  {
   "cell_type": "markdown",
   "metadata": {},
   "source": [
    "Now that we have processed the review, we can send the resulting array to our model to predict the sentiment of the review."
   ]
  },
  {
   "cell_type": "code",
   "execution_count": 36,
   "metadata": {},
   "outputs": [
    {
     "data": {
      "text/plain": [
       "array(0.6978576, dtype=float32)"
      ]
     },
     "execution_count": 36,
     "metadata": {},
     "output_type": "execute_result"
    }
   ],
   "source": [
    "predictor.predict(test_data)"
   ]
  },
  {
   "cell_type": "markdown",
   "metadata": {},
   "source": [
    "Since the return value of our model is close to `1`, we can be certain that the review we submitted is positive."
   ]
  },
  {
   "cell_type": "markdown",
   "metadata": {},
   "source": [
    "### Delete the endpoint\n",
    "\n",
    "Of course, just like in the XGBoost notebook, once we've deployed an endpoint it continues to run until we tell it to shut down. Since we are done using our endpoint for now, we can delete it."
   ]
  },
  {
   "cell_type": "code",
   "execution_count": 37,
   "metadata": {},
   "outputs": [],
   "source": [
    "estimator.delete_endpoint()"
   ]
  },
  {
   "cell_type": "markdown",
   "metadata": {},
   "source": [
    "## Step 6 (again) - Deploy the model for the web app\n",
    "\n",
    "Now that we know that our model is working, it's time to create some custom inference code so that we can send the model a review which has not been processed and have it determine the sentiment of the review.\n",
    "\n",
    "As we saw above, by default the estimator which we created, when deployed, will use the entry script and directory which we provided when creating the model. However, since we now wish to accept a string as input and our model expects a processed review, we need to write some custom inference code.\n",
    "\n",
    "We will store the code that we write in the `serve` directory. Provided in this directory is the `model.py` file that we used to construct our model, a `utils.py` file which contains the `review_to_words` and `convert_and_pad` pre-processing functions which we used during the initial data processing, and `predict.py`, the file which will contain our custom inference code. Note also that `requirements.txt` is present which will tell SageMaker what Python libraries are required by our custom inference code.\n",
    "\n",
    "When deploying a PyTorch model in SageMaker, you are expected to provide four functions which the SageMaker inference container will use.\n",
    " - `model_fn`: This function is the same function that we used in the training script and it tells SageMaker how to load our model.\n",
    " - `input_fn`: This function receives the raw serialized input that has been sent to the model's endpoint and its job is to de-serialize and make the input available for the inference code.\n",
    " - `output_fn`: This function takes the output of the inference code and its job is to serialize this output and return it to the caller of the model's endpoint.\n",
    " - `predict_fn`: The heart of the inference script, this is where the actual prediction is done and is the function which you will need to complete.\n",
    "\n",
    "For the simple website that we are constructing during this project, the `input_fn` and `output_fn` methods are relatively straightforward. We only require being able to accept a string as input and we expect to return a single value as output. You might imagine though that in a more complex application the input or output may be image data or some other binary data which would require some effort to serialize.\n",
    "\n",
    "### (TODO) Writing inference code\n",
    "\n",
    "Before writing our custom inference code, we will begin by taking a look at the code which has been provided."
   ]
  },
  {
   "cell_type": "code",
   "execution_count": 39,
   "metadata": {},
   "outputs": [
    {
     "name": "stdout",
     "output_type": "stream",
     "text": [
      "\u001b[34mimport\u001b[39;49;00m \u001b[04m\u001b[36margparse\u001b[39;49;00m\r\n",
      "\u001b[34mimport\u001b[39;49;00m \u001b[04m\u001b[36mjson\u001b[39;49;00m\r\n",
      "\u001b[34mimport\u001b[39;49;00m \u001b[04m\u001b[36mos\u001b[39;49;00m\r\n",
      "\u001b[34mimport\u001b[39;49;00m \u001b[04m\u001b[36mpickle\u001b[39;49;00m\r\n",
      "\u001b[34mimport\u001b[39;49;00m \u001b[04m\u001b[36msys\u001b[39;49;00m\r\n",
      "\u001b[34mimport\u001b[39;49;00m \u001b[04m\u001b[36msagemaker_containers\u001b[39;49;00m\r\n",
      "\u001b[34mimport\u001b[39;49;00m \u001b[04m\u001b[36mpandas\u001b[39;49;00m \u001b[34mas\u001b[39;49;00m \u001b[04m\u001b[36mpd\u001b[39;49;00m\r\n",
      "\u001b[34mimport\u001b[39;49;00m \u001b[04m\u001b[36mnumpy\u001b[39;49;00m \u001b[34mas\u001b[39;49;00m \u001b[04m\u001b[36mnp\u001b[39;49;00m\r\n",
      "\u001b[34mimport\u001b[39;49;00m \u001b[04m\u001b[36mtorch\u001b[39;49;00m\r\n",
      "\u001b[34mimport\u001b[39;49;00m \u001b[04m\u001b[36mtorch.nn\u001b[39;49;00m \u001b[34mas\u001b[39;49;00m \u001b[04m\u001b[36mnn\u001b[39;49;00m\r\n",
      "\u001b[34mimport\u001b[39;49;00m \u001b[04m\u001b[36mtorch.optim\u001b[39;49;00m \u001b[34mas\u001b[39;49;00m \u001b[04m\u001b[36moptim\u001b[39;49;00m\r\n",
      "\u001b[34mimport\u001b[39;49;00m \u001b[04m\u001b[36mtorch.utils.data\u001b[39;49;00m\r\n",
      "\r\n",
      "\u001b[34mfrom\u001b[39;49;00m \u001b[04m\u001b[36mmodel\u001b[39;49;00m \u001b[34mimport\u001b[39;49;00m LSTMClassifier\r\n",
      "\r\n",
      "\u001b[34mfrom\u001b[39;49;00m \u001b[04m\u001b[36mutils\u001b[39;49;00m \u001b[34mimport\u001b[39;49;00m review_to_words, convert_and_pad\r\n",
      "\r\n",
      "\u001b[34mdef\u001b[39;49;00m \u001b[32mmodel_fn\u001b[39;49;00m(model_dir):\r\n",
      "    \u001b[33m\"\"\"Load the PyTorch model from the `model_dir` directory.\"\"\"\u001b[39;49;00m\r\n",
      "    \u001b[34mprint\u001b[39;49;00m(\u001b[33m\"\u001b[39;49;00m\u001b[33mLoading model.\u001b[39;49;00m\u001b[33m\"\u001b[39;49;00m)\r\n",
      "\r\n",
      "    \u001b[37m# First, load the parameters used to create the model.\u001b[39;49;00m\r\n",
      "    model_info = {}\r\n",
      "    model_info_path = os.path.join(model_dir, \u001b[33m'\u001b[39;49;00m\u001b[33mmodel_info.pth\u001b[39;49;00m\u001b[33m'\u001b[39;49;00m)\r\n",
      "    \u001b[34mwith\u001b[39;49;00m \u001b[36mopen\u001b[39;49;00m(model_info_path, \u001b[33m'\u001b[39;49;00m\u001b[33mrb\u001b[39;49;00m\u001b[33m'\u001b[39;49;00m) \u001b[34mas\u001b[39;49;00m f:\r\n",
      "        model_info = torch.load(f)\r\n",
      "\r\n",
      "    \u001b[34mprint\u001b[39;49;00m(\u001b[33m\"\u001b[39;49;00m\u001b[33mmodel_info: {}\u001b[39;49;00m\u001b[33m\"\u001b[39;49;00m.format(model_info))\r\n",
      "\r\n",
      "    \u001b[37m# Determine the device and construct the model.\u001b[39;49;00m\r\n",
      "    device = torch.device(\u001b[33m\"\u001b[39;49;00m\u001b[33mcuda\u001b[39;49;00m\u001b[33m\"\u001b[39;49;00m \u001b[34mif\u001b[39;49;00m torch.cuda.is_available() \u001b[34melse\u001b[39;49;00m \u001b[33m\"\u001b[39;49;00m\u001b[33mcpu\u001b[39;49;00m\u001b[33m\"\u001b[39;49;00m)\r\n",
      "    model = LSTMClassifier(model_info[\u001b[33m'\u001b[39;49;00m\u001b[33membedding_dim\u001b[39;49;00m\u001b[33m'\u001b[39;49;00m], model_info[\u001b[33m'\u001b[39;49;00m\u001b[33mhidden_dim\u001b[39;49;00m\u001b[33m'\u001b[39;49;00m], model_info[\u001b[33m'\u001b[39;49;00m\u001b[33mvocab_size\u001b[39;49;00m\u001b[33m'\u001b[39;49;00m])\r\n",
      "\r\n",
      "    \u001b[37m# Load the store model parameters.\u001b[39;49;00m\r\n",
      "    model_path = os.path.join(model_dir, \u001b[33m'\u001b[39;49;00m\u001b[33mmodel.pth\u001b[39;49;00m\u001b[33m'\u001b[39;49;00m)\r\n",
      "    \u001b[34mwith\u001b[39;49;00m \u001b[36mopen\u001b[39;49;00m(model_path, \u001b[33m'\u001b[39;49;00m\u001b[33mrb\u001b[39;49;00m\u001b[33m'\u001b[39;49;00m) \u001b[34mas\u001b[39;49;00m f:\r\n",
      "        model.load_state_dict(torch.load(f))\r\n",
      "\r\n",
      "    \u001b[37m# Load the saved word_dict.\u001b[39;49;00m\r\n",
      "    word_dict_path = os.path.join(model_dir, \u001b[33m'\u001b[39;49;00m\u001b[33mword_dict.pkl\u001b[39;49;00m\u001b[33m'\u001b[39;49;00m)\r\n",
      "    \u001b[34mwith\u001b[39;49;00m \u001b[36mopen\u001b[39;49;00m(word_dict_path, \u001b[33m'\u001b[39;49;00m\u001b[33mrb\u001b[39;49;00m\u001b[33m'\u001b[39;49;00m) \u001b[34mas\u001b[39;49;00m f:\r\n",
      "        model.word_dict = pickle.load(f)\r\n",
      "\r\n",
      "    model.to(device).eval()\r\n",
      "\r\n",
      "    \u001b[34mprint\u001b[39;49;00m(\u001b[33m\"\u001b[39;49;00m\u001b[33mDone loading model.\u001b[39;49;00m\u001b[33m\"\u001b[39;49;00m)\r\n",
      "    \u001b[34mreturn\u001b[39;49;00m model\r\n",
      "\r\n",
      "\u001b[34mdef\u001b[39;49;00m \u001b[32minput_fn\u001b[39;49;00m(serialized_input_data, content_type):\r\n",
      "    \u001b[34mprint\u001b[39;49;00m(\u001b[33m'\u001b[39;49;00m\u001b[33mDeserializing the input data.\u001b[39;49;00m\u001b[33m'\u001b[39;49;00m)\r\n",
      "    \u001b[34mif\u001b[39;49;00m content_type == \u001b[33m'\u001b[39;49;00m\u001b[33mtext/plain\u001b[39;49;00m\u001b[33m'\u001b[39;49;00m:\r\n",
      "        data = serialized_input_data.decode(\u001b[33m'\u001b[39;49;00m\u001b[33mutf-8\u001b[39;49;00m\u001b[33m'\u001b[39;49;00m)\r\n",
      "        \u001b[34mreturn\u001b[39;49;00m data\r\n",
      "    \u001b[34mraise\u001b[39;49;00m \u001b[36mException\u001b[39;49;00m(\u001b[33m'\u001b[39;49;00m\u001b[33mRequested unsupported ContentType in content_type: \u001b[39;49;00m\u001b[33m'\u001b[39;49;00m + content_type)\r\n",
      "\r\n",
      "\u001b[34mdef\u001b[39;49;00m \u001b[32moutput_fn\u001b[39;49;00m(prediction_output, accept):\r\n",
      "    \u001b[34mprint\u001b[39;49;00m(\u001b[33m'\u001b[39;49;00m\u001b[33mSerializing the generated output.\u001b[39;49;00m\u001b[33m'\u001b[39;49;00m)\r\n",
      "    \u001b[34mreturn\u001b[39;49;00m \u001b[36mstr\u001b[39;49;00m(prediction_output)\r\n",
      "\r\n",
      "\u001b[34mdef\u001b[39;49;00m \u001b[32mpredict_fn\u001b[39;49;00m(input_data, model):\r\n",
      "    \u001b[34mprint\u001b[39;49;00m(\u001b[33m'\u001b[39;49;00m\u001b[33mInferring sentiment of input data.\u001b[39;49;00m\u001b[33m'\u001b[39;49;00m)\r\n",
      "\r\n",
      "    device = torch.device(\u001b[33m\"\u001b[39;49;00m\u001b[33mcuda\u001b[39;49;00m\u001b[33m\"\u001b[39;49;00m \u001b[34mif\u001b[39;49;00m torch.cuda.is_available() \u001b[34melse\u001b[39;49;00m \u001b[33m\"\u001b[39;49;00m\u001b[33mcpu\u001b[39;49;00m\u001b[33m\"\u001b[39;49;00m)\r\n",
      "    \r\n",
      "    \u001b[34mif\u001b[39;49;00m model.word_dict \u001b[35mis\u001b[39;49;00m \u001b[36mNone\u001b[39;49;00m:\r\n",
      "        \u001b[34mraise\u001b[39;49;00m \u001b[36mException\u001b[39;49;00m(\u001b[33m'\u001b[39;49;00m\u001b[33mModel has not been loaded properly, no word_dict.\u001b[39;49;00m\u001b[33m'\u001b[39;49;00m)\r\n",
      "    \r\n",
      "    \u001b[37m# TODO: Process input_data so that it is ready to be sent to our model.\u001b[39;49;00m\r\n",
      "    \u001b[37m#       You should produce two variables:\u001b[39;49;00m\r\n",
      "    \u001b[37m#         data_X   - A sequence of length 500 which represents the converted review\u001b[39;49;00m\r\n",
      "    \u001b[37m#         data_len - The length of the review\u001b[39;49;00m\r\n",
      "\r\n",
      "    data_X = \u001b[36mNone\u001b[39;49;00m\r\n",
      "    data_len = \u001b[36mNone\u001b[39;49;00m\r\n",
      "\r\n",
      "    \u001b[37m## added by michael \u001b[39;49;00m\r\n",
      "    words = review_to_words(input_data)\r\n",
      "    data_X, data_len = convert_and_pad(model.word_dict, words)\r\n",
      "    \u001b[37m## end added by michael \u001b[39;49;00m\r\n",
      "\r\n",
      "    \u001b[37m# Using data_X and data_len we construct an appropriate input tensor. Remember\u001b[39;49;00m\r\n",
      "    \u001b[37m# that our model expects input data of the form 'len, review[500]'.\u001b[39;49;00m\r\n",
      "    data_pack = np.hstack((data_len, data_X))\r\n",
      "    data_pack = data_pack.reshape(\u001b[34m1\u001b[39;49;00m, -\u001b[34m1\u001b[39;49;00m)\r\n",
      "    \r\n",
      "    data = torch.from_numpy(data_pack)\r\n",
      "    data = data.to(device)\r\n",
      "\r\n",
      "    \u001b[37m# Make sure to put the model into evaluation mode\u001b[39;49;00m\r\n",
      "    model.eval()\r\n",
      "\r\n",
      "    \u001b[37m# TODO: Compute the result of applying the model to the input data. The variable `result` should\u001b[39;49;00m\r\n",
      "    \u001b[37m#       be a numpy array which contains a single integer which is either 1 or 0\u001b[39;49;00m\r\n",
      "\r\n",
      "    result = \u001b[36mNone\u001b[39;49;00m\r\n",
      "    \r\n",
      "    \u001b[37m## added by michael \u001b[39;49;00m\r\n",
      "    \u001b[34mwith\u001b[39;49;00m torch.no_grad():\r\n",
      "        output = model.forward(data)\r\n",
      "        \r\n",
      "    result = np.round(output.numpy())\r\n",
      "    \u001b[37m## end added by michael \u001b[39;49;00m\r\n",
      "\r\n",
      "    \u001b[34mreturn\u001b[39;49;00m result\r\n"
     ]
    }
   ],
   "source": [
    "!pygmentize serve/predict.py"
   ]
  },
  {
   "cell_type": "markdown",
   "metadata": {},
   "source": [
    "As mentioned earlier, the `model_fn` method is the same as the one provided in the training code and the `input_fn` and `output_fn` methods are very simple and your task will be to complete the `predict_fn` method. Make sure that you save the completed file as `predict.py` in the `serve` directory.\n",
    "\n",
    "**TODO**: Complete the `predict_fn()` method in the `serve/predict.py` file."
   ]
  },
  {
   "cell_type": "markdown",
   "metadata": {},
   "source": [
    "### Deploying the model\n",
    "\n",
    "Now that the custom inference code has been written, we will create and deploy our model. To begin with, we need to construct a new PyTorchModel object which points to the model artifacts created during training and also points to the inference code that we wish to use. Then we can call the deploy method to launch the deployment container.\n",
    "\n",
    "**NOTE**: The default behaviour for a deployed PyTorch model is to assume that any input passed to the predictor is a `numpy` array. In our case we want to send a string so we need to construct a simple wrapper around the `RealTimePredictor` class to accomodate simple strings. In a more complicated situation you may want to provide a serialization object, for example if you wanted to sent image data."
   ]
  },
  {
   "cell_type": "code",
   "execution_count": 47,
   "metadata": {},
   "outputs": [
    {
     "name": "stdout",
     "output_type": "stream",
     "text": [
      "---------------------------------------------------------------------------------------------------!"
     ]
    }
   ],
   "source": [
    "from sagemaker.predictor import RealTimePredictor\n",
    "from sagemaker.pytorch import PyTorchModel\n",
    "\n",
    "class StringPredictor(RealTimePredictor):\n",
    "    def __init__(self, endpoint_name, sagemaker_session):\n",
    "        super(StringPredictor, self).__init__(endpoint_name, sagemaker_session, content_type='text/plain')\n",
    "\n",
    "model = PyTorchModel(model_data=estimator.model_data,\n",
    "                     role = role,\n",
    "                     framework_version='0.4.0',\n",
    "                     entry_point='predict.py',\n",
    "                     source_dir='serve',\n",
    "                     predictor_cls=StringPredictor)\n",
    "predictor = model.deploy(initial_instance_count=1, instance_type='ml.m4.xlarge')"
   ]
  },
  {
   "cell_type": "markdown",
   "metadata": {},
   "source": [
    "### Testing the model\n",
    "\n",
    "Now that we have deployed our model with the custom inference code, we should test to see if everything is working. Here we test our model by loading the first `250` positive and negative reviews and send them to the endpoint, then collect the results. The reason for only sending some of the data is that the amount of time it takes for our model to process the input and then perform inference is quite long and so testing the entire data set would be prohibitive."
   ]
  },
  {
   "cell_type": "code",
   "execution_count": 52,
   "metadata": {},
   "outputs": [],
   "source": [
    "import glob\n",
    "\n",
    "def test_reviews(data_dir='../data/aclImdb', stop=250):\n",
    "    \n",
    "    results = []\n",
    "    ground = []\n",
    "    \n",
    "    # We make sure to test both positive and negative reviews    \n",
    "    for sentiment in ['pos', 'neg']:\n",
    "        \n",
    "        path = os.path.join(data_dir, 'test', sentiment, '*.txt')\n",
    "        files = glob.glob(path)\n",
    "        \n",
    "        files_read = 0\n",
    "        \n",
    "        print('Starting ', sentiment, ' files')\n",
    "        \n",
    "        # Iterate through the files and send them to the predictor\n",
    "        for f in files:\n",
    "            with open(f) as review:\n",
    "                # First, we store the ground truth (was the review positive or negative)\n",
    "                if sentiment == 'pos':\n",
    "                    ground.append(1)\n",
    "                else:\n",
    "                    ground.append(0)\n",
    "                # Read in the review and convert to 'utf-8' for transmission via HTTP\n",
    "                review_input = review.read().encode('utf-8')\n",
    "                # Send the review to the predictor and store the results\n",
    "                results.append(int(float(predictor.predict(review_input))))\n",
    "                \n",
    "        \n",
    "                \n",
    "            # Sending reviews to our endpoint one at a time takes a while so we\n",
    "            # only send a small number of reviews\n",
    "            files_read += 1\n",
    "            if files_read == stop:\n",
    "                break\n",
    "            \n",
    "    return ground, results"
   ]
  },
  {
   "cell_type": "code",
   "execution_count": 53,
   "metadata": {},
   "outputs": [
    {
     "name": "stdout",
     "output_type": "stream",
     "text": [
      "Starting  pos  files\n",
      "Starting  neg  files\n"
     ]
    }
   ],
   "source": [
    "ground, results = test_reviews()"
   ]
  },
  {
   "cell_type": "code",
   "execution_count": 54,
   "metadata": {},
   "outputs": [
    {
     "data": {
      "text/plain": [
       "0.852"
      ]
     },
     "execution_count": 54,
     "metadata": {},
     "output_type": "execute_result"
    }
   ],
   "source": [
    "from sklearn.metrics import accuracy_score\n",
    "accuracy_score(ground, results)"
   ]
  },
  {
   "cell_type": "markdown",
   "metadata": {},
   "source": [
    "As an additional test, we can try sending the `test_review` that we looked at earlier."
   ]
  },
  {
   "cell_type": "code",
   "execution_count": 55,
   "metadata": {},
   "outputs": [
    {
     "data": {
      "text/plain": [
       "b'1.0'"
      ]
     },
     "execution_count": 55,
     "metadata": {},
     "output_type": "execute_result"
    }
   ],
   "source": [
    "predictor.predict(test_review)"
   ]
  },
  {
   "cell_type": "markdown",
   "metadata": {},
   "source": [
    "Now that we know our endpoint is working as expected, we can set up the web page that will interact with it. If you don't have time to finish the project now, make sure to skip down to the end of this notebook and shut down your endpoint. You can deploy it again when you come back."
   ]
  },
  {
   "cell_type": "markdown",
   "metadata": {},
   "source": [
    "## Step 7 (again): Use the model for the web app\n",
    "\n",
    "> **TODO:** This entire section and the next contain tasks for you to complete, mostly using the AWS console.\n",
    "\n",
    "So far we have been accessing our model endpoint by constructing a predictor object which uses the endpoint and then just using the predictor object to perform inference. What if we wanted to create a web app which accessed our model? The way things are set up currently makes that not possible since in order to access a SageMaker endpoint the app would first have to authenticate with AWS using an IAM role which included access to SageMaker endpoints. However, there is an easier way! We just need to use some additional AWS services.\n",
    "\n",
    "<img src=\"Web App Diagram.svg\">\n",
    "\n",
    "The diagram above gives an overview of how the various services will work together. On the far right is the model which we trained above and which is deployed using SageMaker. On the far left is our web app that collects a user's movie review, sends it off and expects a positive or negative sentiment in return.\n",
    "\n",
    "In the middle is where some of the magic happens. We will construct a Lambda function, which you can think of as a straightforward Python function that can be executed whenever a specified event occurs. We will give this function permission to send and recieve data from a SageMaker endpoint.\n",
    "\n",
    "Lastly, the method we will use to execute the Lambda function is a new endpoint that we will create using API Gateway. This endpoint will be a url that listens for data to be sent to it. Once it gets some data it will pass that data on to the Lambda function and then return whatever the Lambda function returns. Essentially it will act as an interface that lets our web app communicate with the Lambda function.\n",
    "\n",
    "### Setting up a Lambda function\n",
    "\n",
    "The first thing we are going to do is set up a Lambda function. This Lambda function will be executed whenever our public API has data sent to it. When it is executed it will receive the data, perform any sort of processing that is required, send the data (the review) to the SageMaker endpoint we've created and then return the result.\n",
    "\n",
    "#### Part A: Create an IAM Role for the Lambda function\n",
    "\n",
    "Since we want the Lambda function to call a SageMaker endpoint, we need to make sure that it has permission to do so. To do this, we will construct a role that we can later give the Lambda function.\n",
    "\n",
    "Using the AWS Console, navigate to the **IAM** page and click on **Roles**. Then, click on **Create role**. Make sure that the **AWS service** is the type of trusted entity selected and choose **Lambda** as the service that will use this role, then click **Next: Permissions**.\n",
    "\n",
    "In the search box type `sagemaker` and select the check box next to the **AmazonSageMakerFullAccess** policy. Then, click on **Next: Review**.\n",
    "\n",
    "Lastly, give this role a name. Make sure you use a name that you will remember later on, for example `LambdaSageMakerRole`. Then, click on **Create role**.\n",
    "\n",
    "#### Part B: Create a Lambda function\n",
    "\n",
    "Now it is time to actually create the Lambda function.\n",
    "\n",
    "Using the AWS Console, navigate to the AWS Lambda page and click on **Create a function**. When you get to the next page, make sure that **Author from scratch** is selected. Now, name your Lambda function, using a name that you will remember later on, for example `sentiment_analysis_func`. Make sure that the **Python 3.6** runtime is selected and then choose the role that you created in the previous part. Then, click on **Create Function**.\n",
    "\n",
    "On the next page you will see some information about the Lambda function you've just created. If you scroll down you should see an editor in which you can write the code that will be executed when your Lambda function is triggered. In our example, we will use the code below. \n",
    "\n",
    "```python\n",
    "# We need to use the low-level library to interact with SageMaker since the SageMaker API\n",
    "# is not available natively through Lambda.\n",
    "import boto3\n",
    "\n",
    "def lambda_handler(event, context):\n",
    "\n",
    "    # The SageMaker runtime is what allows us to invoke the endpoint that we've created.\n",
    "    runtime = boto3.Session().client('sagemaker-runtime')\n",
    "\n",
    "    # Now we use the SageMaker runtime to invoke our endpoint, sending the review we were given\n",
    "    response = runtime.invoke_endpoint(EndpointName = '**ENDPOINT NAME HERE**',    # The name of the endpoint we created\n",
    "                                       ContentType = 'text/plain',                 # The data format that is expected\n",
    "                                       Body = event['body'])                       # The actual review\n",
    "\n",
    "    # The response is an HTTP response whose body contains the result of our inference\n",
    "    result = response['Body'].read().decode('utf-8')\n",
    "\n",
    "    return {\n",
    "        'statusCode' : 200,\n",
    "        'headers' : { 'Content-Type' : 'text/plain', 'Access-Control-Allow-Origin' : '*' },\n",
    "        'body' : result\n",
    "    }\n",
    "```\n",
    "\n",
    "Once you have copy and pasted the code above into the Lambda code editor, replace the `**ENDPOINT NAME HERE**` portion with the name of the endpoint that we deployed earlier. You can determine the name of the endpoint using the code cell below."
   ]
  },
  {
   "cell_type": "code",
   "execution_count": 41,
   "metadata": {},
   "outputs": [
    {
     "data": {
      "text/plain": [
       "'sagemaker-pytorch-2019-06-30-15-19-43-743'"
      ]
     },
     "execution_count": 41,
     "metadata": {},
     "output_type": "execute_result"
    }
   ],
   "source": [
    "predictor.endpoint"
   ]
  },
  {
   "cell_type": "markdown",
   "metadata": {},
   "source": [
    "Once you have added the endpoint name to the Lambda function, click on **Save**. Your Lambda function is now up and running. Next we need to create a way for our web app to execute the Lambda function.\n",
    "\n",
    "### Setting up API Gateway\n",
    "\n",
    "Now that our Lambda function is set up, it is time to create a new API using API Gateway that will trigger the Lambda function we have just created.\n",
    "\n",
    "Using AWS Console, navigate to **Amazon API Gateway** and then click on **Get started**.\n",
    "\n",
    "On the next page, make sure that **New API** is selected and give the new api a name, for example, `sentiment_analysis_api`. Then, click on **Create API**.\n",
    "\n",
    "Now we have created an API, however it doesn't currently do anything. What we want it to do is to trigger the Lambda function that we created earlier.\n",
    "\n",
    "Select the **Actions** dropdown menu and click **Create Method**. A new blank method will be created, select its dropdown menu and select **POST**, then click on the check mark beside it.\n",
    "\n",
    "For the integration point, make sure that **Lambda Function** is selected and click on the **Use Lambda Proxy integration**. This option makes sure that the data that is sent to the API is then sent directly to the Lambda function with no processing. It also means that the return value must be a proper response object as it will also not be processed by API Gateway.\n",
    "\n",
    "Type the name of the Lambda function you created earlier into the **Lambda Function** text entry box and then click on **Save**. Click on **OK** in the pop-up box that then appears, giving permission to API Gateway to invoke the Lambda function you created.\n",
    "\n",
    "The last step in creating the API Gateway is to select the **Actions** dropdown and click on **Deploy API**. You will need to create a new Deployment stage and name it anything you like, for example `prod`.\n",
    "\n",
    "You have now successfully set up a public API to access your SageMaker model. Make sure to copy or write down the URL provided to invoke your newly created public API as this will be needed in the next step. This URL can be found at the top of the page, highlighted in blue next to the text **Invoke URL**."
   ]
  },
  {
   "cell_type": "markdown",
   "metadata": {},
   "source": [
    "## Step 4: Deploying our web app\n",
    "\n",
    "Now that we have a publicly available API, we can start using it in a web app. For our purposes, we have provided a simple static html file which can make use of the public api you created earlier.\n",
    "\n",
    "In the `website` folder there should be a file called `index.html`. Download the file to your computer and open that file up in a text editor of your choice. There should be a line which contains **\\*\\*REPLACE WITH PUBLIC API URL\\*\\***. Replace this string with the url that you wrote down in the last step and then save the file.\n",
    "\n",
    "Now, if you open `index.html` on your local computer, your browser will behave as a local web server and you can use the provided site to interact with your SageMaker model.\n",
    "\n",
    "If you'd like to go further, you can host this html file anywhere you'd like, for example using github or hosting a static site on Amazon's S3. Once you have done this you can share the link with anyone you'd like and have them play with it too!\n",
    "\n",
    "> **Important Note** In order for the web app to communicate with the SageMaker endpoint, the endpoint has to actually be deployed and running. This means that you are paying for it. Make sure that the endpoint is running when you want to use the web app but that you shut it down when you don't need it, otherwise you will end up with a surprisingly large AWS bill.\n",
    "\n",
    "**TODO:** Make sure that you include the edited `index.html` file in your project submission."
   ]
  },
  {
   "cell_type": "markdown",
   "metadata": {},
   "source": [
    "Now that your web app is working, trying playing around with it and see how well it works.\n",
    "\n",
    "**Question**: Give an example of a review that you entered into your web app. What was the predicted sentiment of your example review?"
   ]
  },
  {
   "cell_type": "markdown",
   "metadata": {},
   "source": [
    "**Answer:**\n",
    "\n",
    "I selected reviews of Toy Story 4 from IMDB, and tested the model prediciton. A 10-star review is predicted as positive, while 1-star negative, as shown below. \n",
    "\n",
    "![positive review](toystory4_positive.jpg)\n",
    "\n",
    "\n",
    "![negative review](toystory4_negative.jpg)\n",
    "\n"
   ]
  },
  {
   "cell_type": "markdown",
   "metadata": {},
   "source": [
    "### Delete the endpoint\n",
    "\n",
    "Remember to always shut down your endpoint if you are no longer using it. You are charged for the length of time that the endpoint is running so if you forget and leave it on you could end up with an unexpectedly large bill."
   ]
  },
  {
   "cell_type": "code",
   "execution_count": 56,
   "metadata": {},
   "outputs": [],
   "source": [
    "predictor.delete_endpoint()"
   ]
  },
  {
   "cell_type": "code",
   "execution_count": null,
   "metadata": {},
   "outputs": [],
   "source": []
  }
 ],
 "metadata": {
  "kernelspec": {
   "display_name": "Python 3",
   "language": "python",
   "name": "python3"
  },
  "language_info": {
   "codemirror_mode": {
    "name": "ipython",
    "version": 3
   },
   "file_extension": ".py",
   "mimetype": "text/x-python",
   "name": "python",
   "nbconvert_exporter": "python",
   "pygments_lexer": "ipython3",
   "version": "3.7.3"
  }
 },
 "nbformat": 4,
 "nbformat_minor": 2
}
